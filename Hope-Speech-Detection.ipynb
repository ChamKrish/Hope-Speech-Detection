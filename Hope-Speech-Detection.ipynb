{
  "cells": [
    {
      "cell_type": "markdown",
      "metadata": {
        "id": "view-in-github",
        "colab_type": "text"
      },
      "source": [
        "<a href=\"https://colab.research.google.com/github/ChamKrish/Hope-Speech-Detection/blob/main/Hope-Speech-Detection.ipynb\" target=\"_parent\"><img src=\"https://colab.research.google.com/assets/colab-badge.svg\" alt=\"Open In Colab\"/></a>"
      ]
    },
    {
      "cell_type": "markdown",
      "metadata": {
        "id": "tN3hU3CapVvS"
      },
      "source": [
        "# Import Libraries"
      ]
    },
    {
      "cell_type": "code",
      "execution_count": 1,
      "metadata": {
        "colab": {
          "base_uri": "https://localhost:8080/"
        },
        "id": "pq5aATrJzBi-",
        "outputId": "35b2af99-cd37-4cba-cacc-76e7e45b9497"
      },
      "outputs": [
        {
          "output_type": "stream",
          "name": "stdout",
          "text": [
            "Collecting emoji\n",
            "  Downloading emoji-1.7.0.tar.gz (175 kB)\n",
            "\u001b[K     |████████████████████████████████| 175 kB 3.2 MB/s \n",
            "\u001b[?25hBuilding wheels for collected packages: emoji\n",
            "  Building wheel for emoji (setup.py) ... \u001b[?25l\u001b[?25hdone\n",
            "  Created wheel for emoji: filename=emoji-1.7.0-py3-none-any.whl size=171046 sha256=c1052562327bd2da97b3cf19b95c4ff9dd33bf626621fb26b22e7846830de46a\n",
            "  Stored in directory: /root/.cache/pip/wheels/8a/4e/b6/57b01db010d17ef6ea9b40300af725ef3e210cb1acfb7ac8b6\n",
            "Successfully built emoji\n",
            "Installing collected packages: emoji\n",
            "Successfully installed emoji-1.7.0\n"
          ]
        }
      ],
      "source": [
        "!pip install emoji"
      ]
    },
    {
      "cell_type": "code",
      "execution_count": 2,
      "metadata": {
        "colab": {
          "base_uri": "https://localhost:8080/"
        },
        "id": "ScfCJvytluwL",
        "outputId": "75c7ad89-72d3-489a-9cfa-1ad3e7e39c99"
      },
      "outputs": [
        {
          "output_type": "stream",
          "name": "stdout",
          "text": [
            "[nltk_data] Downloading package stopwords to /root/nltk_data...\n",
            "[nltk_data]   Unzipping corpora/stopwords.zip.\n",
            "[nltk_data] Downloading package punkt to /root/nltk_data...\n",
            "[nltk_data]   Unzipping tokenizers/punkt.zip.\n"
          ]
        }
      ],
      "source": [
        "import numpy as np\n",
        "import pandas as pd\n",
        "from matplotlib import pyplot as plt\n",
        "import emoji\n",
        "import re\n",
        "from string import digits\n",
        "import nltk\n",
        "from nltk.corpus import stopwords\n",
        "nltk.download('stopwords')\n",
        "nltk.download('punkt')\n",
        "from nltk.tokenize import word_tokenize\n",
        "from nltk.stem import PorterStemmer\n",
        "from sklearn.feature_extraction.text import TfidfVectorizer\n",
        "from sklearn.linear_model import LogisticRegression\n",
        "from sklearn.metrics import accuracy_score, f1_score, confusion_matrix, classification_report\n",
        "from sklearn.model_selection import GridSearchCV\n",
        "from sklearn.naive_bayes import MultinomialNB\n",
        "from sklearn.svm import SVC\n",
        "from sklearn.ensemble import RandomForestClassifier, VotingClassifier\n",
        "from sklearn.metrics import ConfusionMatrixDisplay, confusion_matrix"
      ]
    },
    {
      "cell_type": "markdown",
      "metadata": {
        "id": "MM-kTZHZuDes"
      },
      "source": [
        "# Data Loading"
      ]
    },
    {
      "cell_type": "code",
      "execution_count": 3,
      "metadata": {
        "id": "qCK7PWFqKxxn"
      },
      "outputs": [],
      "source": [
        "english_hope_train = pd.read_csv('english_hope_train.csv', header=None, names=['texts','label','unnamed'], delimiter='\\t')\n",
        "english_hope_test = pd.read_csv('english_hope_dev.csv', header=None, names=['texts','label','unnamed'], delimiter='\\t')"
      ]
    },
    {
      "cell_type": "code",
      "execution_count": 4,
      "metadata": {
        "colab": {
          "base_uri": "https://localhost:8080/",
          "height": 0
        },
        "id": "ct8YLQDpK96t",
        "outputId": "d1be2529-6006-479f-b431-270c817127d4"
      },
      "outputs": [
        {
          "output_type": "execute_result",
          "data": {
            "text/html": [
              "\n",
              "  <div id=\"df-9dcf8188-ef5e-4bee-8bf5-e5e713410248\">\n",
              "    <div class=\"colab-df-container\">\n",
              "      <div>\n",
              "<style scoped>\n",
              "    .dataframe tbody tr th:only-of-type {\n",
              "        vertical-align: middle;\n",
              "    }\n",
              "\n",
              "    .dataframe tbody tr th {\n",
              "        vertical-align: top;\n",
              "    }\n",
              "\n",
              "    .dataframe thead th {\n",
              "        text-align: right;\n",
              "    }\n",
              "</style>\n",
              "<table border=\"1\" class=\"dataframe\">\n",
              "  <thead>\n",
              "    <tr style=\"text-align: right;\">\n",
              "      <th></th>\n",
              "      <th>texts</th>\n",
              "      <th>label</th>\n",
              "    </tr>\n",
              "  </thead>\n",
              "  <tbody>\n",
              "    <tr>\n",
              "      <th>count</th>\n",
              "      <td>22762</td>\n",
              "      <td>22762</td>\n",
              "    </tr>\n",
              "    <tr>\n",
              "      <th>unique</th>\n",
              "      <td>21779</td>\n",
              "      <td>3</td>\n",
              "    </tr>\n",
              "    <tr>\n",
              "      <th>top</th>\n",
              "      <td>God gave us a choice</td>\n",
              "      <td>Non_hope_speech</td>\n",
              "    </tr>\n",
              "    <tr>\n",
              "      <th>freq</th>\n",
              "      <td>14</td>\n",
              "      <td>20778</td>\n",
              "    </tr>\n",
              "  </tbody>\n",
              "</table>\n",
              "</div>\n",
              "      <button class=\"colab-df-convert\" onclick=\"convertToInteractive('df-9dcf8188-ef5e-4bee-8bf5-e5e713410248')\"\n",
              "              title=\"Convert this dataframe to an interactive table.\"\n",
              "              style=\"display:none;\">\n",
              "        \n",
              "  <svg xmlns=\"http://www.w3.org/2000/svg\" height=\"24px\"viewBox=\"0 0 24 24\"\n",
              "       width=\"24px\">\n",
              "    <path d=\"M0 0h24v24H0V0z\" fill=\"none\"/>\n",
              "    <path d=\"M18.56 5.44l.94 2.06.94-2.06 2.06-.94-2.06-.94-.94-2.06-.94 2.06-2.06.94zm-11 1L8.5 8.5l.94-2.06 2.06-.94-2.06-.94L8.5 2.5l-.94 2.06-2.06.94zm10 10l.94 2.06.94-2.06 2.06-.94-2.06-.94-.94-2.06-.94 2.06-2.06.94z\"/><path d=\"M17.41 7.96l-1.37-1.37c-.4-.4-.92-.59-1.43-.59-.52 0-1.04.2-1.43.59L10.3 9.45l-7.72 7.72c-.78.78-.78 2.05 0 2.83L4 21.41c.39.39.9.59 1.41.59.51 0 1.02-.2 1.41-.59l7.78-7.78 2.81-2.81c.8-.78.8-2.07 0-2.86zM5.41 20L4 18.59l7.72-7.72 1.47 1.35L5.41 20z\"/>\n",
              "  </svg>\n",
              "      </button>\n",
              "      \n",
              "  <style>\n",
              "    .colab-df-container {\n",
              "      display:flex;\n",
              "      flex-wrap:wrap;\n",
              "      gap: 12px;\n",
              "    }\n",
              "\n",
              "    .colab-df-convert {\n",
              "      background-color: #E8F0FE;\n",
              "      border: none;\n",
              "      border-radius: 50%;\n",
              "      cursor: pointer;\n",
              "      display: none;\n",
              "      fill: #1967D2;\n",
              "      height: 32px;\n",
              "      padding: 0 0 0 0;\n",
              "      width: 32px;\n",
              "    }\n",
              "\n",
              "    .colab-df-convert:hover {\n",
              "      background-color: #E2EBFA;\n",
              "      box-shadow: 0px 1px 2px rgba(60, 64, 67, 0.3), 0px 1px 3px 1px rgba(60, 64, 67, 0.15);\n",
              "      fill: #174EA6;\n",
              "    }\n",
              "\n",
              "    [theme=dark] .colab-df-convert {\n",
              "      background-color: #3B4455;\n",
              "      fill: #D2E3FC;\n",
              "    }\n",
              "\n",
              "    [theme=dark] .colab-df-convert:hover {\n",
              "      background-color: #434B5C;\n",
              "      box-shadow: 0px 1px 3px 1px rgba(0, 0, 0, 0.15);\n",
              "      filter: drop-shadow(0px 1px 2px rgba(0, 0, 0, 0.3));\n",
              "      fill: #FFFFFF;\n",
              "    }\n",
              "  </style>\n",
              "\n",
              "      <script>\n",
              "        const buttonEl =\n",
              "          document.querySelector('#df-9dcf8188-ef5e-4bee-8bf5-e5e713410248 button.colab-df-convert');\n",
              "        buttonEl.style.display =\n",
              "          google.colab.kernel.accessAllowed ? 'block' : 'none';\n",
              "\n",
              "        async function convertToInteractive(key) {\n",
              "          const element = document.querySelector('#df-9dcf8188-ef5e-4bee-8bf5-e5e713410248');\n",
              "          const dataTable =\n",
              "            await google.colab.kernel.invokeFunction('convertToInteractive',\n",
              "                                                     [key], {});\n",
              "          if (!dataTable) return;\n",
              "\n",
              "          const docLinkHtml = 'Like what you see? Visit the ' +\n",
              "            '<a target=\"_blank\" href=https://colab.research.google.com/notebooks/data_table.ipynb>data table notebook</a>'\n",
              "            + ' to learn more about interactive tables.';\n",
              "          element.innerHTML = '';\n",
              "          dataTable['output_type'] = 'display_data';\n",
              "          await google.colab.output.renderOutput(dataTable, element);\n",
              "          const docLink = document.createElement('div');\n",
              "          docLink.innerHTML = docLinkHtml;\n",
              "          element.appendChild(docLink);\n",
              "        }\n",
              "      </script>\n",
              "    </div>\n",
              "  </div>\n",
              "  "
            ],
            "text/plain": [
              "                       texts            label\n",
              "count                  22762            22762\n",
              "unique                 21779                3\n",
              "top     God gave us a choice  Non_hope_speech\n",
              "freq                      14            20778"
            ]
          },
          "metadata": {},
          "execution_count": 4
        }
      ],
      "source": [
        "english_hope_train.pop('unnamed')\n",
        "english_hope_test.pop('unnamed')\n",
        "english_hope_train.describe()"
      ]
    },
    {
      "cell_type": "code",
      "execution_count": 5,
      "metadata": {
        "colab": {
          "base_uri": "https://localhost:8080/",
          "height": 0
        },
        "id": "utvFORLYLAO8",
        "outputId": "bc0c3b8b-00e2-41be-8dda-1f9a96e78d5d"
      },
      "outputs": [
        {
          "output_type": "execute_result",
          "data": {
            "text/html": [
              "\n",
              "  <div id=\"df-7d9d6117-97a6-4473-927f-29526ad241e6\">\n",
              "    <div class=\"colab-df-container\">\n",
              "      <div>\n",
              "<style scoped>\n",
              "    .dataframe tbody tr th:only-of-type {\n",
              "        vertical-align: middle;\n",
              "    }\n",
              "\n",
              "    .dataframe tbody tr th {\n",
              "        vertical-align: top;\n",
              "    }\n",
              "\n",
              "    .dataframe thead th {\n",
              "        text-align: right;\n",
              "    }\n",
              "</style>\n",
              "<table border=\"1\" class=\"dataframe\">\n",
              "  <thead>\n",
              "    <tr style=\"text-align: right;\">\n",
              "      <th></th>\n",
              "      <th>texts</th>\n",
              "      <th>label</th>\n",
              "    </tr>\n",
              "  </thead>\n",
              "  <tbody>\n",
              "    <tr>\n",
              "      <th>0</th>\n",
              "      <td>these tiktoks radiate gay chaotic energy and i...</td>\n",
              "      <td>Non_hope_speech</td>\n",
              "    </tr>\n",
              "    <tr>\n",
              "      <th>1</th>\n",
              "      <td>@Champions Again He got killed for using false...</td>\n",
              "      <td>Non_hope_speech</td>\n",
              "    </tr>\n",
              "    <tr>\n",
              "      <th>2</th>\n",
              "      <td>It's not that all lives don't matter</td>\n",
              "      <td>Non_hope_speech</td>\n",
              "    </tr>\n",
              "    <tr>\n",
              "      <th>3</th>\n",
              "      <td>Is it really that difficult to understand? Bla...</td>\n",
              "      <td>Non_hope_speech</td>\n",
              "    </tr>\n",
              "    <tr>\n",
              "      <th>4</th>\n",
              "      <td>Whenever we say black isn't that racists?  Why...</td>\n",
              "      <td>Non_hope_speech</td>\n",
              "    </tr>\n",
              "  </tbody>\n",
              "</table>\n",
              "</div>\n",
              "      <button class=\"colab-df-convert\" onclick=\"convertToInteractive('df-7d9d6117-97a6-4473-927f-29526ad241e6')\"\n",
              "              title=\"Convert this dataframe to an interactive table.\"\n",
              "              style=\"display:none;\">\n",
              "        \n",
              "  <svg xmlns=\"http://www.w3.org/2000/svg\" height=\"24px\"viewBox=\"0 0 24 24\"\n",
              "       width=\"24px\">\n",
              "    <path d=\"M0 0h24v24H0V0z\" fill=\"none\"/>\n",
              "    <path d=\"M18.56 5.44l.94 2.06.94-2.06 2.06-.94-2.06-.94-.94-2.06-.94 2.06-2.06.94zm-11 1L8.5 8.5l.94-2.06 2.06-.94-2.06-.94L8.5 2.5l-.94 2.06-2.06.94zm10 10l.94 2.06.94-2.06 2.06-.94-2.06-.94-.94-2.06-.94 2.06-2.06.94z\"/><path d=\"M17.41 7.96l-1.37-1.37c-.4-.4-.92-.59-1.43-.59-.52 0-1.04.2-1.43.59L10.3 9.45l-7.72 7.72c-.78.78-.78 2.05 0 2.83L4 21.41c.39.39.9.59 1.41.59.51 0 1.02-.2 1.41-.59l7.78-7.78 2.81-2.81c.8-.78.8-2.07 0-2.86zM5.41 20L4 18.59l7.72-7.72 1.47 1.35L5.41 20z\"/>\n",
              "  </svg>\n",
              "      </button>\n",
              "      \n",
              "  <style>\n",
              "    .colab-df-container {\n",
              "      display:flex;\n",
              "      flex-wrap:wrap;\n",
              "      gap: 12px;\n",
              "    }\n",
              "\n",
              "    .colab-df-convert {\n",
              "      background-color: #E8F0FE;\n",
              "      border: none;\n",
              "      border-radius: 50%;\n",
              "      cursor: pointer;\n",
              "      display: none;\n",
              "      fill: #1967D2;\n",
              "      height: 32px;\n",
              "      padding: 0 0 0 0;\n",
              "      width: 32px;\n",
              "    }\n",
              "\n",
              "    .colab-df-convert:hover {\n",
              "      background-color: #E2EBFA;\n",
              "      box-shadow: 0px 1px 2px rgba(60, 64, 67, 0.3), 0px 1px 3px 1px rgba(60, 64, 67, 0.15);\n",
              "      fill: #174EA6;\n",
              "    }\n",
              "\n",
              "    [theme=dark] .colab-df-convert {\n",
              "      background-color: #3B4455;\n",
              "      fill: #D2E3FC;\n",
              "    }\n",
              "\n",
              "    [theme=dark] .colab-df-convert:hover {\n",
              "      background-color: #434B5C;\n",
              "      box-shadow: 0px 1px 3px 1px rgba(0, 0, 0, 0.15);\n",
              "      filter: drop-shadow(0px 1px 2px rgba(0, 0, 0, 0.3));\n",
              "      fill: #FFFFFF;\n",
              "    }\n",
              "  </style>\n",
              "\n",
              "      <script>\n",
              "        const buttonEl =\n",
              "          document.querySelector('#df-7d9d6117-97a6-4473-927f-29526ad241e6 button.colab-df-convert');\n",
              "        buttonEl.style.display =\n",
              "          google.colab.kernel.accessAllowed ? 'block' : 'none';\n",
              "\n",
              "        async function convertToInteractive(key) {\n",
              "          const element = document.querySelector('#df-7d9d6117-97a6-4473-927f-29526ad241e6');\n",
              "          const dataTable =\n",
              "            await google.colab.kernel.invokeFunction('convertToInteractive',\n",
              "                                                     [key], {});\n",
              "          if (!dataTable) return;\n",
              "\n",
              "          const docLinkHtml = 'Like what you see? Visit the ' +\n",
              "            '<a target=\"_blank\" href=https://colab.research.google.com/notebooks/data_table.ipynb>data table notebook</a>'\n",
              "            + ' to learn more about interactive tables.';\n",
              "          element.innerHTML = '';\n",
              "          dataTable['output_type'] = 'display_data';\n",
              "          await google.colab.output.renderOutput(dataTable, element);\n",
              "          const docLink = document.createElement('div');\n",
              "          docLink.innerHTML = docLinkHtml;\n",
              "          element.appendChild(docLink);\n",
              "        }\n",
              "      </script>\n",
              "    </div>\n",
              "  </div>\n",
              "  "
            ],
            "text/plain": [
              "                                               texts            label\n",
              "0  these tiktoks radiate gay chaotic energy and i...  Non_hope_speech\n",
              "1  @Champions Again He got killed for using false...  Non_hope_speech\n",
              "2               It's not that all lives don't matter  Non_hope_speech\n",
              "3  Is it really that difficult to understand? Bla...  Non_hope_speech\n",
              "4  Whenever we say black isn't that racists?  Why...  Non_hope_speech"
            ]
          },
          "metadata": {},
          "execution_count": 5
        }
      ],
      "source": [
        "english_hope_train.head()"
      ]
    },
    {
      "cell_type": "code",
      "execution_count": 6,
      "metadata": {
        "colab": {
          "base_uri": "https://localhost:8080/"
        },
        "id": "sIIOJH7dpeKt",
        "outputId": "22804807-d4e6-42be-d698-d356db908f9e"
      },
      "outputs": [
        {
          "output_type": "execute_result",
          "data": {
            "text/plain": [
              "array(['Non_hope_speech', 'Hope_speech', 'not-English'], dtype=object)"
            ]
          },
          "metadata": {},
          "execution_count": 6
        }
      ],
      "source": [
        "english_labels = english_hope_train['label'].unique()\n",
        "english_labels"
      ]
    },
    {
      "cell_type": "code",
      "execution_count": 7,
      "metadata": {
        "colab": {
          "base_uri": "https://localhost:8080/"
        },
        "id": "KXihndjbL6EH",
        "outputId": "14ee2ca4-1a33-4f3f-99f9-440d7a34205f"
      },
      "outputs": [
        {
          "output_type": "execute_result",
          "data": {
            "text/plain": [
              "array(['these tiktoks radiate gay chaotic energy and i love it',\n",
              "       'Non_hope_speech'], dtype=object)"
            ]
          },
          "metadata": {},
          "execution_count": 7
        }
      ],
      "source": [
        "english_hope_train.to_numpy()[0]"
      ]
    },
    {
      "cell_type": "code",
      "execution_count": 8,
      "metadata": {
        "colab": {
          "base_uri": "https://localhost:8080/"
        },
        "id": "R-lpV-FAIO_e",
        "outputId": "7ca858d2-a873-49de-ab47-4b67d6a3d55e"
      },
      "outputs": [
        {
          "output_type": "execute_result",
          "data": {
            "text/plain": [
              "texts    0\n",
              "label    0\n",
              "dtype: int64"
            ]
          },
          "metadata": {},
          "execution_count": 8
        }
      ],
      "source": [
        "english_hope_train.isnull().sum()"
      ]
    },
    {
      "cell_type": "code",
      "execution_count": 9,
      "metadata": {
        "id": "v3nON6vV9hty"
      },
      "outputs": [],
      "source": [
        "tamil_hope_train = pd.read_csv('tamil_hope_first_train.csv', header=None, names=['texts','label','unnamed'], delimiter='\\t')\n",
        "tamil_hope_test = pd.read_csv('tamil_hope_first_dev.csv', header=None, names=['texts','label','unnamed'], delimiter='\\t')"
      ]
    },
    {
      "cell_type": "code",
      "execution_count": 10,
      "metadata": {
        "colab": {
          "base_uri": "https://localhost:8080/",
          "height": 0
        },
        "id": "j4aXiIRE955W",
        "outputId": "e9016845-ad0a-4bff-a491-41a82aa85697"
      },
      "outputs": [
        {
          "output_type": "execute_result",
          "data": {
            "text/html": [
              "\n",
              "  <div id=\"df-ffdd6af7-18ba-4acd-956c-34e24fb3250a\">\n",
              "    <div class=\"colab-df-container\">\n",
              "      <div>\n",
              "<style scoped>\n",
              "    .dataframe tbody tr th:only-of-type {\n",
              "        vertical-align: middle;\n",
              "    }\n",
              "\n",
              "    .dataframe tbody tr th {\n",
              "        vertical-align: top;\n",
              "    }\n",
              "\n",
              "    .dataframe thead th {\n",
              "        text-align: right;\n",
              "    }\n",
              "</style>\n",
              "<table border=\"1\" class=\"dataframe\">\n",
              "  <thead>\n",
              "    <tr style=\"text-align: right;\">\n",
              "      <th></th>\n",
              "      <th>texts</th>\n",
              "      <th>label</th>\n",
              "    </tr>\n",
              "  </thead>\n",
              "  <tbody>\n",
              "    <tr>\n",
              "      <th>count</th>\n",
              "      <td>16160</td>\n",
              "      <td>16160</td>\n",
              "    </tr>\n",
              "    <tr>\n",
              "      <th>unique</th>\n",
              "      <td>15407</td>\n",
              "      <td>3</td>\n",
              "    </tr>\n",
              "    <tr>\n",
              "      <th>top</th>\n",
              "      <td>MG squad</td>\n",
              "      <td>Non_hope_speech</td>\n",
              "    </tr>\n",
              "    <tr>\n",
              "      <th>freq</th>\n",
              "      <td>113</td>\n",
              "      <td>7872</td>\n",
              "    </tr>\n",
              "  </tbody>\n",
              "</table>\n",
              "</div>\n",
              "      <button class=\"colab-df-convert\" onclick=\"convertToInteractive('df-ffdd6af7-18ba-4acd-956c-34e24fb3250a')\"\n",
              "              title=\"Convert this dataframe to an interactive table.\"\n",
              "              style=\"display:none;\">\n",
              "        \n",
              "  <svg xmlns=\"http://www.w3.org/2000/svg\" height=\"24px\"viewBox=\"0 0 24 24\"\n",
              "       width=\"24px\">\n",
              "    <path d=\"M0 0h24v24H0V0z\" fill=\"none\"/>\n",
              "    <path d=\"M18.56 5.44l.94 2.06.94-2.06 2.06-.94-2.06-.94-.94-2.06-.94 2.06-2.06.94zm-11 1L8.5 8.5l.94-2.06 2.06-.94-2.06-.94L8.5 2.5l-.94 2.06-2.06.94zm10 10l.94 2.06.94-2.06 2.06-.94-2.06-.94-.94-2.06-.94 2.06-2.06.94z\"/><path d=\"M17.41 7.96l-1.37-1.37c-.4-.4-.92-.59-1.43-.59-.52 0-1.04.2-1.43.59L10.3 9.45l-7.72 7.72c-.78.78-.78 2.05 0 2.83L4 21.41c.39.39.9.59 1.41.59.51 0 1.02-.2 1.41-.59l7.78-7.78 2.81-2.81c.8-.78.8-2.07 0-2.86zM5.41 20L4 18.59l7.72-7.72 1.47 1.35L5.41 20z\"/>\n",
              "  </svg>\n",
              "      </button>\n",
              "      \n",
              "  <style>\n",
              "    .colab-df-container {\n",
              "      display:flex;\n",
              "      flex-wrap:wrap;\n",
              "      gap: 12px;\n",
              "    }\n",
              "\n",
              "    .colab-df-convert {\n",
              "      background-color: #E8F0FE;\n",
              "      border: none;\n",
              "      border-radius: 50%;\n",
              "      cursor: pointer;\n",
              "      display: none;\n",
              "      fill: #1967D2;\n",
              "      height: 32px;\n",
              "      padding: 0 0 0 0;\n",
              "      width: 32px;\n",
              "    }\n",
              "\n",
              "    .colab-df-convert:hover {\n",
              "      background-color: #E2EBFA;\n",
              "      box-shadow: 0px 1px 2px rgba(60, 64, 67, 0.3), 0px 1px 3px 1px rgba(60, 64, 67, 0.15);\n",
              "      fill: #174EA6;\n",
              "    }\n",
              "\n",
              "    [theme=dark] .colab-df-convert {\n",
              "      background-color: #3B4455;\n",
              "      fill: #D2E3FC;\n",
              "    }\n",
              "\n",
              "    [theme=dark] .colab-df-convert:hover {\n",
              "      background-color: #434B5C;\n",
              "      box-shadow: 0px 1px 3px 1px rgba(0, 0, 0, 0.15);\n",
              "      filter: drop-shadow(0px 1px 2px rgba(0, 0, 0, 0.3));\n",
              "      fill: #FFFFFF;\n",
              "    }\n",
              "  </style>\n",
              "\n",
              "      <script>\n",
              "        const buttonEl =\n",
              "          document.querySelector('#df-ffdd6af7-18ba-4acd-956c-34e24fb3250a button.colab-df-convert');\n",
              "        buttonEl.style.display =\n",
              "          google.colab.kernel.accessAllowed ? 'block' : 'none';\n",
              "\n",
              "        async function convertToInteractive(key) {\n",
              "          const element = document.querySelector('#df-ffdd6af7-18ba-4acd-956c-34e24fb3250a');\n",
              "          const dataTable =\n",
              "            await google.colab.kernel.invokeFunction('convertToInteractive',\n",
              "                                                     [key], {});\n",
              "          if (!dataTable) return;\n",
              "\n",
              "          const docLinkHtml = 'Like what you see? Visit the ' +\n",
              "            '<a target=\"_blank\" href=https://colab.research.google.com/notebooks/data_table.ipynb>data table notebook</a>'\n",
              "            + ' to learn more about interactive tables.';\n",
              "          element.innerHTML = '';\n",
              "          dataTable['output_type'] = 'display_data';\n",
              "          await google.colab.output.renderOutput(dataTable, element);\n",
              "          const docLink = document.createElement('div');\n",
              "          docLink.innerHTML = docLinkHtml;\n",
              "          element.appendChild(docLink);\n",
              "        }\n",
              "      </script>\n",
              "    </div>\n",
              "  </div>\n",
              "  "
            ],
            "text/plain": [
              "           texts            label\n",
              "count      16160            16160\n",
              "unique     15407                3\n",
              "top     MG squad  Non_hope_speech\n",
              "freq         113             7872"
            ]
          },
          "metadata": {},
          "execution_count": 10
        }
      ],
      "source": [
        "tamil_hope_train.pop('unnamed')\n",
        "tamil_hope_test.pop('unnamed')\n",
        "tamil_hope_train.describe()"
      ]
    },
    {
      "cell_type": "code",
      "execution_count": 11,
      "metadata": {
        "colab": {
          "base_uri": "https://localhost:8080/",
          "height": 0
        },
        "id": "brPcuniD95uf",
        "outputId": "7e748913-54e0-450d-dc63-63f8caaa0d4a"
      },
      "outputs": [
        {
          "output_type": "execute_result",
          "data": {
            "text/html": [
              "\n",
              "  <div id=\"df-04b7d07d-0764-4a10-8177-9933695a3db2\">\n",
              "    <div class=\"colab-df-container\">\n",
              "      <div>\n",
              "<style scoped>\n",
              "    .dataframe tbody tr th:only-of-type {\n",
              "        vertical-align: middle;\n",
              "    }\n",
              "\n",
              "    .dataframe tbody tr th {\n",
              "        vertical-align: top;\n",
              "    }\n",
              "\n",
              "    .dataframe thead th {\n",
              "        text-align: right;\n",
              "    }\n",
              "</style>\n",
              "<table border=\"1\" class=\"dataframe\">\n",
              "  <thead>\n",
              "    <tr style=\"text-align: right;\">\n",
              "      <th></th>\n",
              "      <th>texts</th>\n",
              "      <th>label</th>\n",
              "    </tr>\n",
              "  </thead>\n",
              "  <tbody>\n",
              "    <tr>\n",
              "      <th>0</th>\n",
              "      <td>Realme india product</td>\n",
              "      <td>not-Tamil</td>\n",
              "    </tr>\n",
              "    <tr>\n",
              "      <th>1</th>\n",
              "      <td>I also don't have tiktok hello and allnBut I'm...</td>\n",
              "      <td>Hope_speech</td>\n",
              "    </tr>\n",
              "    <tr>\n",
              "      <th>2</th>\n",
              "      <td>Thalaivare..neengale inum one plus mobile vach...</td>\n",
              "      <td>Non_hope_speech</td>\n",
              "    </tr>\n",
              "    <tr>\n",
              "      <th>3</th>\n",
              "      <td>Annee varanda thondai.. corona virus affect pa...</td>\n",
              "      <td>Hope_speech</td>\n",
              "    </tr>\n",
              "    <tr>\n",
              "      <th>4</th>\n",
              "      <td>5views but 18likes</td>\n",
              "      <td>Non_hope_speech</td>\n",
              "    </tr>\n",
              "  </tbody>\n",
              "</table>\n",
              "</div>\n",
              "      <button class=\"colab-df-convert\" onclick=\"convertToInteractive('df-04b7d07d-0764-4a10-8177-9933695a3db2')\"\n",
              "              title=\"Convert this dataframe to an interactive table.\"\n",
              "              style=\"display:none;\">\n",
              "        \n",
              "  <svg xmlns=\"http://www.w3.org/2000/svg\" height=\"24px\"viewBox=\"0 0 24 24\"\n",
              "       width=\"24px\">\n",
              "    <path d=\"M0 0h24v24H0V0z\" fill=\"none\"/>\n",
              "    <path d=\"M18.56 5.44l.94 2.06.94-2.06 2.06-.94-2.06-.94-.94-2.06-.94 2.06-2.06.94zm-11 1L8.5 8.5l.94-2.06 2.06-.94-2.06-.94L8.5 2.5l-.94 2.06-2.06.94zm10 10l.94 2.06.94-2.06 2.06-.94-2.06-.94-.94-2.06-.94 2.06-2.06.94z\"/><path d=\"M17.41 7.96l-1.37-1.37c-.4-.4-.92-.59-1.43-.59-.52 0-1.04.2-1.43.59L10.3 9.45l-7.72 7.72c-.78.78-.78 2.05 0 2.83L4 21.41c.39.39.9.59 1.41.59.51 0 1.02-.2 1.41-.59l7.78-7.78 2.81-2.81c.8-.78.8-2.07 0-2.86zM5.41 20L4 18.59l7.72-7.72 1.47 1.35L5.41 20z\"/>\n",
              "  </svg>\n",
              "      </button>\n",
              "      \n",
              "  <style>\n",
              "    .colab-df-container {\n",
              "      display:flex;\n",
              "      flex-wrap:wrap;\n",
              "      gap: 12px;\n",
              "    }\n",
              "\n",
              "    .colab-df-convert {\n",
              "      background-color: #E8F0FE;\n",
              "      border: none;\n",
              "      border-radius: 50%;\n",
              "      cursor: pointer;\n",
              "      display: none;\n",
              "      fill: #1967D2;\n",
              "      height: 32px;\n",
              "      padding: 0 0 0 0;\n",
              "      width: 32px;\n",
              "    }\n",
              "\n",
              "    .colab-df-convert:hover {\n",
              "      background-color: #E2EBFA;\n",
              "      box-shadow: 0px 1px 2px rgba(60, 64, 67, 0.3), 0px 1px 3px 1px rgba(60, 64, 67, 0.15);\n",
              "      fill: #174EA6;\n",
              "    }\n",
              "\n",
              "    [theme=dark] .colab-df-convert {\n",
              "      background-color: #3B4455;\n",
              "      fill: #D2E3FC;\n",
              "    }\n",
              "\n",
              "    [theme=dark] .colab-df-convert:hover {\n",
              "      background-color: #434B5C;\n",
              "      box-shadow: 0px 1px 3px 1px rgba(0, 0, 0, 0.15);\n",
              "      filter: drop-shadow(0px 1px 2px rgba(0, 0, 0, 0.3));\n",
              "      fill: #FFFFFF;\n",
              "    }\n",
              "  </style>\n",
              "\n",
              "      <script>\n",
              "        const buttonEl =\n",
              "          document.querySelector('#df-04b7d07d-0764-4a10-8177-9933695a3db2 button.colab-df-convert');\n",
              "        buttonEl.style.display =\n",
              "          google.colab.kernel.accessAllowed ? 'block' : 'none';\n",
              "\n",
              "        async function convertToInteractive(key) {\n",
              "          const element = document.querySelector('#df-04b7d07d-0764-4a10-8177-9933695a3db2');\n",
              "          const dataTable =\n",
              "            await google.colab.kernel.invokeFunction('convertToInteractive',\n",
              "                                                     [key], {});\n",
              "          if (!dataTable) return;\n",
              "\n",
              "          const docLinkHtml = 'Like what you see? Visit the ' +\n",
              "            '<a target=\"_blank\" href=https://colab.research.google.com/notebooks/data_table.ipynb>data table notebook</a>'\n",
              "            + ' to learn more about interactive tables.';\n",
              "          element.innerHTML = '';\n",
              "          dataTable['output_type'] = 'display_data';\n",
              "          await google.colab.output.renderOutput(dataTable, element);\n",
              "          const docLink = document.createElement('div');\n",
              "          docLink.innerHTML = docLinkHtml;\n",
              "          element.appendChild(docLink);\n",
              "        }\n",
              "      </script>\n",
              "    </div>\n",
              "  </div>\n",
              "  "
            ],
            "text/plain": [
              "                                               texts            label\n",
              "0                               Realme india product        not-Tamil\n",
              "1  I also don't have tiktok hello and allnBut I'm...      Hope_speech\n",
              "2  Thalaivare..neengale inum one plus mobile vach...  Non_hope_speech\n",
              "3  Annee varanda thondai.. corona virus affect pa...      Hope_speech\n",
              "4                                 5views but 18likes  Non_hope_speech"
            ]
          },
          "metadata": {},
          "execution_count": 11
        }
      ],
      "source": [
        "tamil_hope_train.head()"
      ]
    },
    {
      "cell_type": "code",
      "execution_count": 12,
      "metadata": {
        "colab": {
          "base_uri": "https://localhost:8080/"
        },
        "id": "t8h67Uby-xk5",
        "outputId": "3609fdc0-d9d8-407d-ff75-7552de20427f"
      },
      "outputs": [
        {
          "output_type": "execute_result",
          "data": {
            "text/plain": [
              "array(['Non_hope_speech', 'Hope_speech', 'not-Tamil'], dtype=object)"
            ]
          },
          "metadata": {},
          "execution_count": 12
        }
      ],
      "source": [
        "tamil_labels = tamil_hope_train['label'].unique()[::-1]\n",
        "tamil_labels"
      ]
    },
    {
      "cell_type": "markdown",
      "metadata": {
        "id": "SIPE1v-MuNhl"
      },
      "source": [
        "# Data Preprocessing"
      ]
    },
    {
      "cell_type": "code",
      "execution_count": 13,
      "metadata": {
        "id": "WUoapnDv3jR6"
      },
      "outputs": [],
      "source": [
        "def preprocess(text):\n",
        "  text = emoji.get_emoji_regexp().sub(r'',  re.sub(r'[^\\w\\s]', '',text.lower()))\n",
        "  stops = stopwords.words()\n",
        "  tokens = word_tokenize(text)\n",
        "  words = [word for word in tokens if word not in stops]\n",
        "  ps = PorterStemmer()\n",
        "  return ' '.join([ps.stem(word) for word in words])"
      ]
    },
    {
      "cell_type": "code",
      "execution_count": 14,
      "metadata": {
        "colab": {
          "base_uri": "https://localhost:8080/"
        },
        "id": "zWDhIcm9NwJH",
        "outputId": "5e4c7223-ccd6-4efa-d918-25f5ce2bed89"
      },
      "outputs": [
        {
          "output_type": "stream",
          "name": "stderr",
          "text": [
            "/usr/local/lib/python3.7/dist-packages/ipykernel_launcher.py:2: DeprecationWarning: 'emoji.get_emoji_regexp()' is deprecated and will be removed in version 2.0.0. If you want to remove emoji from a string, consider the method emoji.replace_emoji(str, replace='').\n",
            "To hide this warning, pin/downgrade the package to 'emoji~=1.6.3'\n",
            "  \n"
          ]
        }
      ],
      "source": [
        "english_hope_train[\"texts\"] = english_hope_train[\"texts\"].apply(lambda text: preprocess(text))\n",
        "english_hope_test[\"texts\"] = english_hope_test[\"texts\"].apply(lambda text: preprocess(text))"
      ]
    },
    {
      "cell_type": "code",
      "execution_count": 15,
      "metadata": {
        "colab": {
          "base_uri": "https://localhost:8080/"
        },
        "id": "60b6cw4nB5VH",
        "outputId": "9698663b-1981-4c9e-b371-065fa6ce0f9b"
      },
      "outputs": [
        {
          "output_type": "execute_result",
          "data": {
            "text/plain": [
              "array(['Non_hope_speech', 'Hope_speech', 'not-English'], dtype=object)"
            ]
          },
          "metadata": {},
          "execution_count": 15
        }
      ],
      "source": [
        "english_labels"
      ]
    },
    {
      "cell_type": "code",
      "execution_count": 16,
      "metadata": {
        "id": "Wy1D2_CIB2py"
      },
      "outputs": [],
      "source": [
        "english_hope_train[\"enc_label\"] = english_hope_train[\"label\"].map({'Non_hope_speech': 0, 'Hope_speech': 1, 'not-English': 2})\n",
        "english_hope_test[\"enc_label\"] = english_hope_test[\"label\"].map({'Non_hope_speech': 0, 'Hope_speech': 1, 'not-English': 2})"
      ]
    },
    {
      "cell_type": "code",
      "execution_count": 17,
      "metadata": {
        "colab": {
          "base_uri": "https://localhost:8080/"
        },
        "id": "YktqQRhq_DlK",
        "outputId": "4f009c0a-7ed5-419c-a9f1-3a3a7fdb885b"
      },
      "outputs": [
        {
          "output_type": "stream",
          "name": "stderr",
          "text": [
            "/usr/local/lib/python3.7/dist-packages/ipykernel_launcher.py:2: DeprecationWarning: 'emoji.get_emoji_regexp()' is deprecated and will be removed in version 2.0.0. If you want to remove emoji from a string, consider the method emoji.replace_emoji(str, replace='').\n",
            "To hide this warning, pin/downgrade the package to 'emoji~=1.6.3'\n",
            "  \n"
          ]
        }
      ],
      "source": [
        "tamil_hope_train[\"texts\"] = tamil_hope_train[\"texts\"].apply(lambda text: preprocess(text))\n",
        "tamil_hope_test[\"texts\"] = tamil_hope_test[\"texts\"].apply(lambda text: preprocess(text))"
      ]
    },
    {
      "cell_type": "code",
      "execution_count": 18,
      "metadata": {
        "colab": {
          "base_uri": "https://localhost:8080/"
        },
        "id": "VO2M9sh-ClyA",
        "outputId": "41a738d5-8bbe-44b8-8924-ea2cfd1ce114"
      },
      "outputs": [
        {
          "output_type": "execute_result",
          "data": {
            "text/plain": [
              "array(['Non_hope_speech', 'Hope_speech', 'not-Tamil'], dtype=object)"
            ]
          },
          "metadata": {},
          "execution_count": 18
        }
      ],
      "source": [
        "tamil_labels"
      ]
    },
    {
      "cell_type": "code",
      "execution_count": 19,
      "metadata": {
        "id": "2Z8O5LdXCj9S"
      },
      "outputs": [],
      "source": [
        "tamil_hope_train[\"enc_label\"] = tamil_hope_train[\"label\"].map({'Non_hope_speech': 0, 'Hope_speech': 1, 'not-Tamil': 2})\n",
        "tamil_hope_test[\"enc_label\"] = tamil_hope_test[\"label\"].map({'Non_hope_speech': 0, 'Hope_speech': 1, 'not-Tamil': 2})"
      ]
    },
    {
      "cell_type": "code",
      "execution_count": 20,
      "metadata": {
        "colab": {
          "base_uri": "https://localhost:8080/"
        },
        "id": "bMqENz77HARh",
        "outputId": "9587cb52-285e-49f2-a66e-d933ab57c900"
      },
      "outputs": [
        {
          "output_type": "execute_result",
          "data": {
            "text/plain": [
              "{'english_scores': {}, 'tamil_scores': {}}"
            ]
          },
          "metadata": {},
          "execution_count": 20
        }
      ],
      "source": [
        "scores = {'english_scores': {}, 'tamil_scores': {}}\n",
        "scores"
      ]
    },
    {
      "cell_type": "markdown",
      "metadata": {
        "id": "c71tyhaBuTgs"
      },
      "source": [
        "# ML models"
      ]
    },
    {
      "cell_type": "markdown",
      "metadata": {
        "id": "Euerd2cDuS7F"
      },
      "source": [
        "## Tokenizer"
      ]
    },
    {
      "cell_type": "code",
      "execution_count": null,
      "metadata": {
        "id": "im5wQCCYDBWQ"
      },
      "outputs": [],
      "source": [
        "english_tfidf_vec = TfidfVectorizer()\n",
        "english_Xtrain = english_tfidf_vec.fit_transform(english_hope_test[\"texts\"])\n",
        "english_Xtest = english_tfidf_vec.transform(english_hope_train[\"enc_label\"])"
      ]
    },
    {
      "cell_type": "code",
      "execution_count": null,
      "metadata": {
        "id": "L-Uj8mjt_Rnh"
      },
      "outputs": [],
      "source": [
        "tamil_tfidf_vec = TfidfVectorizer()\n",
        "tamil_Xtrain = tamil_tfidf_vec.fit_transform(tamil_hope_train[\"texts\"])\n",
        "tamil_Xtest = tamil_tfidf_vec.transform(tamil_hope_train[\"enc_label\"])"
      ]
    },
    {
      "cell_type": "markdown",
      "metadata": {
        "id": "c0ha9syuDTWE"
      },
      "source": [
        "## LR"
      ]
    },
    {
      "cell_type": "code",
      "execution_count": null,
      "metadata": {
        "id": "RseUaYC7DSoH"
      },
      "outputs": [],
      "source": [
        "def LogReg(X_train = english_Xtrain, y_train = english_ytrain, X_test = english_Xtest, y_test = english_ytest, penalty='l2', C=1.0, solver='lbfgs', multi_class='auto', iters=100, l1_ratio=None):\n",
        "  if (penalty=='l1' or penalty=='elasticnet') and solver=='lbfgs':\n",
        "    return\n",
        "  if penalty=='elasticnet':\n",
        "    l1_ratio = 0.5\n",
        "  logreg = LogisticRegression(penalty=penalty, C=C, solver=solver, multi_class=multi_class, max_iter=iters, l1_ratio=l1_ratio)\n",
        "  logreg.fit(X_train, y_train)\n",
        "  y_pred = logreg.predict(X_test)\n",
        "  print('Logistic Regression - penalty: {} , C: {} , solver : {} , multi_class : {}'.format(penalty, C, solver, multi_class))\n",
        "  print('Testing accuracy %s' % accuracy_score(y_test, y_pred))\n",
        "  print('Testing F1 score: {}'.format(f1_score(y_test, y_pred, average='weighted')))\n",
        "  print('\\n------------------------------------------------\\n')"
      ]
    },
    {
      "cell_type": "code",
      "execution_count": null,
      "metadata": {
        "id": "VX2jx2wyErB_"
      },
      "outputs": [],
      "source": [
        "# Different parameters\n",
        "C_vals = [1, 1e3, 1e-3, 1e5, 1e-5]\n",
        "solvers = ['newton-cg', 'sag', 'saga', 'lbfgs']\n",
        "multi_classes = ['auto', 'ovr', 'multinomial']\n",
        "penalties = ['l1', 'l2', 'elasticnet']"
      ]
    },
    {
      "cell_type": "markdown",
      "metadata": {
        "id": "fL5_3IhdE7Cp"
      },
      "source": [
        "### English"
      ]
    },
    {
      "cell_type": "code",
      "execution_count": null,
      "metadata": {
        "colab": {
          "base_uri": "https://localhost:8080/"
        },
        "id": "CEvtn-6aO2vW",
        "outputId": "314a0819-d161-4c5d-a0d7-810bcce09ac3"
      },
      "outputs": [
        {
          "name": "stdout",
          "output_type": "stream",
          "text": [
            "Logistic Regression - penalty: l2 , C: 1 , solver : lbfgs , multi_class : auto\n",
            "Testing accuracy 0.9176925782623989\n",
            "Testing F1 score: 0.9027172599606145\n",
            "\n",
            "------------------------------------------------\n",
            "\n"
          ]
        },
        {
          "name": "stderr",
          "output_type": "stream",
          "text": [
            "/usr/local/lib/python3.7/dist-packages/sklearn/linear_model/_logistic.py:818: ConvergenceWarning: lbfgs failed to converge (status=1):\n",
            "STOP: TOTAL NO. of ITERATIONS REACHED LIMIT.\n",
            "\n",
            "Increase the number of iterations (max_iter) or scale the data as shown in:\n",
            "    https://scikit-learn.org/stable/modules/preprocessing.html\n",
            "Please also refer to the documentation for alternative solver options:\n",
            "    https://scikit-learn.org/stable/modules/linear_model.html#logistic-regression\n",
            "  extra_warning_msg=_LOGISTIC_SOLVER_CONVERGENCE_MSG,\n"
          ]
        },
        {
          "name": "stdout",
          "output_type": "stream",
          "text": [
            "Logistic Regression - penalty: l2 , C: 1000.0 , solver : lbfgs , multi_class : auto\n",
            "Testing accuracy 0.888498065423848\n",
            "Testing F1 score: 0.8851544012025283\n",
            "\n",
            "------------------------------------------------\n",
            "\n",
            "Logistic Regression - penalty: l2 , C: 0.001 , solver : lbfgs , multi_class : auto\n",
            "Testing accuracy 0.9036229335209286\n",
            "Testing F1 score: 0.85787410059692\n",
            "\n",
            "------------------------------------------------\n",
            "\n"
          ]
        },
        {
          "name": "stderr",
          "output_type": "stream",
          "text": [
            "/usr/local/lib/python3.7/dist-packages/sklearn/linear_model/_logistic.py:818: ConvergenceWarning: lbfgs failed to converge (status=1):\n",
            "STOP: TOTAL NO. of ITERATIONS REACHED LIMIT.\n",
            "\n",
            "Increase the number of iterations (max_iter) or scale the data as shown in:\n",
            "    https://scikit-learn.org/stable/modules/preprocessing.html\n",
            "Please also refer to the documentation for alternative solver options:\n",
            "    https://scikit-learn.org/stable/modules/linear_model.html#logistic-regression\n",
            "  extra_warning_msg=_LOGISTIC_SOLVER_CONVERGENCE_MSG,\n"
          ]
        },
        {
          "name": "stdout",
          "output_type": "stream",
          "text": [
            "Logistic Regression - penalty: l2 , C: 100000.0 , solver : lbfgs , multi_class : auto\n",
            "Testing accuracy 0.8920154766092157\n",
            "Testing F1 score: 0.8877395583403991\n",
            "\n",
            "------------------------------------------------\n",
            "\n",
            "Logistic Regression - penalty: l2 , C: 1e-05 , solver : lbfgs , multi_class : auto\n",
            "Testing accuracy 0.9036229335209286\n",
            "Testing F1 score: 0.85787410059692\n",
            "\n",
            "------------------------------------------------\n",
            "\n"
          ]
        }
      ],
      "source": [
        "for C in C_vals:\n",
        "  LogReg(C=C)"
      ]
    },
    {
      "cell_type": "code",
      "execution_count": null,
      "metadata": {
        "colab": {
          "base_uri": "https://localhost:8080/"
        },
        "id": "yhGyARlZJsli",
        "outputId": "6fdaf785-c642-47ba-d818-b44e5ea2c388"
      },
      "outputs": [
        {
          "name": "stdout",
          "output_type": "stream",
          "text": [
            "Logistic Regression - penalty: l2 , C: 1 , solver : newton-cg , multi_class : auto\n",
            "Testing accuracy 0.9176925782623989\n",
            "Testing F1 score: 0.9027172599606145\n",
            "\n",
            "------------------------------------------------\n",
            "\n",
            "Logistic Regression - penalty: l2 , C: 1 , solver : sag , multi_class : auto\n",
            "Testing accuracy 0.9176925782623989\n",
            "Testing F1 score: 0.9027172599606145\n",
            "\n",
            "------------------------------------------------\n",
            "\n"
          ]
        },
        {
          "name": "stderr",
          "output_type": "stream",
          "text": [
            "/usr/local/lib/python3.7/dist-packages/sklearn/linear_model/_sag.py:354: ConvergenceWarning: The max_iter was reached which means the coef_ did not converge\n",
            "  ConvergenceWarning,\n"
          ]
        },
        {
          "name": "stdout",
          "output_type": "stream",
          "text": [
            "Logistic Regression - penalty: l2 , C: 1 , solver : saga , multi_class : auto\n",
            "Testing accuracy 0.9176925782623989\n",
            "Testing F1 score: 0.9027172599606145\n",
            "\n",
            "------------------------------------------------\n",
            "\n",
            "Logistic Regression - penalty: l2 , C: 1 , solver : lbfgs , multi_class : auto\n",
            "Testing accuracy 0.9176925782623989\n",
            "Testing F1 score: 0.9027172599606145\n",
            "\n",
            "------------------------------------------------\n",
            "\n"
          ]
        }
      ],
      "source": [
        "for solver in solvers:\n",
        "  LogReg(solver=solver, C=1)"
      ]
    },
    {
      "cell_type": "code",
      "execution_count": null,
      "metadata": {
        "colab": {
          "base_uri": "https://localhost:8080/"
        },
        "id": "0rlRWovnbcNt",
        "outputId": "93638bcc-13ab-4d7c-aa52-5e6597829bc2"
      },
      "outputs": [
        {
          "name": "stdout",
          "output_type": "stream",
          "text": [
            "Logistic Regression - penalty: l2 , C: 1 , solver : lbfgs , multi_class : auto\n",
            "Testing accuracy 0.9176925782623989\n",
            "Testing F1 score: 0.9027172599606145\n",
            "\n",
            "------------------------------------------------\n",
            "\n",
            "Logistic Regression - penalty: l2 , C: 1 , solver : lbfgs , multi_class : ovr\n",
            "Testing accuracy 0.9152303904326415\n",
            "Testing F1 score: 0.8957074847782786\n",
            "\n",
            "------------------------------------------------\n",
            "\n",
            "Logistic Regression - penalty: l2 , C: 1 , solver : lbfgs , multi_class : multinomial\n",
            "Testing accuracy 0.9176925782623989\n",
            "Testing F1 score: 0.9027172599606145\n",
            "\n",
            "------------------------------------------------\n",
            "\n"
          ]
        }
      ],
      "source": [
        "for mc in multi_classes:\n",
        "  LogReg(multi_class=mc, C=1, solver='lbfgs')"
      ]
    },
    {
      "cell_type": "code",
      "execution_count": null,
      "metadata": {
        "colab": {
          "base_uri": "https://localhost:8080/"
        },
        "id": "ucuEW-UjLjkC",
        "outputId": "b0e8f5af-94d3-465f-e2bb-12835018123d"
      },
      "outputs": [
        {
          "name": "stderr",
          "output_type": "stream",
          "text": [
            "/usr/local/lib/python3.7/dist-packages/sklearn/linear_model/_sag.py:354: ConvergenceWarning: The max_iter was reached which means the coef_ did not converge\n",
            "  ConvergenceWarning,\n"
          ]
        },
        {
          "name": "stdout",
          "output_type": "stream",
          "text": [
            "Logistic Regression - penalty: l1 , C: 1 , solver : saga , multi_class : multinomial\n",
            "Testing accuracy 0.9187478016180092\n",
            "Testing F1 score: 0.9027153168945248\n",
            "\n",
            "------------------------------------------------\n",
            "\n",
            "Logistic Regression - penalty: l2 , C: 1 , solver : lbfgs , multi_class : multinomial\n",
            "Testing accuracy 0.9176925782623989\n",
            "Testing F1 score: 0.9027172599606145\n",
            "\n",
            "------------------------------------------------\n",
            "\n"
          ]
        },
        {
          "name": "stderr",
          "output_type": "stream",
          "text": [
            "/usr/local/lib/python3.7/dist-packages/sklearn/linear_model/_sag.py:354: ConvergenceWarning: The max_iter was reached which means the coef_ did not converge\n",
            "  ConvergenceWarning,\n"
          ]
        },
        {
          "name": "stdout",
          "output_type": "stream",
          "text": [
            "Logistic Regression - penalty: l2 , C: 1 , solver : saga , multi_class : multinomial\n",
            "Testing accuracy 0.9176925782623989\n",
            "Testing F1 score: 0.9027172599606145\n",
            "\n",
            "------------------------------------------------\n",
            "\n",
            "Logistic Regression - penalty: elasticnet , C: 1 , solver : saga , multi_class : multinomial\n",
            "Testing accuracy 0.9169890960253254\n",
            "Testing F1 score: 0.9018876241628868\n",
            "\n",
            "------------------------------------------------\n",
            "\n"
          ]
        },
        {
          "name": "stderr",
          "output_type": "stream",
          "text": [
            "/usr/local/lib/python3.7/dist-packages/sklearn/linear_model/_sag.py:354: ConvergenceWarning: The max_iter was reached which means the coef_ did not converge\n",
            "  ConvergenceWarning,\n"
          ]
        }
      ],
      "source": [
        "for penalty in penalties:\n",
        "  LogReg(penalty=penalty, solver='lbfgs', C=1, multi_class='multinomial')\n",
        "  LogReg(penalty=penalty, solver='saga', C=1, multi_class='multinomial')"
      ]
    },
    {
      "cell_type": "markdown",
      "metadata": {
        "id": "9xn4a7FOo6mX"
      },
      "source": [
        "### Results\n",
        "Logistic Regression - penalty: l2 , C: 1 , solver : lbfgs , multi_class : multinomial  \n",
        "Testing accuracy 0.9176925782623989  \n",
        "Testing F1 score: 0.9027172599606145  "
      ]
    },
    {
      "cell_type": "code",
      "execution_count": null,
      "metadata": {
        "id": "1H-rHjAYJsTw"
      },
      "outputs": [],
      "source": [
        "scores['english_scores']['LR'] = 0.9027172599606145"
      ]
    },
    {
      "cell_type": "markdown",
      "metadata": {
        "id": "Oh7UhYAsxRGF"
      },
      "source": [
        "### Confusion matrix"
      ]
    },
    {
      "cell_type": "code",
      "execution_count": null,
      "metadata": {
        "colab": {
          "base_uri": "https://localhost:8080/"
        },
        "id": "c0-cZUYkxTyJ",
        "outputId": "e62a3ab4-dce9-4d61-e01a-32505965cb69"
      },
      "outputs": [
        {
          "name": "stderr",
          "output_type": "stream",
          "text": [
            "/usr/local/lib/python3.7/dist-packages/sklearn/linear_model/_logistic.py:818: ConvergenceWarning: lbfgs failed to converge (status=1):\n",
            "STOP: TOTAL NO. of ITERATIONS REACHED LIMIT.\n",
            "\n",
            "Increase the number of iterations (max_iter) or scale the data as shown in:\n",
            "    https://scikit-learn.org/stable/modules/preprocessing.html\n",
            "Please also refer to the documentation for alternative solver options:\n",
            "    https://scikit-learn.org/stable/modules/linear_model.html#logistic-regression\n",
            "  extra_warning_msg=_LOGISTIC_SOLVER_CONVERGENCE_MSG,\n"
          ]
        }
      ],
      "source": [
        "lr = LogisticRegression(penalty='l2', C=1, solver='lbfgs', multi_class='multinomial')\n",
        "lr_preds = lr.fit(english_Xtrain, english_ytrain).predict(english_Xtest)"
      ]
    },
    {
      "cell_type": "code",
      "execution_count": null,
      "metadata": {
        "colab": {
          "base_uri": "https://localhost:8080/",
          "height": 300
        },
        "id": "ucD3ItZgxURK",
        "outputId": "4903c3a9-5f36-43bb-9ff2-b901d05f07c9"
      },
      "outputs": [
        {
          "data": {
            "text/plain": [
              "<sklearn.metrics._plot.confusion_matrix.ConfusionMatrixDisplay at 0x7f7b4d2d7b50>"
            ]
          },
          "execution_count": 121,
          "metadata": {},
          "output_type": "execute_result"
        },
        {
          "data": {
            "image/png": "[encoded data removed]",
            "text/plain": [
              "<Figure size 432x288 with 2 Axes>"
            ]
          },
          "metadata": {},
          "output_type": "display_data"
        }
      ],
      "source": [
        "ConfusionMatrixDisplay.from_predictions(y_true=english_ytest, y_pred=lr_preds, display_labels=english_labels)"
      ]
    },
    {
      "cell_type": "markdown",
      "metadata": {
        "id": "pADRQ1o6E_fQ"
      },
      "source": [
        "### Tamil"
      ]
    },
    {
      "cell_type": "code",
      "execution_count": null,
      "metadata": {
        "colab": {
          "base_uri": "https://localhost:8080/"
        },
        "id": "2UJBkjv_F0bP",
        "outputId": "ecf2af60-bb44-4d98-de30-8efc8fd6db0f"
      },
      "outputs": [
        {
          "name": "stderr",
          "output_type": "stream",
          "text": [
            "/usr/local/lib/python3.7/dist-packages/sklearn/linear_model/_logistic.py:818: ConvergenceWarning: lbfgs failed to converge (status=1):\n",
            "STOP: TOTAL NO. of ITERATIONS REACHED LIMIT.\n",
            "\n",
            "Increase the number of iterations (max_iter) or scale the data as shown in:\n",
            "    https://scikit-learn.org/stable/modules/preprocessing.html\n",
            "Please also refer to the documentation for alternative solver options:\n",
            "    https://scikit-learn.org/stable/modules/linear_model.html#logistic-regression\n",
            "  extra_warning_msg=_LOGISTIC_SOLVER_CONVERGENCE_MSG,\n"
          ]
        },
        {
          "name": "stdout",
          "output_type": "stream",
          "text": [
            "Logistic Regression - penalty: l2 , C: 1 , solver : lbfgs , multi_class : auto\n",
            "Testing accuracy 0.5986124876114965\n",
            "Testing F1 score: 0.5894235190812763\n",
            "\n",
            "------------------------------------------------\n",
            "\n"
          ]
        },
        {
          "name": "stderr",
          "output_type": "stream",
          "text": [
            "/usr/local/lib/python3.7/dist-packages/sklearn/linear_model/_logistic.py:818: ConvergenceWarning: lbfgs failed to converge (status=1):\n",
            "STOP: TOTAL NO. of ITERATIONS REACHED LIMIT.\n",
            "\n",
            "Increase the number of iterations (max_iter) or scale the data as shown in:\n",
            "    https://scikit-learn.org/stable/modules/preprocessing.html\n",
            "Please also refer to the documentation for alternative solver options:\n",
            "    https://scikit-learn.org/stable/modules/linear_model.html#logistic-regression\n",
            "  extra_warning_msg=_LOGISTIC_SOLVER_CONVERGENCE_MSG,\n"
          ]
        },
        {
          "name": "stdout",
          "output_type": "stream",
          "text": [
            "Logistic Regression - penalty: l2 , C: 1000.0 , solver : lbfgs , multi_class : auto\n",
            "Testing accuracy 0.5555004955401388\n",
            "Testing F1 score: 0.5544014685866676\n",
            "\n",
            "------------------------------------------------\n",
            "\n",
            "Logistic Regression - penalty: l2 , C: 0.001 , solver : lbfgs , multi_class : auto\n",
            "Testing accuracy 0.49454905847373637\n",
            "Testing F1 score: 0.32729440341962124\n",
            "\n",
            "------------------------------------------------\n",
            "\n"
          ]
        },
        {
          "name": "stderr",
          "output_type": "stream",
          "text": [
            "/usr/local/lib/python3.7/dist-packages/sklearn/linear_model/_logistic.py:818: ConvergenceWarning: lbfgs failed to converge (status=1):\n",
            "STOP: TOTAL NO. of ITERATIONS REACHED LIMIT.\n",
            "\n",
            "Increase the number of iterations (max_iter) or scale the data as shown in:\n",
            "    https://scikit-learn.org/stable/modules/preprocessing.html\n",
            "Please also refer to the documentation for alternative solver options:\n",
            "    https://scikit-learn.org/stable/modules/linear_model.html#logistic-regression\n",
            "  extra_warning_msg=_LOGISTIC_SOLVER_CONVERGENCE_MSG,\n"
          ]
        },
        {
          "name": "stdout",
          "output_type": "stream",
          "text": [
            "Logistic Regression - penalty: l2 , C: 100000.0 , solver : lbfgs , multi_class : auto\n",
            "Testing accuracy 0.5535183349851338\n",
            "Testing F1 score: 0.5530587729542105\n",
            "\n",
            "------------------------------------------------\n",
            "\n",
            "Logistic Regression - penalty: l2 , C: 1e-05 , solver : lbfgs , multi_class : auto\n",
            "Testing accuracy 0.49454905847373637\n",
            "Testing F1 score: 0.32729440341962124\n",
            "\n",
            "------------------------------------------------\n",
            "\n"
          ]
        }
      ],
      "source": [
        "for C in C_vals:\n",
        "  LogReg(X_train = tamil_Xtrain, y_train = tamil_ytrain, X_test = tamil_Xtest, y_test = tamil_ytest, C=C)"
      ]
    },
    {
      "cell_type": "code",
      "execution_count": null,
      "metadata": {
        "colab": {
          "base_uri": "https://localhost:8080/"
        },
        "id": "GuTPWQUVF0Yb",
        "outputId": "1d636ad3-f14f-41be-c16e-85a2a52eb5a4"
      },
      "outputs": [
        {
          "name": "stdout",
          "output_type": "stream",
          "text": [
            "Logistic Regression - penalty: l2 , C: 1 , solver : newton-cg , multi_class : auto\n",
            "Testing accuracy 0.5966303270564915\n",
            "Testing F1 score: 0.587451155348147\n",
            "\n",
            "------------------------------------------------\n",
            "\n",
            "Logistic Regression - penalty: l2 , C: 1 , solver : sag , multi_class : auto\n",
            "Testing accuracy 0.5966303270564915\n",
            "Testing F1 score: 0.587451155348147\n",
            "\n",
            "------------------------------------------------\n",
            "\n",
            "Logistic Regression - penalty: l2 , C: 1 , solver : saga , multi_class : auto\n",
            "Testing accuracy 0.5966303270564915\n",
            "Testing F1 score: 0.587451155348147\n",
            "\n",
            "------------------------------------------------\n",
            "\n",
            "Logistic Regression - penalty: l2 , C: 1 , solver : lbfgs , multi_class : auto\n",
            "Testing accuracy 0.5986124876114965\n",
            "Testing F1 score: 0.5894235190812763\n",
            "\n",
            "------------------------------------------------\n",
            "\n"
          ]
        },
        {
          "name": "stderr",
          "output_type": "stream",
          "text": [
            "/usr/local/lib/python3.7/dist-packages/sklearn/linear_model/_logistic.py:818: ConvergenceWarning: lbfgs failed to converge (status=1):\n",
            "STOP: TOTAL NO. of ITERATIONS REACHED LIMIT.\n",
            "\n",
            "Increase the number of iterations (max_iter) or scale the data as shown in:\n",
            "    https://scikit-learn.org/stable/modules/preprocessing.html\n",
            "Please also refer to the documentation for alternative solver options:\n",
            "    https://scikit-learn.org/stable/modules/linear_model.html#logistic-regression\n",
            "  extra_warning_msg=_LOGISTIC_SOLVER_CONVERGENCE_MSG,\n"
          ]
        }
      ],
      "source": [
        "for solver in solvers:\n",
        "  LogReg(X_train = tamil_Xtrain, y_train = tamil_ytrain, X_test = tamil_Xtest, y_test = tamil_ytest, solver=solver, C=1)"
      ]
    },
    {
      "cell_type": "code",
      "execution_count": null,
      "metadata": {
        "colab": {
          "base_uri": "https://localhost:8080/"
        },
        "id": "8p6Ktw_1F0Ux",
        "outputId": "335298b6-3dbd-4804-a86b-5ed15a792e20"
      },
      "outputs": [
        {
          "name": "stderr",
          "output_type": "stream",
          "text": [
            "/usr/local/lib/python3.7/dist-packages/sklearn/linear_model/_logistic.py:818: ConvergenceWarning: lbfgs failed to converge (status=1):\n",
            "STOP: TOTAL NO. of ITERATIONS REACHED LIMIT.\n",
            "\n",
            "Increase the number of iterations (max_iter) or scale the data as shown in:\n",
            "    https://scikit-learn.org/stable/modules/preprocessing.html\n",
            "Please also refer to the documentation for alternative solver options:\n",
            "    https://scikit-learn.org/stable/modules/linear_model.html#logistic-regression\n",
            "  extra_warning_msg=_LOGISTIC_SOLVER_CONVERGENCE_MSG,\n"
          ]
        },
        {
          "name": "stdout",
          "output_type": "stream",
          "text": [
            "Logistic Regression - penalty: l2 , C: 1 , solver : lbfgs , multi_class : auto\n",
            "Testing accuracy 0.5986124876114965\n",
            "Testing F1 score: 0.5894235190812763\n",
            "\n",
            "------------------------------------------------\n",
            "\n",
            "Logistic Regression - penalty: l2 , C: 1 , solver : lbfgs , multi_class : ovr\n",
            "Testing accuracy 0.6035678889990089\n",
            "Testing F1 score: 0.5901410720264393\n",
            "\n",
            "------------------------------------------------\n",
            "\n",
            "Logistic Regression - penalty: l2 , C: 1 , solver : lbfgs , multi_class : multinomial\n",
            "Testing accuracy 0.5986124876114965\n",
            "Testing F1 score: 0.5894235190812763\n",
            "\n",
            "------------------------------------------------\n",
            "\n"
          ]
        },
        {
          "name": "stderr",
          "output_type": "stream",
          "text": [
            "/usr/local/lib/python3.7/dist-packages/sklearn/linear_model/_logistic.py:818: ConvergenceWarning: lbfgs failed to converge (status=1):\n",
            "STOP: TOTAL NO. of ITERATIONS REACHED LIMIT.\n",
            "\n",
            "Increase the number of iterations (max_iter) or scale the data as shown in:\n",
            "    https://scikit-learn.org/stable/modules/preprocessing.html\n",
            "Please also refer to the documentation for alternative solver options:\n",
            "    https://scikit-learn.org/stable/modules/linear_model.html#logistic-regression\n",
            "  extra_warning_msg=_LOGISTIC_SOLVER_CONVERGENCE_MSG,\n"
          ]
        }
      ],
      "source": [
        "for mc in multi_classes:\n",
        "  LogReg(X_train = tamil_Xtrain, y_train = tamil_ytrain, X_test = tamil_Xtest, y_test = tamil_ytest, multi_class=mc, C=1, solver='lbfgs')"
      ]
    },
    {
      "cell_type": "code",
      "execution_count": null,
      "metadata": {
        "colab": {
          "base_uri": "https://localhost:8080/"
        },
        "id": "ovZSEXvbF0SB",
        "outputId": "cd738c4f-2533-4deb-fac4-f1998535aba6"
      },
      "outputs": [
        {
          "name": "stderr",
          "output_type": "stream",
          "text": [
            "/usr/local/lib/python3.7/dist-packages/sklearn/linear_model/_sag.py:354: ConvergenceWarning: The max_iter was reached which means the coef_ did not converge\n",
            "  ConvergenceWarning,\n"
          ]
        },
        {
          "name": "stdout",
          "output_type": "stream",
          "text": [
            "Logistic Regression - penalty: l1 , C: 1 , solver : saga , multi_class : ovr\n",
            "Testing accuracy 0.595639246778989\n",
            "Testing F1 score: 0.5770648757900969\n",
            "\n",
            "------------------------------------------------\n",
            "\n",
            "Logistic Regression - penalty: l2 , C: 1 , solver : lbfgs , multi_class : ovr\n",
            "Testing accuracy 0.6035678889990089\n",
            "Testing F1 score: 0.5901410720264393\n",
            "\n",
            "------------------------------------------------\n",
            "\n",
            "Logistic Regression - penalty: l2 , C: 1 , solver : saga , multi_class : ovr\n",
            "Testing accuracy 0.6035678889990089\n",
            "Testing F1 score: 0.5901410720264393\n",
            "\n",
            "------------------------------------------------\n",
            "\n",
            "Logistic Regression - penalty: elasticnet , C: 1 , solver : saga , multi_class : ovr\n",
            "Testing accuracy 0.6025768087215064\n",
            "Testing F1 score: 0.5872734416269555\n",
            "\n",
            "------------------------------------------------\n",
            "\n"
          ]
        }
      ],
      "source": [
        "for penalty in penalties:\n",
        "  LogReg(X_train = tamil_Xtrain, y_train = tamil_ytrain, X_test = tamil_Xtest, y_test = tamil_ytest, penalty=penalty, solver='lbfgs', C=1, multi_class='ovr')\n",
        "  LogReg(X_train = tamil_Xtrain, y_train = tamil_ytrain, X_test = tamil_Xtest, y_test = tamil_ytest, penalty=penalty, solver='saga', C=1, multi_class='ovr')"
      ]
    },
    {
      "cell_type": "markdown",
      "metadata": {
        "id": "iwJKN9QLGmr3"
      },
      "source": [
        "### Results\n",
        "Logistic Regression - penalty: l2 , C: 1 , solver : lbfgs , multi_class : ovr  \n",
        "Testing accuracy 0.6035678889990089  \n",
        "Testing F1 score: 0.5901410720264393  "
      ]
    },
    {
      "cell_type": "code",
      "execution_count": null,
      "metadata": {
        "id": "_v90ff3YGnL1"
      },
      "outputs": [],
      "source": [
        "scores['tamil_scores']['LR'] = 0.5901410720264393"
      ]
    },
    {
      "cell_type": "markdown",
      "metadata": {
        "id": "iKx0DuGdycK6"
      },
      "source": [
        "### Confusion matrix"
      ]
    },
    {
      "cell_type": "code",
      "execution_count": null,
      "metadata": {
        "id": "7YjKHQ28ycK6"
      },
      "outputs": [],
      "source": [
        "lr_tamil = LogisticRegression(penalty='l2', C=1, solver='lbfgs', multi_class='ovr')\n",
        "lr_tamil_preds = lr_tamil.fit(tamil_Xtrain, tamil_ytrain).predict(tamil_Xtest)"
      ]
    },
    {
      "cell_type": "code",
      "execution_count": null,
      "metadata": {
        "colab": {
          "base_uri": "https://localhost:8080/",
          "height": 298
        },
        "id": "zb3v-qMEycK7",
        "outputId": "adea61e9-8c26-4caa-d421-2c25c7798dc7"
      },
      "outputs": [
        {
          "data": {
            "text/plain": [
              "<sklearn.metrics._plot.confusion_matrix.ConfusionMatrixDisplay at 0x7f7b4d241290>"
            ]
          },
          "execution_count": 126,
          "metadata": {},
          "output_type": "execute_result"
        },
        {
          "data": {
            "image/png": "[encoded data removed]",
            "text/plain": [
              "<Figure size 432x288 with 2 Axes>"
            ]
          },
          "metadata": {},
          "output_type": "display_data"
        }
      ],
      "source": [
        "ConfusionMatrixDisplay.from_predictions(y_true=tamil_ytest, y_pred=lr_tamil_preds, display_labels=tamil_labels)"
      ]
    },
    {
      "cell_type": "markdown",
      "metadata": {
        "id": "sRkfGfweER8p"
      },
      "source": [
        "## SVM"
      ]
    },
    {
      "cell_type": "code",
      "execution_count": null,
      "metadata": {
        "id": "GAxi9HeSETkj"
      },
      "outputs": [],
      "source": [
        "def svm_clf(X_train = english_Xtrain, y_train = english_ytrain, X_test = english_Xtest, y_test = english_ytest, kernel='rbf', C=1, gamma='scale', decision_function_shape = 'ovr'):\n",
        "  clf = SVC(kernel=kernel, C=C, gamma=gamma, decision_function_shape=decision_function_shape)\n",
        "  clf.fit(X_train,y_train)\n",
        "  y_pred = clf.predict(X_test)\n",
        "  print('SVM - kernel : {} , C : {} , gamma : {} , decision function shape : {}'.format(kernel, C, gamma, decision_function_shape))\n",
        "  print('Testing accuracy %s' % accuracy_score(y_test, y_pred))\n",
        "  print('Testing F1 score: {}'.format(f1_score(y_test, y_pred, average='weighted')))\n",
        "  print('\\n------------------------------------------------\\n')"
      ]
    },
    {
      "cell_type": "code",
      "execution_count": null,
      "metadata": {
        "id": "SIBwD9oxGriL"
      },
      "outputs": [],
      "source": [
        "C_vals = [1, 1e3, 1e-3, 1e5, 1e-5]\n",
        "kernels = ['linear', 'poly', 'rbf', 'sigmoid']\n",
        "gamma = ['scale', 'auto']\n",
        "decision_function_shape = ['ovo', 'ovr']"
      ]
    },
    {
      "cell_type": "markdown",
      "metadata": {
        "id": "izcpkMPbHNxG"
      },
      "source": [
        "### English"
      ]
    },
    {
      "cell_type": "code",
      "execution_count": null,
      "metadata": {
        "colab": {
          "base_uri": "https://localhost:8080/"
        },
        "id": "T1lfxnFNg8Dc",
        "outputId": "60510a91-2932-4605-d1e7-d0e5aba435dd"
      },
      "outputs": [
        {
          "name": "stdout",
          "output_type": "stream",
          "text": [
            "SVM - kernel : rbf , C : 1 , gamma : scale , decision function shape : ovr\n",
            "Testing accuracy 0.9215617305663032\n",
            "Testing F1 score: 0.9022423589849037\n",
            "\n",
            "------------------------------------------------\n",
            "\n",
            "SVM - kernel : rbf , C : 1000.0 , gamma : scale , decision function shape : ovr\n",
            "Testing accuracy 0.9271895884628913\n",
            "Testing F1 score: 0.9154363108258213\n",
            "\n",
            "------------------------------------------------\n",
            "\n",
            "SVM - kernel : rbf , C : 0.001 , gamma : scale , decision function shape : ovr\n",
            "Testing accuracy 0.9036229335209286\n",
            "Testing F1 score: 0.85787410059692\n",
            "\n",
            "------------------------------------------------\n",
            "\n",
            "SVM - kernel : rbf , C : 100000.0 , gamma : scale , decision function shape : ovr\n",
            "Testing accuracy 0.9271895884628913\n",
            "Testing F1 score: 0.9154363108258213\n",
            "\n",
            "------------------------------------------------\n",
            "\n",
            "SVM - kernel : rbf , C : 1e-05 , gamma : scale , decision function shape : ovr\n",
            "Testing accuracy 0.9036229335209286\n",
            "Testing F1 score: 0.85787410059692\n",
            "\n",
            "------------------------------------------------\n",
            "\n"
          ]
        }
      ],
      "source": [
        "for C in C_vals:\n",
        "  svm_clf(C=C)"
      ]
    },
    {
      "cell_type": "code",
      "execution_count": null,
      "metadata": {
        "id": "dAyfpbOSghHa"
      },
      "outputs": [],
      "source": [
        "for kernel in kernels:\n",
        "  svm_clf(C=1e3, kernel=kernel)"
      ]
    },
    {
      "cell_type": "code",
      "execution_count": null,
      "metadata": {
        "colab": {
          "base_uri": "https://localhost:8080/"
        },
        "id": "JXM6aH4NghEC",
        "outputId": "7a3616e7-27d2-46ce-ccee-82969caa60cc"
      },
      "outputs": [
        {
          "name": "stdout",
          "output_type": "stream",
          "text": [
            "SVM - kernel : rbf , C : 1000.0 , gamma : scale , decision function shape : ovr\n",
            "Testing accuracy 0.9271895884628913\n",
            "Testing F1 score: 0.9154363108258213\n",
            "\n",
            "------------------------------------------------\n",
            "\n",
            "SVM - kernel : rbf , C : 1000.0 , gamma : auto , decision function shape : ovr\n",
            "Testing accuracy 0.9271895884628913\n",
            "Testing F1 score: 0.9154363108258213\n",
            "\n",
            "------------------------------------------------\n",
            "\n"
          ]
        }
      ],
      "source": [
        "for g in gamma:\n",
        "  svm_clf(C=1e3, kernel='rbf' , gamma=g) "
      ]
    },
    {
      "cell_type": "code",
      "execution_count": null,
      "metadata": {
        "colab": {
          "base_uri": "https://localhost:8080/"
        },
        "id": "WCwMGfKmgsgP",
        "outputId": "798aa216-444f-4a05-eacd-c037bf25e9bf"
      },
      "outputs": [
        {
          "name": "stdout",
          "output_type": "stream",
          "text": [
            "SVM - kernel : rbf , C : 1000.0 , gamma : scale , decision function shape : ovo\n",
            "Testing accuracy 0.9271895884628913\n",
            "Testing F1 score: 0.9154363108258213\n",
            "\n",
            "------------------------------------------------\n",
            "\n",
            "SVM - kernel : rbf , C : 1000.0 , gamma : scale , decision function shape : ovr\n",
            "Testing accuracy 0.9271895884628913\n",
            "Testing F1 score: 0.9154363108258213\n",
            "\n",
            "------------------------------------------------\n",
            "\n"
          ]
        }
      ],
      "source": [
        "for dfs in decision_function_shape:\n",
        "  svm_clf(C=1e3, kernel='rbf' , gamma='scale' , decision_function_shape=dfs)"
      ]
    },
    {
      "cell_type": "markdown",
      "metadata": {
        "id": "B8PL4mX0M0Gf"
      },
      "source": [
        "### Results\n",
        "SVM - kernel : rbf , C : 1000.0 , gamma : scale , decision function shape : ovr  \n",
        "Testing accuracy 0.9271895884628913  \n",
        "Testing F1 score: 0.9154363108258213  "
      ]
    },
    {
      "cell_type": "code",
      "execution_count": null,
      "metadata": {
        "id": "iqfUpsIBgsc3"
      },
      "outputs": [],
      "source": [
        "scores['english_scores']['SVM'] = 0.9154363108258213"
      ]
    },
    {
      "cell_type": "markdown",
      "metadata": {
        "id": "0Rq-A2AIHxjY"
      },
      "source": [
        "### Tamil"
      ]
    },
    {
      "cell_type": "code",
      "execution_count": null,
      "metadata": {
        "colab": {
          "base_uri": "https://localhost:8080/"
        },
        "id": "9tNGhcnjHzYG",
        "outputId": "9c943dc1-f3a8-4f15-aed2-4986ec7d3b38"
      },
      "outputs": [
        {
          "name": "stdout",
          "output_type": "stream",
          "text": [
            "SVM - kernel : rbf , C : 1 , gamma : scale , decision function shape : ovr\n",
            "Testing accuracy 0.6110009910802775\n",
            "Testing F1 score: 0.5945001708881719\n",
            "\n",
            "------------------------------------------------\n",
            "\n",
            "SVM - kernel : rbf , C : 1000.0 , gamma : scale , decision function shape : ovr\n",
            "Testing accuracy 0.578790882061447\n",
            "Testing F1 score: 0.5734611754284697\n",
            "\n",
            "------------------------------------------------\n",
            "\n",
            "SVM - kernel : rbf , C : 0.001 , gamma : scale , decision function shape : ovr\n",
            "Testing accuracy 0.49454905847373637\n",
            "Testing F1 score: 0.32729440341962124\n",
            "\n",
            "------------------------------------------------\n",
            "\n",
            "SVM - kernel : rbf , C : 100000.0 , gamma : scale , decision function shape : ovr\n",
            "Testing accuracy 0.5782953419226957\n",
            "Testing F1 score: 0.5730156563452314\n",
            "\n",
            "------------------------------------------------\n",
            "\n",
            "SVM - kernel : rbf , C : 1e-05 , gamma : scale , decision function shape : ovr\n",
            "Testing accuracy 0.49454905847373637\n",
            "Testing F1 score: 0.32729440341962124\n",
            "\n",
            "------------------------------------------------\n",
            "\n"
          ]
        }
      ],
      "source": [
        "for C in C_vals:\n",
        "  svm_clf(X_train = tamil_Xtrain, y_train = tamil_ytrain, X_test = tamil_Xtest, y_test = tamil_ytest, C=C)"
      ]
    },
    {
      "cell_type": "code",
      "execution_count": null,
      "metadata": {
        "id": "p0Gc6h5FQQKB"
      },
      "outputs": [],
      "source": [
        "for kernel in kernels:\n",
        "  svm_clf(X_train = tamil_Xtrain, y_train = tamil_ytrain, X_test = tamil_Xtest, y_test = tamil_ytest, C=1, kernel=kernel)"
      ]
    },
    {
      "cell_type": "code",
      "execution_count": null,
      "metadata": {
        "id": "yk_udtk8Hy87"
      },
      "outputs": [],
      "source": [
        "for g in gamma:\n",
        "  svm_clf(X_train = tamil_Xtrain, y_train = tamil_ytrain, X_test = tamil_Xtest, y_test = tamil_ytest, C=1e3, kernel= , gamma=g)"
      ]
    },
    {
      "cell_type": "code",
      "execution_count": null,
      "metadata": {
        "id": "1yjLbiwmII4u"
      },
      "outputs": [],
      "source": [
        "for dfs in decision_function_shape:\n",
        "  svm_clf(X_train = tamil_Xtrain, y_train = tamil_ytrain, X_test = tamil_Xtest, y_test = tamil_ytest, C=1e3, kernel= , gamma= , decision_function_shape=dfs)"
      ]
    },
    {
      "cell_type": "markdown",
      "metadata": {
        "id": "Ax2lSo8cRH6O"
      },
      "source": [
        "### Results\n",
        "SVM - kernel : rbf , C : 1 , gamma : scale , decision function shape : ovr  \n",
        "Testing accuracy 0.6110009910802775  \n",
        "Testing F1 score: 0.5945001708881719  "
      ]
    },
    {
      "cell_type": "code",
      "execution_count": null,
      "metadata": {
        "id": "CVsOidXCIIu6"
      },
      "outputs": [],
      "source": [
        "scores['tamil_scores']['SVM'] = 0.5945001708881719"
      ]
    },
    {
      "cell_type": "markdown",
      "metadata": {
        "id": "Oxhob4KXEUDU"
      },
      "source": [
        "## NB"
      ]
    },
    {
      "cell_type": "code",
      "execution_count": null,
      "metadata": {
        "id": "anatxjziEVo3"
      },
      "outputs": [],
      "source": [
        "def multiNB(X_train = english_Xtrain, y_train = english_ytrain, X_test = english_Xtest, y_test = english_ytest, alpha=1.0, fit_prior=True):\n",
        "  mnb = MultinomialNB(alpha=alpha, fit_prior=fit_prior)\n",
        "  mnb.fit(X_train, y_train)\n",
        "  y_pred = mnb.predict(X_test)\n",
        "  print('Multinomial Naive Bayes - alpha : {} , fit_prior : {}'.format(alpha, fit_prior))\n",
        "  print('Testing accuracy %s' % accuracy_score(y_test, y_pred))\n",
        "  print('Testing F1 score: {}'.format(f1_score(y_test, y_pred, average='weighted')))\n",
        "  print('\\n------------------------------------------------\\n')"
      ]
    },
    {
      "cell_type": "code",
      "execution_count": null,
      "metadata": {
        "id": "bzS4WIY0IgW9"
      },
      "outputs": [],
      "source": [
        "alphas = [1e-10, 0.2, 0.5, 0.7, 0.9, 1.0]\n",
        "fit_prior_vals = [False, True]"
      ]
    },
    {
      "cell_type": "markdown",
      "metadata": {
        "id": "j7SAuQUVIdFf"
      },
      "source": [
        "### English"
      ]
    },
    {
      "cell_type": "code",
      "execution_count": null,
      "metadata": {
        "colab": {
          "base_uri": "https://localhost:8080/"
        },
        "id": "zQnBQSnjTepC",
        "outputId": "e5b46362-0530-4000-ff5b-443b24dd8a2f"
      },
      "outputs": [
        {
          "name": "stdout",
          "output_type": "stream",
          "text": [
            "Multinomial Naive Bayes - alpha : 1e-10 , fit_prior : True\n",
            "Testing accuracy 0.9036229335209286\n",
            "Testing F1 score: 0.882731570478754\n",
            "\n",
            "------------------------------------------------\n",
            "\n",
            "Multinomial Naive Bayes - alpha : 0.2 , fit_prior : True\n",
            "Testing accuracy 0.9053816391136124\n",
            "Testing F1 score: 0.8724267329042407\n",
            "\n",
            "------------------------------------------------\n",
            "\n",
            "Multinomial Naive Bayes - alpha : 0.5 , fit_prior : True\n",
            "Testing accuracy 0.9053816391136124\n",
            "Testing F1 score: 0.8634007736541087\n",
            "\n",
            "------------------------------------------------\n",
            "\n",
            "Multinomial Naive Bayes - alpha : 0.7 , fit_prior : True\n",
            "Testing accuracy 0.9046781568765389\n",
            "Testing F1 score: 0.860437327969469\n",
            "\n",
            "------------------------------------------------\n",
            "\n",
            "Multinomial Naive Bayes - alpha : 0.9 , fit_prior : True\n",
            "Testing accuracy 0.9043264157580021\n",
            "Testing F1 score: 0.8595879391023398\n",
            "\n",
            "------------------------------------------------\n",
            "\n",
            "Multinomial Naive Bayes - alpha : 1.0 , fit_prior : True\n",
            "Testing accuracy 0.9043264157580021\n",
            "Testing F1 score: 0.8595879391023398\n",
            "\n",
            "------------------------------------------------\n",
            "\n"
          ]
        }
      ],
      "source": [
        "for alpha in alphas:\n",
        "  multiNB(alpha=alpha)"
      ]
    },
    {
      "cell_type": "code",
      "execution_count": null,
      "metadata": {
        "colab": {
          "base_uri": "https://localhost:8080/"
        },
        "id": "30R87iAfMJJv",
        "outputId": "76ea3419-6344-4bbe-f55d-f943b3e95547"
      },
      "outputs": [
        {
          "name": "stdout",
          "output_type": "stream",
          "text": [
            "Multinomial Naive Bayes - alpha : 1e-10 , fit_prior : False\n",
            "Testing accuracy 0.7657404150545198\n",
            "Testing F1 score: 0.8080203842848624\n",
            "\n",
            "------------------------------------------------\n",
            "\n",
            "Multinomial Naive Bayes - alpha : 0.2 , fit_prior : False\n",
            "Testing accuracy 0.8061906436862469\n",
            "Testing F1 score: 0.8393153877212848\n",
            "\n",
            "------------------------------------------------\n",
            "\n",
            "Multinomial Naive Bayes - alpha : 0.5 , fit_prior : False\n",
            "Testing accuracy 0.8434752022511431\n",
            "Testing F1 score: 0.8578698408470506\n",
            "\n",
            "------------------------------------------------\n",
            "\n",
            "Multinomial Naive Bayes - alpha : 0.7 , fit_prior : False\n",
            "Testing accuracy 0.858248329229687\n",
            "Testing F1 score: 0.8624284042208011\n",
            "\n",
            "------------------------------------------------\n",
            "\n",
            "Multinomial Naive Bayes - alpha : 0.9 , fit_prior : False\n",
            "Testing accuracy 0.8656348927189589\n",
            "Testing F1 score: 0.8641500202063295\n",
            "\n",
            "------------------------------------------------\n",
            "\n",
            "Multinomial Naive Bayes - alpha : 1.0 , fit_prior : False\n",
            "Testing accuracy 0.8691523039043264\n",
            "Testing F1 score: 0.8657514315807074\n",
            "\n",
            "------------------------------------------------\n",
            "\n"
          ]
        }
      ],
      "source": [
        "for alpha in alphas:\n",
        "  multiNB(fit_prior= False, alpha=alpha)"
      ]
    },
    {
      "cell_type": "markdown",
      "metadata": {
        "id": "A8pFf3ZzUDeM"
      },
      "source": [
        "### Results\n",
        "Multinomial Naive Bayes - alpha : 1e-10 , fit_prior : True    \n",
        "Testing accuracy 0.9036229335209286  \n",
        "Testing F1 score: 0.882731570478754"
      ]
    },
    {
      "cell_type": "code",
      "execution_count": null,
      "metadata": {
        "id": "4DAYbm8EUGrN"
      },
      "outputs": [],
      "source": [
        "scores['english_scores']['MNB'] = 0.882731570478754"
      ]
    },
    {
      "cell_type": "markdown",
      "metadata": {
        "id": "1Ht-Ul4nuA92"
      },
      "source": [
        "### Confusion matrix"
      ]
    },
    {
      "cell_type": "code",
      "execution_count": null,
      "metadata": {
        "id": "k0_wIL1QqjMu"
      },
      "outputs": [],
      "source": [
        "mnb = MultinomialNB(alpha=1e-10, fit_prior=True)\n",
        "mnb.fit(english_Xtrain, english_ytrain)\n",
        "mnb_pred = mnb.predict(english_Xtest)"
      ]
    },
    {
      "cell_type": "code",
      "execution_count": null,
      "metadata": {
        "colab": {
          "base_uri": "https://localhost:8080/"
        },
        "id": "mhipoOJOt16j",
        "outputId": "7d4d7169-989d-48b5-ccb7-3faa7fab783d"
      },
      "outputs": [
        {
          "data": {
            "text/plain": [
              "Non_hope_speech    2569\n",
              "Hope_speech         272\n",
              "not-English           2\n",
              "Name: label, dtype: int64"
            ]
          },
          "execution_count": 118,
          "metadata": {},
          "output_type": "execute_result"
        }
      ],
      "source": [
        "english_hope_test['label'].value_counts()"
      ]
    },
    {
      "cell_type": "code",
      "execution_count": null,
      "metadata": {
        "colab": {
          "base_uri": "https://localhost:8080/",
          "height": 301
        },
        "id": "kG04Tjk5suu2",
        "outputId": "a0f6f6fd-97c4-4ec5-801e-4af1370d3fbf"
      },
      "outputs": [
        {
          "data": {
            "text/plain": [
              "<sklearn.metrics._plot.confusion_matrix.ConfusionMatrixDisplay at 0x7f7b55ad9910>"
            ]
          },
          "execution_count": 83,
          "metadata": {},
          "output_type": "execute_result"
        },
        {
          "data": {
            "image/png": "[encoded data removed]",
            "text/plain": [
              "<Figure size 432x288 with 2 Axes>"
            ]
          },
          "metadata": {},
          "output_type": "display_data"
        }
      ],
      "source": [
        "ConfusionMatrixDisplay.from_predictions(\n",
        "    y_true=english_ytest, y_pred=mnb_pred, display_labels=english_labels\n",
        ")"
      ]
    },
    {
      "cell_type": "markdown",
      "metadata": {
        "id": "yW4O2F0-Ielg"
      },
      "source": [
        "### Tamil"
      ]
    },
    {
      "cell_type": "code",
      "execution_count": null,
      "metadata": {
        "colab": {
          "base_uri": "https://localhost:8080/"
        },
        "id": "a6fs54_uIfqh",
        "outputId": "fb22b0a6-dc3e-4d65-8871-a2cb2cd2cd2c"
      },
      "outputs": [
        {
          "name": "stdout",
          "output_type": "stream",
          "text": [
            "Multinomial Naive Bayes - alpha : 1e-10 , fit_prior : True\n",
            "Testing accuracy 0.6005946481665014\n",
            "Testing F1 score: 0.5982228599554849\n",
            "\n",
            "------------------------------------------------\n",
            "\n",
            "Multinomial Naive Bayes - alpha : 0.2 , fit_prior : True\n",
            "Testing accuracy 0.6065411298315163\n",
            "Testing F1 score: 0.5974340286234954\n",
            "\n",
            "------------------------------------------------\n",
            "\n",
            "Multinomial Naive Bayes - alpha : 0.5 , fit_prior : True\n",
            "Testing accuracy 0.6105054509415263\n",
            "Testing F1 score: 0.5920146972801057\n",
            "\n",
            "------------------------------------------------\n",
            "\n",
            "Multinomial Naive Bayes - alpha : 0.7 , fit_prior : True\n",
            "Testing accuracy 0.6144697720515362\n",
            "Testing F1 score: 0.5905980556028777\n",
            "\n",
            "------------------------------------------------\n",
            "\n",
            "Multinomial Naive Bayes - alpha : 0.9 , fit_prior : True\n",
            "Testing accuracy 0.6060455896927651\n",
            "Testing F1 score: 0.5777800788793289\n",
            "\n",
            "------------------------------------------------\n",
            "\n",
            "Multinomial Naive Bayes - alpha : 1.0 , fit_prior : True\n",
            "Testing accuracy 0.6060455896927651\n",
            "Testing F1 score: 0.5758202536688956\n",
            "\n",
            "------------------------------------------------\n",
            "\n"
          ]
        }
      ],
      "source": [
        "for alpha in alphas:\n",
        "  multiNB(X_train = tamil_Xtrain, y_train = tamil_ytrain, X_test = tamil_Xtest, y_test = tamil_ytest, alpha=alpha)"
      ]
    },
    {
      "cell_type": "code",
      "execution_count": null,
      "metadata": {
        "colab": {
          "base_uri": "https://localhost:8080/"
        },
        "id": "IIqMja7tIfnI",
        "outputId": "5a621290-7371-44bc-ba3a-3a8027dfbc19"
      },
      "outputs": [
        {
          "name": "stdout",
          "output_type": "stream",
          "text": [
            "Multinomial Naive Bayes - alpha : 1e-10 , fit_prior : False\n",
            "Testing accuracy 0.5832507433102081\n",
            "Testing F1 score: 0.5836156949886772\n",
            "\n",
            "------------------------------------------------\n",
            "\n",
            "Multinomial Naive Bayes - alpha : 0.2 , fit_prior : False\n",
            "Testing accuracy 0.5887016848364718\n",
            "Testing F1 score: 0.5887961623445258\n",
            "\n",
            "------------------------------------------------\n",
            "\n",
            "Multinomial Naive Bayes - alpha : 0.5 , fit_prior : False\n",
            "Testing accuracy 0.5986124876114965\n",
            "Testing F1 score: 0.5967150115410065\n",
            "\n",
            "------------------------------------------------\n",
            "\n",
            "Multinomial Naive Bayes - alpha : 0.7 , fit_prior : False\n",
            "Testing accuracy 0.6065411298315163\n",
            "Testing F1 score: 0.6033737799696764\n",
            "\n",
            "------------------------------------------------\n",
            "\n",
            "Multinomial Naive Bayes - alpha : 0.9 , fit_prior : False\n",
            "Testing accuracy 0.6129831516352825\n",
            "Testing F1 score: 0.6086350551149339\n",
            "\n",
            "------------------------------------------------\n",
            "\n",
            "Multinomial Naive Bayes - alpha : 1.0 , fit_prior : False\n",
            "Testing accuracy 0.6124876114965312\n",
            "Testing F1 score: 0.6075833763722778\n",
            "\n",
            "------------------------------------------------\n",
            "\n"
          ]
        }
      ],
      "source": [
        "for alpha in alphas:\n",
        "  multiNB(X_train = tamil_Xtrain, y_train = tamil_ytrain, X_test = tamil_Xtest, y_test = tamil_ytest, fit_prior= False, alpha=alpha)"
      ]
    },
    {
      "cell_type": "markdown",
      "metadata": {
        "id": "bj62NJecUkd-"
      },
      "source": [
        "### Results\n",
        "Multinomial Naive Bayes - alpha : 0.9 , fit_prior : False  \n",
        "Testing accuracy 0.6129831516352825  \n",
        "Testing F1 score: 0.6086350551149339"
      ]
    },
    {
      "cell_type": "code",
      "execution_count": null,
      "metadata": {
        "id": "-rDwX-HIMaMT"
      },
      "outputs": [],
      "source": [
        "scores['tamil_scores']['MNB'] = 0.6086350551149339"
      ]
    },
    {
      "cell_type": "markdown",
      "metadata": {
        "id": "fPvt4Tm7uMQI"
      },
      "source": [
        "### Confusion matrix"
      ]
    },
    {
      "cell_type": "code",
      "execution_count": null,
      "metadata": {
        "id": "0BPLz74IuOfe"
      },
      "outputs": [],
      "source": [
        "mnb_tamil = MultinomialNB(alpha=0.9, fit_prior=False)\n",
        "mnb_tamil.fit(tamil_Xtrain, tamil_ytrain)\n",
        "mnb_tamil_pred = mnb_tamil.predict(tamil_Xtest)"
      ]
    },
    {
      "cell_type": "code",
      "execution_count": null,
      "metadata": {
        "colab": {
          "base_uri": "https://localhost:8080/"
        },
        "id": "BE2nXegvuOPJ",
        "outputId": "a6640c84-9c1c-494d-f098-27b86bf4ed3f"
      },
      "outputs": [
        {
          "data": {
            "text/plain": [
              "Non_hope_speech    998\n",
              "Hope_speech        757\n",
              "not-Tamil          263\n",
              "Name: label, dtype: int64"
            ]
          },
          "execution_count": 88,
          "metadata": {},
          "output_type": "execute_result"
        }
      ],
      "source": [
        "tamil_hope_test['label'].value_counts()"
      ]
    },
    {
      "cell_type": "code",
      "execution_count": null,
      "metadata": {
        "colab": {
          "base_uri": "https://localhost:8080/",
          "height": 298
        },
        "id": "t768TPB8uN61",
        "outputId": "607efd54-a31f-447f-947f-8bb220154cc9"
      },
      "outputs": [
        {
          "data": {
            "text/plain": [
              "<sklearn.metrics._plot.confusion_matrix.ConfusionMatrixDisplay at 0x7f7b554a1ed0>"
            ]
          },
          "execution_count": 119,
          "metadata": {},
          "output_type": "execute_result"
        },
        {
          "data": {
            "image/png": "[encoded data removed]",
            "text/plain": [
              "<Figure size 432x288 with 2 Axes>"
            ]
          },
          "metadata": {},
          "output_type": "display_data"
        }
      ],
      "source": [
        "ConfusionMatrixDisplay.from_predictions(\n",
        "    y_true=tamil_ytest, y_pred=mnb_tamil_pred, display_labels=tamil_labels\n",
        ")"
      ]
    },
    {
      "cell_type": "markdown",
      "metadata": {
        "id": "qerzqCY3EaOZ"
      },
      "source": [
        "## Ensemble"
      ]
    },
    {
      "cell_type": "code",
      "execution_count": null,
      "metadata": {
        "id": "DbhRpg-xNDPn"
      },
      "outputs": [],
      "source": [
        "def ensemble(X_train = english_Xtrain, y_train = english_ytrain, X_test = english_Xtest, y_test = english_ytest, clf1=LogisticRegression(), clf2=SVC(), clf3=MultinomialNB(), voting='hard'):\n",
        "  clf4 = RandomForestClassifier(n_estimators=100, random_state=1)\n",
        "  ensemble_clf = VotingClassifier(estimators=[('lr', clf1), ('svm', clf2), ('mnb', clf3), ('rfc', clf4)], voting=voting)\n",
        "  ensemble_clf.fit(X_train, y_train)\n",
        "  y_pred = ensemble_clf.predict(X_test)\n",
        "  print('Ensemble method - voting : {}'.format(voting))\n",
        "  print('Testing accuracy %s' % accuracy_score(y_test, y_pred))\n",
        "  print('Testing F1 score: {}'.format(f1_score(y_test, y_pred, average='weighted')))\n",
        "  print('\\n------------------------------------------------\\n')"
      ]
    },
    {
      "cell_type": "code",
      "execution_count": null,
      "metadata": {
        "id": "hXHPd5JXEbVN"
      },
      "outputs": [],
      "source": [
        "votings = ['hard', 'soft']"
      ]
    },
    {
      "cell_type": "markdown",
      "metadata": {
        "id": "MHk7HCntQvwj"
      },
      "source": [
        "### English"
      ]
    },
    {
      "cell_type": "code",
      "execution_count": null,
      "metadata": {
        "id": "y9OETTP2VbHf"
      },
      "outputs": [],
      "source": [
        "# Logistic Regression - penalty: l2 , C: 1 , solver : lbfgs , multi_class : multinomial\n",
        "english_LR = LogisticRegression(penalty='l2', C=1, solver='lbfgs', multi_class='multinomial', max_iter=1000)\n",
        "# SVM - kernel : rbf , C : 1000.0 , gamma : scale , decision function shape : ovr\n",
        "english_SVM = SVC(kernel='rbf', C=1e3, gamma='scale', decision_function_shape='ovr', probability=True)\n",
        "# Multinomial Naive Bayes - alpha : 1e-10 , fit_prior : True\n",
        "english_NB = MultinomialNB(alpha=1e-10, fit_prior=True)"
      ]
    },
    {
      "cell_type": "code",
      "execution_count": null,
      "metadata": {
        "colab": {
          "base_uri": "https://localhost:8080/"
        },
        "id": "jyv7PCvbVVg9",
        "outputId": "4aacf2d0-dc04-46fa-e0dc-87ceb8738395"
      },
      "outputs": [
        {
          "name": "stdout",
          "output_type": "stream",
          "text": [
            "Ensemble method - voting : hard\n",
            "Testing accuracy 0.915933872669715\n",
            "Testing F1 score: 0.8904482441258466\n",
            "\n",
            "------------------------------------------------\n",
            "\n",
            "Ensemble method - voting : soft\n",
            "Testing accuracy 0.9194512838550827\n",
            "Testing F1 score: 0.8986204136503386\n",
            "\n",
            "------------------------------------------------\n",
            "\n"
          ]
        }
      ],
      "source": [
        "for voting in votings:\n",
        "  ensemble(voting=voting, clf1=english_LR, clf2=english_SVM, clf3=english_NB)"
      ]
    },
    {
      "cell_type": "markdown",
      "metadata": {
        "id": "sWBU-1PmhGdK"
      },
      "source": [
        "### Results\n",
        "Ensemble method - voting : soft  \n",
        "Testing accuracy 0.9194512838550827  \n",
        "Testing F1 score: 0.8986204136503386"
      ]
    },
    {
      "cell_type": "code",
      "execution_count": null,
      "metadata": {
        "id": "wUlbXHv4VVdd"
      },
      "outputs": [],
      "source": [
        "scores['english_scores']['Ensemble'] = 0.8986204136503386"
      ]
    },
    {
      "cell_type": "markdown",
      "metadata": {
        "id": "wxRewg34VocU"
      },
      "source": [
        "### Tamil"
      ]
    },
    {
      "cell_type": "code",
      "execution_count": null,
      "metadata": {
        "id": "At-FZK-YVVbc"
      },
      "outputs": [],
      "source": [
        "# Logistic Regression - penalty: l2 , C: 1 , solver : lbfgs , multi_class : ovr\n",
        "tamil_LR = LogisticRegression(penalty='l2', C=1, solver='lbfgs', multi_class='ovr', max_iter=1000)\n",
        "# SVM - kernel : rbf , C : 1 , gamma : scale , decision function shape : ovr\n",
        "tamil_SVM = SVC(kernel='rbf', C=1, gamma='scale', decision_function_shape='ovr', probability=True)\n",
        "# Multinomial Naive Bayes - alpha : 0.9 , fit_prior : False\n",
        "tamil_NB = MultinomialNB(alpha=0.9, fit_prior=False)"
      ]
    },
    {
      "cell_type": "code",
      "execution_count": null,
      "metadata": {
        "colab": {
          "base_uri": "https://localhost:8080/"
        },
        "id": "YKiknLrgYs9D",
        "outputId": "7dd98319-3fe0-41b2-ffec-b68aa36eac7a"
      },
      "outputs": [
        {
          "name": "stdout",
          "output_type": "stream",
          "text": [
            "Ensemble method - voting : hard\n",
            "Testing accuracy 0.6075322101090188\n",
            "Testing F1 score: 0.5900089674939608\n",
            "\n",
            "------------------------------------------------\n",
            "\n",
            "Ensemble method - voting : soft\n",
            "Testing accuracy 0.6144697720515362\n",
            "Testing F1 score: 0.6035640056105799\n",
            "\n",
            "------------------------------------------------\n",
            "\n"
          ]
        }
      ],
      "source": [
        "for voting in votings:\n",
        "  ensemble(X_train = tamil_Xtrain, y_train = tamil_ytrain, X_test = tamil_Xtest, y_test = tamil_ytest, voting=voting, clf1=tamil_LR, clf2=tamil_SVM, clf3=tamil_NB)"
      ]
    },
    {
      "cell_type": "markdown",
      "metadata": {
        "id": "Sp8xzpFYkH5Y"
      },
      "source": [
        "### Results\n",
        "Ensemble method - voting : soft  \n",
        "Testing accuracy 0.6144697720515362  \n",
        "Testing F1 score: 0.6035640056105799"
      ]
    },
    {
      "cell_type": "code",
      "execution_count": null,
      "metadata": {
        "id": "cAPWbt_xkLiK"
      },
      "outputs": [],
      "source": [
        "scores['tamil_scores']['Ensemble'] = 0.6035640056105799"
      ]
    },
    {
      "cell_type": "markdown",
      "metadata": {
        "id": "ko-VlOG4EcDo"
      },
      "source": [
        "## Plots"
      ]
    },
    {
      "cell_type": "markdown",
      "metadata": {
        "id": "AUeCDPcZkmrP"
      },
      "source": [
        "### English"
      ]
    },
    {
      "cell_type": "code",
      "execution_count": null,
      "metadata": {
        "colab": {
          "base_uri": "https://localhost:8080/",
          "height": 350
        },
        "id": "Ndna8cCaEdgY",
        "outputId": "06f994d6-79bb-4e0d-f7a6-f0ae9acffdc2"
      },
      "outputs": [
        {
          "data": {
            "image/png": "[encoded data removed]",
            "text/plain": [
              "<Figure size 576x360 with 1 Axes>"
            ]
          },
          "metadata": {},
          "output_type": "display_data"
        }
      ],
      "source": [
        "plt.figure(figsize=(8,5))\n",
        "plt.plot(list(scores['english_scores'].keys()), list(scores['english_scores'].values()), 'o-')\n",
        "plt.xlabel('Models')\n",
        "plt.ylabel('F1 scores')\n",
        "plt.title('Accuracy for English data')\n",
        "plt.show()"
      ]
    },
    {
      "cell_type": "markdown",
      "metadata": {
        "id": "WGJhQKnqlPjC"
      },
      "source": [
        "### Tamil"
      ]
    },
    {
      "cell_type": "code",
      "execution_count": null,
      "metadata": {
        "colab": {
          "base_uri": "https://localhost:8080/",
          "height": 350
        },
        "id": "qd5TxjHqlBRf",
        "outputId": "3718fac3-a256-40ca-f426-afc143dea3f7"
      },
      "outputs": [
        {
          "data": {
            "image/png": "[encoded data removed]",
            "text/plain": [
              "<Figure size 576x360 with 1 Axes>"
            ]
          },
          "metadata": {},
          "output_type": "display_data"
        }
      ],
      "source": [
        "plt.figure(figsize=(8,5))\n",
        "plt.plot(list(scores['tamil_scores'].keys()), list(scores['tamil_scores'].values()), 'o-')\n",
        "plt.xlabel('Models')\n",
        "plt.ylabel('F1 scores')\n",
        "plt.title('Accuracy for Tamil data')\n",
        "plt.show()"
      ]
    },
    {
      "cell_type": "markdown",
      "metadata": {
        "id": "gE5PvsPHgNH0"
      },
      "source": [
        "# DL models"
      ]
    },
    {
      "cell_type": "markdown",
      "metadata": {
        "id": "aC_CxqO1Kccd"
      },
      "source": [
        "## Libraries"
      ]
    },
    {
      "cell_type": "code",
      "execution_count": 22,
      "metadata": {
        "id": "YuRkFffxun3f"
      },
      "outputs": [],
      "source": [
        "# !pip install livelossplot"
      ]
    },
    {
      "cell_type": "code",
      "execution_count": 24,
      "metadata": {
        "id": "IdAC7E5YntYz"
      },
      "outputs": [],
      "source": [
        "import tensorflow as tf\n",
        "from tensorflow import keras\n",
        "import tensorflow_hub as hub\n",
        "from keras.preprocessing.text import Tokenizer\n",
        "from keras.preprocessing.sequence import pad_sequences\n",
        "from keras.layers import Conv1D, MaxPooling1D, Bidirectional, LSTM, Flatten, Dense, Embedding, Lambda, Input\n",
        "from keras.callbacks import ModelCheckpoint, EarlyStopping\n",
        "from livelossplot import PlotLossesKeras\n",
        "from keras.models import load_model\n",
        "from sklearn.metrics import ConfusionMatrixDisplay, precision_score, recall_score\n",
        "from urllib.request import urlopen\n",
        "import gzip\n",
        "import warnings\n",
        "warnings.filterwarnings('ignore')"
      ]
    },
    {
      "cell_type": "markdown",
      "metadata": {
        "id": "NQch7IA3nZsx"
      },
      "source": [
        "## Preprocessing"
      ]
    },
    {
      "cell_type": "markdown",
      "metadata": {
        "id": "8iHuuBtfPz4R"
      },
      "source": [
        "### English"
      ]
    },
    {
      "cell_type": "code",
      "source": [
        "english_Xtrain = np.array(english_hope_train[\"texts\"])\n",
        "english_ytrain = np.array(english_hope_train[\"enc_label\"])\n",
        "english_Xtest = np.array(english_hope_test[\"texts\"])\n",
        "english_ytest = np.array(english_hope_test[\"enc_label\"])"
      ],
      "metadata": {
        "id": "ZH9gY0V6xPwb"
      },
      "execution_count": 31,
      "outputs": []
    },
    {
      "cell_type": "code",
      "execution_count": 32,
      "metadata": {
        "id": "J0qzgdz0Trpp"
      },
      "outputs": [],
      "source": [
        "english_tokenizer = Tokenizer(\n",
        "                        num_words=1000,\n",
        "                        filters='!\"#$%&()*+,-./:;<=>?@[\\\\]^_`{|}~\\t\\n',\n",
        "                        lower=True, split=' ', oov_token='<oov>'\n",
        "                    )\n",
        "english_tokenizer.fit_on_texts(english_Xtrain)"
      ]
    },
    {
      "cell_type": "code",
      "execution_count": 33,
      "metadata": {
        "colab": {
          "base_uri": "https://localhost:8080/"
        },
        "id": "fnjLBa-4WBms",
        "outputId": "4823f173-3b30-4e84-c877-32e8cbb28921"
      },
      "outputs": [
        {
          "output_type": "stream",
          "name": "stdout",
          "text": [
            "No of words in English Tokenizer:  15960\n",
            "English vocabulary size:  15961\n"
          ]
        }
      ],
      "source": [
        "english_vocab = english_tokenizer.word_index\n",
        "print(\"No of words in English Tokenizer: \", len(english_vocab))\n",
        "english_vocab_len = len(english_vocab) + 1\n",
        "print(\"English vocabulary size: \", english_vocab_len)"
      ]
    },
    {
      "cell_type": "code",
      "execution_count": 34,
      "metadata": {
        "colab": {
          "base_uri": "https://localhost:8080/",
          "height": 513
        },
        "id": "ma8y3cfMXQxS",
        "outputId": "ce25e139-e87e-4ec1-862d-7c72410034bc"
      },
      "outputs": [
        {
          "output_type": "display_data",
          "data": {
            "image/png": "[encoded data removed]",
            "text/plain": [
              "<Figure size 720x576 with 1 Axes>"
            ]
          },
          "metadata": {
            "needs_background": "light"
          }
        }
      ],
      "source": [
        "plt.figure(figsize=(10,8))\n",
        "plt.hist([len(text.split()) for text in english_Xtrain], bins=300)\n",
        "plt.xlabel('Length of texts')\n",
        "plt.ylabel('No of texts')\n",
        "plt.title('English')\n",
        "plt.show()"
      ]
    },
    {
      "cell_type": "code",
      "execution_count": 35,
      "metadata": {
        "colab": {
          "base_uri": "https://localhost:8080/"
        },
        "id": "B6iKfcjKYCiS",
        "outputId": "19799be6-6c21-45be-dc28-c2d83cb9b99f"
      },
      "outputs": [
        {
          "output_type": "execute_result",
          "data": {
            "text/plain": [
              "98"
            ]
          },
          "metadata": {},
          "execution_count": 35
        }
      ],
      "source": [
        "max([len(text.split()) for text in english_Xtrain])"
      ]
    },
    {
      "cell_type": "code",
      "execution_count": 36,
      "metadata": {
        "id": "4aOrzXymbCRr"
      },
      "outputs": [],
      "source": [
        "english_maxlen = 100"
      ]
    },
    {
      "cell_type": "code",
      "execution_count": 37,
      "metadata": {
        "colab": {
          "base_uri": "https://localhost:8080/"
        },
        "id": "btPHNSNObRXF",
        "outputId": "6451c43e-5866-4288-9aa7-b337e07c9731"
      },
      "outputs": [
        {
          "output_type": "stream",
          "name": "stdout",
          "text": [
            "No of train sequences: (22762, 100)\n",
            "No of test sequences: (2843, 100)\n"
          ]
        }
      ],
      "source": [
        "english_train_seq = english_tokenizer.texts_to_sequences(english_Xtrain)\n",
        "english_train_pad_seq = pad_sequences(english_train_seq, maxlen=english_maxlen, padding='post', value=0.0)\n",
        "print(\"No of train sequences:\", english_train_pad_seq.shape)\n",
        "\n",
        "english_test_seq = english_tokenizer.texts_to_sequences(english_Xtest)\n",
        "english_test_pad_seq = pad_sequences(english_test_seq, maxlen=english_maxlen, padding='post', value=0.0)\n",
        "print(\"No of test sequences:\", english_test_pad_seq.shape)"
      ]
    },
    {
      "cell_type": "markdown",
      "metadata": {
        "id": "oOdA6DRjP3NC"
      },
      "source": [
        "### Tamil"
      ]
    },
    {
      "cell_type": "code",
      "source": [
        "tamil_Xtrain = np.array(tamil_hope_train[\"texts\"])\n",
        "tamil_ytrain = np.array(tamil_hope_train[\"enc_label\"])\n",
        "tamil_Xtest = np.array(tamil_hope_test[\"texts\"])\n",
        "tamil_ytest = np.array(tamil_hope_test[\"enc_label\"])"
      ],
      "metadata": {
        "id": "vGUf4tyFyGJc"
      },
      "execution_count": 38,
      "outputs": []
    },
    {
      "cell_type": "code",
      "execution_count": 39,
      "metadata": {
        "id": "kTvE60jXAiTb"
      },
      "outputs": [],
      "source": [
        "tamil_tokenizer = Tokenizer(\n",
        "                        num_words=1000,\n",
        "                        filters='!\"#$%&()*+,-./:;<=>?@[\\\\]^_`{|}~\\t\\n',\n",
        "                        lower=True, split=' ', oov_token='<oov>'\n",
        "                    )\n",
        "tamil_tokenizer.fit_on_texts(tamil_Xtrain)"
      ]
    },
    {
      "cell_type": "code",
      "execution_count": 40,
      "metadata": {
        "colab": {
          "base_uri": "https://localhost:8080/"
        },
        "id": "fPqDAmP2L_G1",
        "outputId": "89f6e04e-ad8f-40ce-d8b4-bdf9e44497fd"
      },
      "outputs": [
        {
          "output_type": "stream",
          "name": "stdout",
          "text": [
            "No of words in Tamil Tokenizer:  31414\n",
            "Tamil vocabulary size:  31415\n"
          ]
        }
      ],
      "source": [
        "tamil_vocab = tamil_tokenizer.word_index\n",
        "print(\"No of words in Tamil Tokenizer: \", len(tamil_vocab))\n",
        "tamil_vocab_len = len(tamil_vocab) + 1\n",
        "print(\"Tamil vocabulary size: \", tamil_vocab_len)"
      ]
    },
    {
      "cell_type": "code",
      "execution_count": 41,
      "metadata": {
        "colab": {
          "base_uri": "https://localhost:8080/",
          "height": 513
        },
        "id": "75vBwFc9MDj_",
        "outputId": "04fb63bb-e1ac-4831-b5dc-adeed96c9c7d"
      },
      "outputs": [
        {
          "output_type": "display_data",
          "data": {
            "image/png": "[encoded data removed]",
            "text/plain": [
              "<Figure size 720x576 with 1 Axes>"
            ]
          },
          "metadata": {
            "needs_background": "light"
          }
        }
      ],
      "source": [
        "plt.figure(figsize=(10,8))\n",
        "plt.hist([len(text.split()) for text in tamil_Xtrain], bins=100)\n",
        "plt.xlabel('Length of texts')\n",
        "plt.ylabel('No of texts')\n",
        "plt.title('Tamil')\n",
        "plt.show()"
      ]
    },
    {
      "cell_type": "code",
      "execution_count": 42,
      "metadata": {
        "id": "KT99ibw_MH9Y"
      },
      "outputs": [],
      "source": [
        "tamil_maxlen = 100"
      ]
    },
    {
      "cell_type": "code",
      "execution_count": 43,
      "metadata": {
        "colab": {
          "base_uri": "https://localhost:8080/"
        },
        "id": "VDliyU0BMIaZ",
        "outputId": "ae5bd327-ad23-4c0e-8935-930772c5912c"
      },
      "outputs": [
        {
          "output_type": "stream",
          "name": "stdout",
          "text": [
            "No of train sequences: (16160, 100)\n",
            "No of test sequences: (2018, 100)\n"
          ]
        }
      ],
      "source": [
        "tamil_train_seq = tamil_tokenizer.texts_to_sequences(tamil_Xtrain)\n",
        "tamil_train_pad_seq = pad_sequences(tamil_train_seq, maxlen=tamil_maxlen, padding='post', value=0.0)\n",
        "print(\"No of train sequences:\", tamil_train_pad_seq.shape)\n",
        "\n",
        "tamil_test_seq = tamil_tokenizer.texts_to_sequences(tamil_Xtest)\n",
        "tamil_test_pad_seq = pad_sequences(tamil_test_seq, maxlen=tamil_maxlen, padding='post', value=0.0)\n",
        "print(\"No of test sequences:\", tamil_test_pad_seq.shape)"
      ]
    },
    {
      "cell_type": "markdown",
      "metadata": {
        "id": "eNaiBhF-Aj1m"
      },
      "source": [
        "## Embeddings"
      ]
    },
    {
      "cell_type": "code",
      "execution_count": 44,
      "metadata": {
        "id": "n-tXE3hTLttA"
      },
      "outputs": [],
      "source": [
        "def load_embed_matrix(f, vocab_size=english_vocab_len, embed_vec_len=300, word_index=english_vocab, saved_embeddings='English_FT_vec.npy'):\n",
        "  embedding_index = {}\n",
        "  count = 0\n",
        "  for line in f:\n",
        "    values = line.split()\n",
        "    word = values[0].decode('utf-8')\n",
        "    coefs = np.asarray(values[1:], dtype='float32')\n",
        "    embedding_index[word] = coefs\n",
        "  embedding_matrix = np.zeros((vocab_size, embed_vec_len))\n",
        "  for word, i in word_index.items():\n",
        "    embedding_vector = embedding_index.get(word)\n",
        "    if embedding_vector is not None:\n",
        "      embedding_matrix[i] = embedding_vector\n",
        "    else:\n",
        "      count += 1\n",
        "  print(count,'OOV words')\n",
        "  np.save(saved_embeddings, embedding_matrix)\n",
        "  return embedding_matrix, embedding_index"
      ]
    },
    {
      "cell_type": "code",
      "execution_count": 45,
      "metadata": {
        "id": "rEf2XUfEEtqp",
        "colab": {
          "base_uri": "https://localhost:8080/"
        },
        "outputId": "dbe0e693-f2d7-44af-ff0a-de877558a37e"
      },
      "outputs": [
        {
          "output_type": "stream",
          "name": "stdout",
          "text": [
            "6765 OOV words\n"
          ]
        }
      ],
      "source": [
        "english_ft_vec = gzip.open(urlopen('https://dl.fbaipublicfiles.com/fasttext/vectors-crawl/cc.en.300.vec.gz'))\n",
        "english_ft_matrix, english_ft_index = load_embed_matrix(english_ft_vec)"
      ]
    },
    {
      "cell_type": "code",
      "execution_count": 46,
      "metadata": {
        "id": "NRPV0GlOEtPx"
      },
      "outputs": [],
      "source": [
        "english_ft_matrix = np.load('English_FT_vec.npy')"
      ]
    },
    {
      "cell_type": "code",
      "execution_count": 48,
      "metadata": {
        "id": "8B-w4fg1P9cp",
        "colab": {
          "base_uri": "https://localhost:8080/"
        },
        "outputId": "f75448f3-079c-4418-80ca-7ce635cd70b2"
      },
      "outputs": [
        {
          "output_type": "stream",
          "name": "stdout",
          "text": [
            "25365 OOV words\n"
          ]
        }
      ],
      "source": [
        "tamil_ft_vec = gzip.open(urlopen('https://dl.fbaipublicfiles.com/fasttext/vectors-crawl/cc.ta.300.vec.gz'))\n",
        "tamil_ft_matrix, tamil_ft_index = load_embed_matrix(f=tamil_ft_vec, vocab_size=tamil_vocab_len, word_index=tamil_vocab, saved_embeddings='Tamil_FT_vec.npy')"
      ]
    },
    {
      "cell_type": "code",
      "execution_count": 49,
      "metadata": {
        "id": "2KIGnijLQqd3"
      },
      "outputs": [],
      "source": [
        "tamil_ft_matrix = np.load('Tamil_FT_vec.npy')"
      ]
    },
    {
      "cell_type": "markdown",
      "metadata": {
        "id": "xxqSekBLLp4A"
      },
      "source": [
        "## Functions"
      ]
    },
    {
      "cell_type": "code",
      "execution_count": 102,
      "metadata": {
        "id": "DUN9HcNaVzgi"
      },
      "outputs": [],
      "source": [
        "# Returns (Trained Model, Predictions, History, Scores)\n",
        "\n",
        "def create_model(Xtrain=english_train_pad_seq, ytrain=english_ytrain, Xtest=english_test_pad_seq, ytest=english_ytest, \n",
        "                  lr=0.001, batch_size=32, epochs=30, val_split=0.2, model=None, saved_model=\"En_CNN_BiLSTMModel.h5\", fit=True, history_file=None):\n",
        "\n",
        "  history = None\n",
        "  if fit==True:\n",
        "    # Compiling model\n",
        "    model.compile(loss='sparse_categorical_crossentropy', optimizer=keras.optimizers.Adam(learning_rate=lr), metrics=['accuracy'])\n",
        "    \n",
        "    print('\\n----------Fitting Model----------\\n')\n",
        "    chkpt = ModelCheckpoint(saved_model, monitor='val_accuracy',verbose=1, save_best_only=True, save_weights_only=False, mode='max')\n",
        "\n",
        "    early_stopping = EarlyStopping(monitor='accuracy', min_delta=0, patience=1, verbose=0, mode='max', baseline=None, restore_best_weights=True)\n",
        "\n",
        "    callbacks = [PlotLossesKeras(), chkpt, early_stopping]\n",
        "\n",
        "    # Fitting Model\n",
        "    history = model.fit(\n",
        "        x=Xtrain,\n",
        "        y=ytrain,\n",
        "        validation_split=val_split,\n",
        "        batch_size=batch_size,\n",
        "        epochs=epochs,\n",
        "        callbacks=callbacks,\n",
        "        verbose=True\n",
        "    )\n",
        "\n",
        "    np.save(saved_model[:-8]+'History.npy',history.history)\n",
        "  \n",
        "  if history_file!=None:\n",
        "    history = np.load(history_file,allow_picke=True)\n",
        "\n",
        "  # Loading Model\n",
        "  loadedModel = load_model(saved_model)\n",
        "\n",
        "  print('\\n----------Model Summary----------\\n')\n",
        "  print(loadedModel.summary())\n",
        "\n",
        "  # Predicting\n",
        "  ypred = np.argmax(loadedModel.predict(Xtest), axis=-1)\n",
        "\n",
        "  print('\\n----------Test Scores----------\\n')\n",
        "  # Scores\n",
        "  scores = {'F1-Score': f1_score(ytest, ypred, average = 'weighted'), 'Accuracy': accuracy_score(ytest, ypred),\n",
        "            'Precision': precision_score(ytest, ypred, average = 'weighted'), 'Recall': recall_score(ytest, ypred, average = 'weighted'), \n",
        "            'Classification Report': classification_report(ytest, ypred, target_names=english_labels),\n",
        "            'Confusion Matrix Display': ConfusionMatrixDisplay.from_predictions(ytest, ypred, display_labels=english_labels)}\n",
        "  print(\"Precision: {}\".format(scores['Precision']))\n",
        "  print(\"Recall: {}\".format(scores['Recall']))\n",
        "  print(\"F1-Score: {}\".format(scores['F1-Score']))\n",
        "  print(\"Accuracy: {}\\n\".format(scores['Accuracy']))\n",
        "  print(scores['Classification Report'],'\\n')\n",
        "  scores['Confusion Matrix Display']\n",
        "\n",
        "  return loadedModel, ypred, history, scores"
      ]
    },
    {
      "cell_type": "code",
      "execution_count": 51,
      "metadata": {
        "id": "fAFWfBNPBdjX"
      },
      "outputs": [],
      "source": [
        "def embedding_layer(input_dim=english_vocab_len, output_dim=100, input_length=english_maxlen, embedding=False, embedding_matrix=english_ft_matrix):\n",
        "  if(embedding==False):\n",
        "    return Embedding(input_dim=input_dim, output_dim=output_dim, input_length=input_length)\n",
        "  output_dim = embedding_matrix.shape[1]\n",
        "  return Embedding(input_dim=input_dim, output_dim=output_dim, input_length=input_length, weights=[embedding_matrix], trainable=False)"
      ]
    },
    {
      "cell_type": "markdown",
      "metadata": {
        "id": "Q7PCJfL_ndS1"
      },
      "source": [
        "## CNN+BiLSTM Models"
      ]
    },
    {
      "cell_type": "code",
      "execution_count": 52,
      "metadata": {
        "id": "2ILr5YLpDaBH"
      },
      "outputs": [],
      "source": [
        "En_CNN_BiLSTMModel = tf.keras.models.Sequential([\n",
        "          embedding_layer(),\n",
        "          Conv1D(128, 5, activation='relu'),\n",
        "          MaxPooling1D(5),\n",
        "          Bidirectional(LSTM(units = 32,return_sequences=True,dropout = 0.2)),\n",
        "          Flatten(),\n",
        "          Dense(3 , activation='softmax')\n",
        "        ])"
      ]
    },
    {
      "cell_type": "code",
      "execution_count": 53,
      "metadata": {
        "id": "PoimjIa6Dz1K"
      },
      "outputs": [],
      "source": [
        "En_FT_CNN_BiLSTMModel = tf.keras.models.Sequential([\n",
        "            embedding_layer(embedding=True),\n",
        "            Conv1D(128, 5, activation='relu'),\n",
        "            MaxPooling1D(5),\n",
        "            Bidirectional(LSTM(units = 32,return_sequences=True,dropout = 0.2)),\n",
        "            Flatten(),\n",
        "            Dense(3 , activation='softmax')\n",
        "          ])"
      ]
    },
    {
      "cell_type": "code",
      "execution_count": 54,
      "metadata": {
        "id": "VF7-mRRBSYNi"
      },
      "outputs": [],
      "source": [
        "Ta_CNN_BiLSTMModel = tf.keras.models.Sequential([\n",
        "          embedding_layer(),\n",
        "          Conv1D(128, 5, activation='relu'),\n",
        "          MaxPooling1D(5),\n",
        "          Bidirectional(LSTM(units = 32,return_sequences=True,dropout = 0.2)),\n",
        "          Flatten(),\n",
        "          Dense(3 , activation='softmax')\n",
        "        ])"
      ]
    },
    {
      "cell_type": "code",
      "source": [
        "Ta_FT_CNN_BiLSTMModel = tf.keras.models.Sequential([\n",
        "            embedding_layer(input_dim=tamil_vocab_len, input_length=tamil_maxlen, embedding=True, embedding_matrix=tamil_ft_matrix),\n",
        "            Conv1D(128, 5, activation='relu'),\n",
        "            MaxPooling1D(5),\n",
        "            Bidirectional(LSTM(units = 32,return_sequences=True,dropout = 0.2)),\n",
        "            Flatten(),\n",
        "            Dense(3 , activation='softmax')\n",
        "          ])"
      ],
      "metadata": {
        "id": "emr4lrsS1Bjp"
      },
      "execution_count": 55,
      "outputs": []
    },
    {
      "cell_type": "markdown",
      "metadata": {
        "id": "0VzBod-sLMSE"
      },
      "source": [
        "### English\n",
        "---\n",
        "Train Accuracy: 0.9856  \n",
        "Validation Accuracy: 0.8891  \n",
        "----------Test Scores----------  \n",
        "Precision: 0.8975  \n",
        "Recall: 0.9124  \n",
        "F1-Score: 0.9013  \n",
        "Accuracy: 0.9124  "
      ]
    },
    {
      "cell_type": "code",
      "execution_count": 105,
      "metadata": {
        "colab": {
          "base_uri": "https://localhost:8080/",
          "height": 1000
        },
        "id": "zQ4AyIpiayPq",
        "outputId": "71fdc237-48ca-48c2-a807-7579d72d7a45"
      },
      "outputs": [
        {
          "output_type": "stream",
          "name": "stdout",
          "text": [
            "\n",
            "----------Model Summary----------\n",
            "\n",
            "Model: \"sequential\"\n",
            "_________________________________________________________________\n",
            " Layer (type)                Output Shape              Param #   \n",
            "=================================================================\n",
            " embedding (Embedding)       (None, 100, 100)          1596100   \n",
            "                                                                 \n",
            " conv1d (Conv1D)             (None, 96, 128)           64128     \n",
            "                                                                 \n",
            " max_pooling1d (MaxPooling1D  (None, 19, 128)          0         \n",
            " )                                                               \n",
            "                                                                 \n",
            " bidirectional (Bidirectiona  (None, 19, 64)           41216     \n",
            " l)                                                              \n",
            "                                                                 \n",
            " flatten (Flatten)           (None, 1216)              0         \n",
            "                                                                 \n",
            " dense (Dense)               (None, 3)                 3651      \n",
            "                                                                 \n",
            "=================================================================\n",
            "Total params: 1,705,095\n",
            "Trainable params: 1,705,095\n",
            "Non-trainable params: 0\n",
            "_________________________________________________________________\n",
            "None\n",
            "\n",
            "----------Test Scores----------\n",
            "\n",
            "Precision: 0.8975122700641387\n",
            "Recall: 0.9124164614843475\n",
            "F1-Score: 0.9013949598620312\n",
            "Accuracy: 0.9124164614843475\n",
            "\n",
            "                 precision    recall  f1-score   support\n",
            "\n",
            "Non_hope_speech       0.93      0.97      0.95      2569\n",
            "    Hope_speech       0.58      0.33      0.42       272\n",
            "    not-English       0.00      0.00      0.00         2\n",
            "\n",
            "       accuracy                           0.91      2843\n",
            "      macro avg       0.50      0.44      0.46      2843\n",
            "   weighted avg       0.90      0.91      0.90      2843\n",
            " \n",
            "\n"
          ]
        },
        {
          "output_type": "display_data",
          "data": {
            "image/png": "[encoded data removed]",
            "text/plain": [
              "<Figure size 432x288 with 2 Axes>"
            ]
          },
          "metadata": {
            "needs_background": "light"
          }
        }
      ],
      "source": [
        "En_CNN_BiLSTM = create_model(model=En_CNN_BiLSTMModel, fit=False)"
      ]
    },
    {
      "cell_type": "code",
      "execution_count": null,
      "metadata": {
        "id": "heysCmiGuYEr"
      },
      "outputs": [],
      "source": [
        "scores['english_scores']['En_CNN_BiLSTM'] = 0.9013"
      ]
    },
    {
      "cell_type": "markdown",
      "metadata": {
        "id": "KIlnImWhLPqC"
      },
      "source": [
        "### English with FastText  \n",
        "---\n",
        "Train Accuracy: 0.915  \n",
        "Validation Accuracy: 0.903  \n",
        "----------Test Scores----------  \n",
        "Precision: 0.8905   \n",
        "Recall: 0.9103   \n",
        "F1-Score: 0.8926   \n",
        "Accuracy: 0.9103   "
      ]
    },
    {
      "cell_type": "code",
      "execution_count": 106,
      "metadata": {
        "colab": {
          "base_uri": "https://localhost:8080/",
          "height": 1000
        },
        "id": "2RBH0J43G2kv",
        "outputId": "d8e63873-06e6-4ced-f9a8-691b8bcd1bd3"
      },
      "outputs": [
        {
          "output_type": "stream",
          "name": "stdout",
          "text": [
            "\n",
            "----------Model Summary----------\n",
            "\n",
            "Model: \"sequential_1\"\n",
            "_________________________________________________________________\n",
            " Layer (type)                Output Shape              Param #   \n",
            "=================================================================\n",
            " embedding_1 (Embedding)     (None, 100, 300)          4788300   \n",
            "                                                                 \n",
            " conv1d_1 (Conv1D)           (None, 96, 128)           192128    \n",
            "                                                                 \n",
            " max_pooling1d_1 (MaxPooling  (None, 19, 128)          0         \n",
            " 1D)                                                             \n",
            "                                                                 \n",
            " bidirectional_1 (Bidirectio  (None, 19, 64)           41216     \n",
            " nal)                                                            \n",
            "                                                                 \n",
            " flatten_1 (Flatten)         (None, 1216)              0         \n",
            "                                                                 \n",
            " dense_1 (Dense)             (None, 3)                 3651      \n",
            "                                                                 \n",
            "=================================================================\n",
            "Total params: 5,025,295\n",
            "Trainable params: 236,995\n",
            "Non-trainable params: 4,788,300\n",
            "_________________________________________________________________\n",
            "None\n",
            "\n",
            "----------Test Scores----------\n",
            "\n",
            "Precision: 0.8905201894497996\n",
            "Recall: 0.910306014773127\n",
            "F1-Score: 0.8926289998212259\n",
            "Accuracy: 0.910306014773127\n",
            "\n",
            "                 precision    recall  f1-score   support\n",
            "\n",
            "Non_hope_speech       0.92      0.98      0.95      2569\n",
            "    Hope_speech       0.59      0.24      0.34       272\n",
            "    not-English       0.00      0.00      0.00         2\n",
            "\n",
            "       accuracy                           0.91      2843\n",
            "      macro avg       0.50      0.41      0.43      2843\n",
            "   weighted avg       0.89      0.91      0.89      2843\n",
            " \n",
            "\n"
          ]
        },
        {
          "output_type": "display_data",
          "data": {
            "image/png": "[encoded data removed]",
            "text/plain": [
              "<Figure size 432x288 with 2 Axes>"
            ]
          },
          "metadata": {
            "needs_background": "light"
          }
        }
      ],
      "source": [
        "En_FT_CNN_BiLSTM = create_model(model=En_FT_CNN_BiLSTMModel, saved_model='En_FT_CNN_BiLSTMModel.h5', fit=False)"
      ]
    },
    {
      "cell_type": "code",
      "execution_count": null,
      "metadata": {
        "id": "hZ3uxS8NU-B2"
      },
      "outputs": [],
      "source": [
        "scores['english_scores']['En_FT_CNN_BiLSTM'] = 0.8926"
      ]
    },
    {
      "cell_type": "markdown",
      "metadata": {
        "id": "1AwWLPE3SqNn"
      },
      "source": [
        "### Tamil\n",
        "---\n",
        "Train Accuracy: 0.895  \n",
        "Validation Accuracy: 0.596   \n",
        "----------Test Scores----------  \n",
        "Precision: 0.6075  \n",
        "Recall: 0.6090  \n",
        "F1-Score: 0.5997  \n",
        "Accuracy: 0.6090  "
      ]
    },
    {
      "cell_type": "code",
      "execution_count": 107,
      "metadata": {
        "colab": {
          "base_uri": "https://localhost:8080/",
          "height": 1000
        },
        "id": "U20StycESrtW",
        "outputId": "e6d70bd4-80e5-40a3-d9b0-6853b30c7b57"
      },
      "outputs": [
        {
          "output_type": "stream",
          "name": "stdout",
          "text": [
            "\n",
            "----------Model Summary----------\n",
            "\n",
            "Model: \"sequential_10\"\n",
            "_________________________________________________________________\n",
            " Layer (type)                Output Shape              Param #   \n",
            "=================================================================\n",
            " embedding_10 (Embedding)    (None, 100, 100)          1596100   \n",
            "                                                                 \n",
            " conv1d_10 (Conv1D)          (None, 96, 128)           64128     \n",
            "                                                                 \n",
            " max_pooling1d_10 (MaxPoolin  (None, 19, 128)          0         \n",
            " g1D)                                                            \n",
            "                                                                 \n",
            " bidirectional_10 (Bidirecti  (None, 19, 64)           41216     \n",
            " onal)                                                           \n",
            "                                                                 \n",
            " flatten_10 (Flatten)        (None, 1216)              0         \n",
            "                                                                 \n",
            " dense_10 (Dense)            (None, 3)                 3651      \n",
            "                                                                 \n",
            "=================================================================\n",
            "Total params: 1,705,095\n",
            "Trainable params: 1,705,095\n",
            "Non-trainable params: 0\n",
            "_________________________________________________________________\n",
            "None\n",
            "\n",
            "----------Test Scores----------\n",
            "\n",
            "Precision: 0.6075859648831323\n",
            "Recall: 0.6090188305252725\n",
            "F1-Score: 0.5997164226619283\n",
            "Accuracy: 0.6090188305252725\n",
            "\n",
            "                 precision    recall  f1-score   support\n",
            "\n",
            "Non_hope_speech       0.64      0.73      0.68       998\n",
            "    Hope_speech       0.59      0.42      0.49       757\n",
            "    not-English       0.54      0.70      0.61       263\n",
            "\n",
            "       accuracy                           0.61      2018\n",
            "      macro avg       0.59      0.61      0.59      2018\n",
            "   weighted avg       0.61      0.61      0.60      2018\n",
            " \n",
            "\n"
          ]
        },
        {
          "output_type": "display_data",
          "data": {
            "image/png": "[encoded data removed]",
            "text/plain": [
              "<Figure size 432x288 with 2 Axes>"
            ]
          },
          "metadata": {
            "needs_background": "light"
          }
        }
      ],
      "source": [
        "Ta_CNN_BiLSTM = create_model(Xtrain=tamil_train_pad_seq, ytrain=tamil_ytrain, Xtest=tamil_test_pad_seq, \n",
        "                             ytest=tamil_ytest, model=Ta_CNN_BiLSTMModel, saved_model='Ta_CNN_BiLSTMModel.h5', fit=False)"
      ]
    },
    {
      "cell_type": "code",
      "execution_count": null,
      "metadata": {
        "id": "Pd0T0El2VyhT"
      },
      "outputs": [],
      "source": [
        "scores['tamil_scores']['Ta_CNN_BiLSTM'] = 0.5997"
      ]
    },
    {
      "cell_type": "markdown",
      "metadata": {
        "id": "hKcwtzGxV99E"
      },
      "source": [
        "### Tamil with FastText  \n",
        "---\n",
        "Train Accuracy: 0.486  \n",
        "Validation Accuracy: 0.491  \n",
        "----------Test Scores----------  \n",
        "Precision: 0.5731  \n",
        "Recall: 0.5777  \n",
        "F1-Score: 0.5674  \n",
        "Accuracy: 0.5777  "
      ]
    },
    {
      "cell_type": "code",
      "execution_count": 110,
      "metadata": {
        "colab": {
          "base_uri": "https://localhost:8080/",
          "height": 1000
        },
        "id": "H5Yt-niNRajf",
        "outputId": "16bfcba0-8295-4430-cec2-d9cd6e30699b"
      },
      "outputs": [
        {
          "output_type": "stream",
          "name": "stdout",
          "text": [
            "\n",
            "----------Model Summary----------\n",
            "\n",
            "Model: \"sequential_3\"\n",
            "_________________________________________________________________\n",
            " Layer (type)                Output Shape              Param #   \n",
            "=================================================================\n",
            " embedding_3 (Embedding)     (None, 100, 300)          9424500   \n",
            "                                                                 \n",
            " conv1d_3 (Conv1D)           (None, 96, 128)           192128    \n",
            "                                                                 \n",
            " max_pooling1d_3 (MaxPooling  (None, 19, 128)          0         \n",
            " 1D)                                                             \n",
            "                                                                 \n",
            " bidirectional_3 (Bidirectio  (None, 19, 64)           41216     \n",
            " nal)                                                            \n",
            "                                                                 \n",
            " flatten_3 (Flatten)         (None, 1216)              0         \n",
            "                                                                 \n",
            " dense_3 (Dense)             (None, 3)                 3651      \n",
            "                                                                 \n",
            "=================================================================\n",
            "Total params: 9,661,495\n",
            "Trainable params: 236,995\n",
            "Non-trainable params: 9,424,500\n",
            "_________________________________________________________________\n",
            "None\n",
            "\n",
            "----------Test Scores----------\n",
            "\n",
            "Precision: 0.573179816951464\n",
            "Recall: 0.5777998017839445\n",
            "F1-Score: 0.5674374921230962\n",
            "Accuracy: 0.5777998017839445\n",
            "\n",
            "                 precision    recall  f1-score   support\n",
            "\n",
            "Non_hope_speech       0.59      0.73      0.66       998\n",
            "    Hope_speech       0.56      0.41      0.47       757\n",
            "    not-English       0.54      0.49      0.52       263\n",
            "\n",
            "       accuracy                           0.58      2018\n",
            "      macro avg       0.56      0.54      0.55      2018\n",
            "   weighted avg       0.57      0.58      0.57      2018\n",
            " \n",
            "\n"
          ]
        },
        {
          "output_type": "display_data",
          "data": {
            "image/png": "[encoded data removed]",
            "text/plain": [
              "<Figure size 432x288 with 2 Axes>"
            ]
          },
          "metadata": {
            "needs_background": "light"
          }
        }
      ],
      "source": [
        "Ta_FT_CNN_BiLSTM = create_model(Xtrain=tamil_train_pad_seq, ytrain=tamil_hope_train['enc_label'], Xtest=tamil_test_pad_seq, \n",
        "                                ytest=tamil_hope_test['enc_label'], model=Ta_FT_CNN_BiLSTMModel, saved_model='Ta_FT_CNN_BiLSTMModel.h5', \n",
        "                                fit=False)"
      ]
    },
    {
      "cell_type": "code",
      "execution_count": null,
      "metadata": {
        "id": "Y2l2eu7hWQoA"
      },
      "outputs": [],
      "source": [
        "scores['tamil_scores']['Ta_FT_CNN_BiLSTM'] = 0.5674"
      ]
    },
    {
      "cell_type": "markdown",
      "metadata": {
        "id": "Z-CrXv5UZ6tL"
      },
      "source": [
        "## Plots"
      ]
    },
    {
      "cell_type": "code",
      "execution_count": null,
      "metadata": {
        "colab": {
          "base_uri": "https://localhost:8080/",
          "height": 351
        },
        "id": "VWnmBXBSaCUG",
        "outputId": "7d2a73bc-dae1-4580-8b84-b186db836ce7"
      },
      "outputs": [
        {
          "output_type": "display_data",
          "data": {
            "image/png": "[encoded data removed]",
            "text/plain": [
              "<Figure size 720x360 with 1 Axes>"
            ]
          },
          "metadata": {
            "needs_background": "light"
          }
        }
      ],
      "source": [
        "plt.figure(figsize=(10,5))\n",
        "plt.plot(list(scores['english_scores'].keys())+list(scores['tamil_scores'].keys()), list(scores['english_scores'].values())+list(scores['tamil_scores'].values()), 'o-')\n",
        "plt.xlabel('Models')\n",
        "plt.ylabel('F1 scores')\n",
        "plt.title('Scores')\n",
        "plt.show()"
      ]
    },
    {
      "cell_type": "code",
      "source": [
        ""
      ],
      "metadata": {
        "id": "1TqUnYn9fvl3"
      },
      "execution_count": null,
      "outputs": []
    }
  ],
  "metadata": {
    "colab": {
      "collapsed_sections": [
        "tN3hU3CapVvS",
        "MM-kTZHZuDes",
        "SIPE1v-MuNhl",
        "c71tyhaBuTgs",
        "Euerd2cDuS7F",
        "c0ha9syuDTWE",
        "fL5_3IhdE7Cp",
        "pADRQ1o6E_fQ",
        "sRkfGfweER8p",
        "izcpkMPbHNxG",
        "0Rq-A2AIHxjY",
        "Oxhob4KXEUDU",
        "ko-VlOG4EcDo",
        "NQch7IA3nZsx",
        "8iHuuBtfPz4R",
        "oOdA6DRjP3NC",
        "xxqSekBLLp4A",
        "Q7PCJfL_ndS1",
        "KIlnImWhLPqC",
        "1AwWLPE3SqNn",
        "hKcwtzGxV99E",
        "Z-CrXv5UZ6tL"
      ],
      "name": "Hope Speech Detection.ipynb",
      "provenance": [],
      "include_colab_link": true
    },
    "kernelspec": {
      "display_name": "Python 3",
      "name": "python3"
    },
    "language_info": {
      "name": "python"
    }
  },
  "nbformat": 4,
  "nbformat_minor": 0
}