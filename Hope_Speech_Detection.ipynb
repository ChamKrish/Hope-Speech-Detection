{
  "cells": [
    {
      "cell_type": "markdown",
      "metadata": {
        "id": "view-in-github",
        "colab_type": "text"
      },
      "source": [
        "<a href=\"https://colab.research.google.com/github/ChamKrish/Hope-Speech-Detection/blob/main/Hope_Speech_Detection.ipynb\" target=\"_parent\"><img src=\"https://colab.research.google.com/assets/colab-badge.svg\" alt=\"Open In Colab\"/></a>"
      ]
    },
    {
      "cell_type": "code",
      "source": [
        "import tensorflow as tf\n",
        "print(tf.__version__)\n",
        "# tf.enable_eager_execution()"
      ],
      "metadata": {
        "colab": {
          "base_uri": "https://localhost:8080/"
        },
        "id": "ZTzZ0hMeUwPf",
        "outputId": "13ba1394-2f38-4f84-81a1-426d55552e1e"
      },
      "execution_count": 2,
      "outputs": [
        {
          "output_type": "stream",
          "name": "stdout",
          "text": [
            "2.8.0\n"
          ]
        }
      ]
    },
    {
      "cell_type": "code",
      "source": [
        "# !pip install tensorflow==1.15\n",
        "# !pip install numpy==1.19.5\n",
        "# !pip install h5py==2.10.0\n",
        "# !pip install emoji==1.6.3\n",
        "# !pip install livelossplot"
      ],
      "metadata": {
        "id": "TkXo5BBvT5CB",
        "colab": {
          "base_uri": "https://localhost:8080/"
        },
        "outputId": "953cc96e-5b1f-4f9a-94b2-8b2780b82ba1"
      },
      "execution_count": 3,
      "outputs": [
        {
          "output_type": "stream",
          "name": "stdout",
          "text": [
            "Collecting emoji==1.6.3\n",
            "  Downloading emoji-1.6.3.tar.gz (174 kB)\n",
            "\u001b[?25l\r\u001b[K     |█▉                              | 10 kB 19.0 MB/s eta 0:00:01\r\u001b[K     |███▊                            | 20 kB 3.7 MB/s eta 0:00:01\r\u001b[K     |█████▋                          | 30 kB 5.1 MB/s eta 0:00:01\r\u001b[K     |███████▌                        | 40 kB 3.8 MB/s eta 0:00:01\r\u001b[K     |█████████▍                      | 51 kB 3.5 MB/s eta 0:00:01\r\u001b[K     |███████████▎                    | 61 kB 4.1 MB/s eta 0:00:01\r\u001b[K     |█████████████▏                  | 71 kB 4.0 MB/s eta 0:00:01\r\u001b[K     |███████████████                 | 81 kB 4.3 MB/s eta 0:00:01\r\u001b[K     |█████████████████               | 92 kB 4.8 MB/s eta 0:00:01\r\u001b[K     |██████████████████▉             | 102 kB 4.3 MB/s eta 0:00:01\r\u001b[K     |████████████████████▊           | 112 kB 4.3 MB/s eta 0:00:01\r\u001b[K     |██████████████████████▋         | 122 kB 4.3 MB/s eta 0:00:01\r\u001b[K     |████████████████████████▌       | 133 kB 4.3 MB/s eta 0:00:01\r\u001b[K     |██████████████████████████▍     | 143 kB 4.3 MB/s eta 0:00:01\r\u001b[K     |████████████████████████████▏   | 153 kB 4.3 MB/s eta 0:00:01\r\u001b[K     |██████████████████████████████  | 163 kB 4.3 MB/s eta 0:00:01\r\u001b[K     |████████████████████████████████| 174 kB 4.3 MB/s eta 0:00:01\r\u001b[K     |████████████████████████████████| 174 kB 4.3 MB/s \n",
            "\u001b[?25hBuilding wheels for collected packages: emoji\n",
            "  Building wheel for emoji (setup.py) ... \u001b[?25l\u001b[?25hdone\n",
            "  Created wheel for emoji: filename=emoji-1.6.3-py3-none-any.whl size=170298 sha256=72fb22656cbff577632157b414b5c59fe44cfb73eceee0be2a427b8f6b16cae7\n",
            "  Stored in directory: /root/.cache/pip/wheels/03/8b/d7/ad579fbef83c287215c0caab60fb0ae0f30c4d7ce5f580eade\n",
            "Successfully built emoji\n",
            "Installing collected packages: emoji\n",
            "Successfully installed emoji-1.6.3\n"
          ]
        }
      ]
    },
    {
      "cell_type": "markdown",
      "metadata": {
        "id": "tN3hU3CapVvS"
      },
      "source": [
        "# Import Libraries"
      ]
    },
    {
      "cell_type": "code",
      "execution_count": 4,
      "metadata": {
        "colab": {
          "base_uri": "https://localhost:8080/"
        },
        "id": "ScfCJvytluwL",
        "outputId": "56607d66-5a72-45e0-a771-0aea737f31c9"
      },
      "outputs": [
        {
          "output_type": "stream",
          "name": "stdout",
          "text": [
            "[nltk_data] Downloading package stopwords to /root/nltk_data...\n",
            "[nltk_data]   Unzipping corpora/stopwords.zip.\n",
            "[nltk_data] Downloading package punkt to /root/nltk_data...\n",
            "[nltk_data]   Unzipping tokenizers/punkt.zip.\n"
          ]
        }
      ],
      "source": [
        "import numpy as np\n",
        "import pandas as pd\n",
        "from matplotlib import pyplot as plt\n",
        "import emoji\n",
        "import re\n",
        "from string import digits\n",
        "import nltk\n",
        "from nltk.corpus import stopwords\n",
        "nltk.download('stopwords')\n",
        "nltk.download('punkt')\n",
        "from nltk.tokenize import word_tokenize\n",
        "from nltk.stem import PorterStemmer\n",
        "from sklearn.feature_extraction.text import TfidfVectorizer\n",
        "from sklearn.linear_model import LogisticRegression\n",
        "from sklearn.metrics import accuracy_score, f1_score, confusion_matrix, classification_report\n",
        "from sklearn.model_selection import GridSearchCV\n",
        "from sklearn.naive_bayes import MultinomialNB\n",
        "from sklearn.svm import SVC\n",
        "from sklearn.ensemble import RandomForestClassifier, VotingClassifier\n",
        "from sklearn.metrics import ConfusionMatrixDisplay, confusion_matrix, precision_score, recall_score\n",
        "from sklearn.model_selection import GridSearchCV\n",
        "import os\n",
        "import warnings\n",
        "warnings.filterwarnings('ignore')"
      ]
    },
    {
      "cell_type": "code",
      "source": [
        "!mkdir plots"
      ],
      "metadata": {
        "id": "BEU_Bg0UG8rw"
      },
      "execution_count": 5,
      "outputs": []
    },
    {
      "cell_type": "markdown",
      "metadata": {
        "id": "MM-kTZHZuDes"
      },
      "source": [
        "# Data Loading"
      ]
    },
    {
      "cell_type": "code",
      "execution_count": 6,
      "metadata": {
        "id": "qCK7PWFqKxxn"
      },
      "outputs": [],
      "source": [
        "english_hope_train = pd.read_csv('english_hope_train.csv', header=None, names=['texts','label','unnamed'], delimiter='\\t')\n",
        "english_hope_test = pd.read_csv('english_hope_dev.csv', header=None, names=['texts','label','unnamed'], delimiter='\\t')"
      ]
    },
    {
      "cell_type": "code",
      "execution_count": 7,
      "metadata": {
        "colab": {
          "base_uri": "https://localhost:8080/",
          "height": 173
        },
        "id": "ct8YLQDpK96t",
        "outputId": "62e056fe-f1da-4b48-a012-86ef36fad7e8"
      },
      "outputs": [
        {
          "output_type": "execute_result",
          "data": {
            "text/plain": [
              "                       texts            label\n",
              "count                  22762            22762\n",
              "unique                 21779                3\n",
              "top     God gave us a choice  Non_hope_speech\n",
              "freq                      14            20778"
            ],
            "text/html": [
              "\n",
              "  <div id=\"df-bf259a66-b0a5-4527-a4a8-f855331b6669\">\n",
              "    <div class=\"colab-df-container\">\n",
              "      <div>\n",
              "<style scoped>\n",
              "    .dataframe tbody tr th:only-of-type {\n",
              "        vertical-align: middle;\n",
              "    }\n",
              "\n",
              "    .dataframe tbody tr th {\n",
              "        vertical-align: top;\n",
              "    }\n",
              "\n",
              "    .dataframe thead th {\n",
              "        text-align: right;\n",
              "    }\n",
              "</style>\n",
              "<table border=\"1\" class=\"dataframe\">\n",
              "  <thead>\n",
              "    <tr style=\"text-align: right;\">\n",
              "      <th></th>\n",
              "      <th>texts</th>\n",
              "      <th>label</th>\n",
              "    </tr>\n",
              "  </thead>\n",
              "  <tbody>\n",
              "    <tr>\n",
              "      <th>count</th>\n",
              "      <td>22762</td>\n",
              "      <td>22762</td>\n",
              "    </tr>\n",
              "    <tr>\n",
              "      <th>unique</th>\n",
              "      <td>21779</td>\n",
              "      <td>3</td>\n",
              "    </tr>\n",
              "    <tr>\n",
              "      <th>top</th>\n",
              "      <td>God gave us a choice</td>\n",
              "      <td>Non_hope_speech</td>\n",
              "    </tr>\n",
              "    <tr>\n",
              "      <th>freq</th>\n",
              "      <td>14</td>\n",
              "      <td>20778</td>\n",
              "    </tr>\n",
              "  </tbody>\n",
              "</table>\n",
              "</div>\n",
              "      <button class=\"colab-df-convert\" onclick=\"convertToInteractive('df-bf259a66-b0a5-4527-a4a8-f855331b6669')\"\n",
              "              title=\"Convert this dataframe to an interactive table.\"\n",
              "              style=\"display:none;\">\n",
              "        \n",
              "  <svg xmlns=\"http://www.w3.org/2000/svg\" height=\"24px\"viewBox=\"0 0 24 24\"\n",
              "       width=\"24px\">\n",
              "    <path d=\"M0 0h24v24H0V0z\" fill=\"none\"/>\n",
              "    <path d=\"M18.56 5.44l.94 2.06.94-2.06 2.06-.94-2.06-.94-.94-2.06-.94 2.06-2.06.94zm-11 1L8.5 8.5l.94-2.06 2.06-.94-2.06-.94L8.5 2.5l-.94 2.06-2.06.94zm10 10l.94 2.06.94-2.06 2.06-.94-2.06-.94-.94-2.06-.94 2.06-2.06.94z\"/><path d=\"M17.41 7.96l-1.37-1.37c-.4-.4-.92-.59-1.43-.59-.52 0-1.04.2-1.43.59L10.3 9.45l-7.72 7.72c-.78.78-.78 2.05 0 2.83L4 21.41c.39.39.9.59 1.41.59.51 0 1.02-.2 1.41-.59l7.78-7.78 2.81-2.81c.8-.78.8-2.07 0-2.86zM5.41 20L4 18.59l7.72-7.72 1.47 1.35L5.41 20z\"/>\n",
              "  </svg>\n",
              "      </button>\n",
              "      \n",
              "  <style>\n",
              "    .colab-df-container {\n",
              "      display:flex;\n",
              "      flex-wrap:wrap;\n",
              "      gap: 12px;\n",
              "    }\n",
              "\n",
              "    .colab-df-convert {\n",
              "      background-color: #E8F0FE;\n",
              "      border: none;\n",
              "      border-radius: 50%;\n",
              "      cursor: pointer;\n",
              "      display: none;\n",
              "      fill: #1967D2;\n",
              "      height: 32px;\n",
              "      padding: 0 0 0 0;\n",
              "      width: 32px;\n",
              "    }\n",
              "\n",
              "    .colab-df-convert:hover {\n",
              "      background-color: #E2EBFA;\n",
              "      box-shadow: 0px 1px 2px rgba(60, 64, 67, 0.3), 0px 1px 3px 1px rgba(60, 64, 67, 0.15);\n",
              "      fill: #174EA6;\n",
              "    }\n",
              "\n",
              "    [theme=dark] .colab-df-convert {\n",
              "      background-color: #3B4455;\n",
              "      fill: #D2E3FC;\n",
              "    }\n",
              "\n",
              "    [theme=dark] .colab-df-convert:hover {\n",
              "      background-color: #434B5C;\n",
              "      box-shadow: 0px 1px 3px 1px rgba(0, 0, 0, 0.15);\n",
              "      filter: drop-shadow(0px 1px 2px rgba(0, 0, 0, 0.3));\n",
              "      fill: #FFFFFF;\n",
              "    }\n",
              "  </style>\n",
              "\n",
              "      <script>\n",
              "        const buttonEl =\n",
              "          document.querySelector('#df-bf259a66-b0a5-4527-a4a8-f855331b6669 button.colab-df-convert');\n",
              "        buttonEl.style.display =\n",
              "          google.colab.kernel.accessAllowed ? 'block' : 'none';\n",
              "\n",
              "        async function convertToInteractive(key) {\n",
              "          const element = document.querySelector('#df-bf259a66-b0a5-4527-a4a8-f855331b6669');\n",
              "          const dataTable =\n",
              "            await google.colab.kernel.invokeFunction('convertToInteractive',\n",
              "                                                     [key], {});\n",
              "          if (!dataTable) return;\n",
              "\n",
              "          const docLinkHtml = 'Like what you see? Visit the ' +\n",
              "            '<a target=\"_blank\" href=https://colab.research.google.com/notebooks/data_table.ipynb>data table notebook</a>'\n",
              "            + ' to learn more about interactive tables.';\n",
              "          element.innerHTML = '';\n",
              "          dataTable['output_type'] = 'display_data';\n",
              "          await google.colab.output.renderOutput(dataTable, element);\n",
              "          const docLink = document.createElement('div');\n",
              "          docLink.innerHTML = docLinkHtml;\n",
              "          element.appendChild(docLink);\n",
              "        }\n",
              "      </script>\n",
              "    </div>\n",
              "  </div>\n",
              "  "
            ]
          },
          "metadata": {},
          "execution_count": 7
        }
      ],
      "source": [
        "english_hope_train.pop('unnamed')\n",
        "english_hope_test.pop('unnamed')\n",
        "english_hope_train.describe()"
      ]
    },
    {
      "cell_type": "code",
      "execution_count": 8,
      "metadata": {
        "colab": {
          "base_uri": "https://localhost:8080/",
          "height": 204
        },
        "id": "utvFORLYLAO8",
        "outputId": "730ed9dc-98e2-4bbe-bddd-6408ddd6ac6c"
      },
      "outputs": [
        {
          "output_type": "execute_result",
          "data": {
            "text/plain": [
              "                                               texts            label\n",
              "0  these tiktoks radiate gay chaotic energy and i...  Non_hope_speech\n",
              "1  @Champions Again He got killed for using false...  Non_hope_speech\n",
              "2               It's not that all lives don't matter  Non_hope_speech\n",
              "3  Is it really that difficult to understand? Bla...  Non_hope_speech\n",
              "4  Whenever we say black isn't that racists?  Why...  Non_hope_speech"
            ],
            "text/html": [
              "\n",
              "  <div id=\"df-90d6f58a-8fe2-4f83-a830-0371b38b1547\">\n",
              "    <div class=\"colab-df-container\">\n",
              "      <div>\n",
              "<style scoped>\n",
              "    .dataframe tbody tr th:only-of-type {\n",
              "        vertical-align: middle;\n",
              "    }\n",
              "\n",
              "    .dataframe tbody tr th {\n",
              "        vertical-align: top;\n",
              "    }\n",
              "\n",
              "    .dataframe thead th {\n",
              "        text-align: right;\n",
              "    }\n",
              "</style>\n",
              "<table border=\"1\" class=\"dataframe\">\n",
              "  <thead>\n",
              "    <tr style=\"text-align: right;\">\n",
              "      <th></th>\n",
              "      <th>texts</th>\n",
              "      <th>label</th>\n",
              "    </tr>\n",
              "  </thead>\n",
              "  <tbody>\n",
              "    <tr>\n",
              "      <th>0</th>\n",
              "      <td>these tiktoks radiate gay chaotic energy and i...</td>\n",
              "      <td>Non_hope_speech</td>\n",
              "    </tr>\n",
              "    <tr>\n",
              "      <th>1</th>\n",
              "      <td>@Champions Again He got killed for using false...</td>\n",
              "      <td>Non_hope_speech</td>\n",
              "    </tr>\n",
              "    <tr>\n",
              "      <th>2</th>\n",
              "      <td>It's not that all lives don't matter</td>\n",
              "      <td>Non_hope_speech</td>\n",
              "    </tr>\n",
              "    <tr>\n",
              "      <th>3</th>\n",
              "      <td>Is it really that difficult to understand? Bla...</td>\n",
              "      <td>Non_hope_speech</td>\n",
              "    </tr>\n",
              "    <tr>\n",
              "      <th>4</th>\n",
              "      <td>Whenever we say black isn't that racists?  Why...</td>\n",
              "      <td>Non_hope_speech</td>\n",
              "    </tr>\n",
              "  </tbody>\n",
              "</table>\n",
              "</div>\n",
              "      <button class=\"colab-df-convert\" onclick=\"convertToInteractive('df-90d6f58a-8fe2-4f83-a830-0371b38b1547')\"\n",
              "              title=\"Convert this dataframe to an interactive table.\"\n",
              "              style=\"display:none;\">\n",
              "        \n",
              "  <svg xmlns=\"http://www.w3.org/2000/svg\" height=\"24px\"viewBox=\"0 0 24 24\"\n",
              "       width=\"24px\">\n",
              "    <path d=\"M0 0h24v24H0V0z\" fill=\"none\"/>\n",
              "    <path d=\"M18.56 5.44l.94 2.06.94-2.06 2.06-.94-2.06-.94-.94-2.06-.94 2.06-2.06.94zm-11 1L8.5 8.5l.94-2.06 2.06-.94-2.06-.94L8.5 2.5l-.94 2.06-2.06.94zm10 10l.94 2.06.94-2.06 2.06-.94-2.06-.94-.94-2.06-.94 2.06-2.06.94z\"/><path d=\"M17.41 7.96l-1.37-1.37c-.4-.4-.92-.59-1.43-.59-.52 0-1.04.2-1.43.59L10.3 9.45l-7.72 7.72c-.78.78-.78 2.05 0 2.83L4 21.41c.39.39.9.59 1.41.59.51 0 1.02-.2 1.41-.59l7.78-7.78 2.81-2.81c.8-.78.8-2.07 0-2.86zM5.41 20L4 18.59l7.72-7.72 1.47 1.35L5.41 20z\"/>\n",
              "  </svg>\n",
              "      </button>\n",
              "      \n",
              "  <style>\n",
              "    .colab-df-container {\n",
              "      display:flex;\n",
              "      flex-wrap:wrap;\n",
              "      gap: 12px;\n",
              "    }\n",
              "\n",
              "    .colab-df-convert {\n",
              "      background-color: #E8F0FE;\n",
              "      border: none;\n",
              "      border-radius: 50%;\n",
              "      cursor: pointer;\n",
              "      display: none;\n",
              "      fill: #1967D2;\n",
              "      height: 32px;\n",
              "      padding: 0 0 0 0;\n",
              "      width: 32px;\n",
              "    }\n",
              "\n",
              "    .colab-df-convert:hover {\n",
              "      background-color: #E2EBFA;\n",
              "      box-shadow: 0px 1px 2px rgba(60, 64, 67, 0.3), 0px 1px 3px 1px rgba(60, 64, 67, 0.15);\n",
              "      fill: #174EA6;\n",
              "    }\n",
              "\n",
              "    [theme=dark] .colab-df-convert {\n",
              "      background-color: #3B4455;\n",
              "      fill: #D2E3FC;\n",
              "    }\n",
              "\n",
              "    [theme=dark] .colab-df-convert:hover {\n",
              "      background-color: #434B5C;\n",
              "      box-shadow: 0px 1px 3px 1px rgba(0, 0, 0, 0.15);\n",
              "      filter: drop-shadow(0px 1px 2px rgba(0, 0, 0, 0.3));\n",
              "      fill: #FFFFFF;\n",
              "    }\n",
              "  </style>\n",
              "\n",
              "      <script>\n",
              "        const buttonEl =\n",
              "          document.querySelector('#df-90d6f58a-8fe2-4f83-a830-0371b38b1547 button.colab-df-convert');\n",
              "        buttonEl.style.display =\n",
              "          google.colab.kernel.accessAllowed ? 'block' : 'none';\n",
              "\n",
              "        async function convertToInteractive(key) {\n",
              "          const element = document.querySelector('#df-90d6f58a-8fe2-4f83-a830-0371b38b1547');\n",
              "          const dataTable =\n",
              "            await google.colab.kernel.invokeFunction('convertToInteractive',\n",
              "                                                     [key], {});\n",
              "          if (!dataTable) return;\n",
              "\n",
              "          const docLinkHtml = 'Like what you see? Visit the ' +\n",
              "            '<a target=\"_blank\" href=https://colab.research.google.com/notebooks/data_table.ipynb>data table notebook</a>'\n",
              "            + ' to learn more about interactive tables.';\n",
              "          element.innerHTML = '';\n",
              "          dataTable['output_type'] = 'display_data';\n",
              "          await google.colab.output.renderOutput(dataTable, element);\n",
              "          const docLink = document.createElement('div');\n",
              "          docLink.innerHTML = docLinkHtml;\n",
              "          element.appendChild(docLink);\n",
              "        }\n",
              "      </script>\n",
              "    </div>\n",
              "  </div>\n",
              "  "
            ]
          },
          "metadata": {},
          "execution_count": 8
        }
      ],
      "source": [
        "english_hope_train.head()"
      ]
    },
    {
      "cell_type": "code",
      "execution_count": 9,
      "metadata": {
        "colab": {
          "base_uri": "https://localhost:8080/"
        },
        "id": "sIIOJH7dpeKt",
        "outputId": "cee49037-bf3f-47ab-c9bc-935f09b7ea81"
      },
      "outputs": [
        {
          "output_type": "execute_result",
          "data": {
            "text/plain": [
              "array(['Non_hope_speech', 'Hope_speech', 'not-English'], dtype=object)"
            ]
          },
          "metadata": {},
          "execution_count": 9
        }
      ],
      "source": [
        "english_labels = english_hope_train['label'].unique()\n",
        "english_labels"
      ]
    },
    {
      "cell_type": "code",
      "execution_count": 10,
      "metadata": {
        "colab": {
          "base_uri": "https://localhost:8080/"
        },
        "id": "KXihndjbL6EH",
        "outputId": "8c6c3a50-586a-4f4a-c9c8-125b83b5bfba"
      },
      "outputs": [
        {
          "output_type": "execute_result",
          "data": {
            "text/plain": [
              "array(['these tiktoks radiate gay chaotic energy and i love it',\n",
              "       'Non_hope_speech'], dtype=object)"
            ]
          },
          "metadata": {},
          "execution_count": 10
        }
      ],
      "source": [
        "english_hope_train.to_numpy()[0]"
      ]
    },
    {
      "cell_type": "code",
      "execution_count": 11,
      "metadata": {
        "colab": {
          "base_uri": "https://localhost:8080/"
        },
        "id": "R-lpV-FAIO_e",
        "outputId": "c062f8fb-9fda-46e6-bc32-4e1325e238c8"
      },
      "outputs": [
        {
          "output_type": "execute_result",
          "data": {
            "text/plain": [
              "texts    0\n",
              "label    0\n",
              "dtype: int64"
            ]
          },
          "metadata": {},
          "execution_count": 11
        }
      ],
      "source": [
        "english_hope_train.isnull().sum()"
      ]
    },
    {
      "cell_type": "code",
      "execution_count": 12,
      "metadata": {
        "id": "v3nON6vV9hty"
      },
      "outputs": [],
      "source": [
        "tamil_hope_train = pd.read_csv('tamil_hope_first_train.csv', header=None, names=['texts','label','unnamed'], delimiter='\\t')\n",
        "tamil_hope_test = pd.read_csv('tamil_hope_first_dev.csv', header=None, names=['texts','label','unnamed'], delimiter='\\t')"
      ]
    },
    {
      "cell_type": "code",
      "execution_count": 13,
      "metadata": {
        "colab": {
          "base_uri": "https://localhost:8080/",
          "height": 173
        },
        "id": "j4aXiIRE955W",
        "outputId": "c3ef7bfb-a588-4789-f0d3-3cd56f24b20d"
      },
      "outputs": [
        {
          "output_type": "execute_result",
          "data": {
            "text/plain": [
              "           texts            label\n",
              "count      16160            16160\n",
              "unique     15407                3\n",
              "top     MG squad  Non_hope_speech\n",
              "freq         113             7872"
            ],
            "text/html": [
              "\n",
              "  <div id=\"df-1333e02a-0e24-46c9-bec4-b060c1c2878e\">\n",
              "    <div class=\"colab-df-container\">\n",
              "      <div>\n",
              "<style scoped>\n",
              "    .dataframe tbody tr th:only-of-type {\n",
              "        vertical-align: middle;\n",
              "    }\n",
              "\n",
              "    .dataframe tbody tr th {\n",
              "        vertical-align: top;\n",
              "    }\n",
              "\n",
              "    .dataframe thead th {\n",
              "        text-align: right;\n",
              "    }\n",
              "</style>\n",
              "<table border=\"1\" class=\"dataframe\">\n",
              "  <thead>\n",
              "    <tr style=\"text-align: right;\">\n",
              "      <th></th>\n",
              "      <th>texts</th>\n",
              "      <th>label</th>\n",
              "    </tr>\n",
              "  </thead>\n",
              "  <tbody>\n",
              "    <tr>\n",
              "      <th>count</th>\n",
              "      <td>16160</td>\n",
              "      <td>16160</td>\n",
              "    </tr>\n",
              "    <tr>\n",
              "      <th>unique</th>\n",
              "      <td>15407</td>\n",
              "      <td>3</td>\n",
              "    </tr>\n",
              "    <tr>\n",
              "      <th>top</th>\n",
              "      <td>MG squad</td>\n",
              "      <td>Non_hope_speech</td>\n",
              "    </tr>\n",
              "    <tr>\n",
              "      <th>freq</th>\n",
              "      <td>113</td>\n",
              "      <td>7872</td>\n",
              "    </tr>\n",
              "  </tbody>\n",
              "</table>\n",
              "</div>\n",
              "      <button class=\"colab-df-convert\" onclick=\"convertToInteractive('df-1333e02a-0e24-46c9-bec4-b060c1c2878e')\"\n",
              "              title=\"Convert this dataframe to an interactive table.\"\n",
              "              style=\"display:none;\">\n",
              "        \n",
              "  <svg xmlns=\"http://www.w3.org/2000/svg\" height=\"24px\"viewBox=\"0 0 24 24\"\n",
              "       width=\"24px\">\n",
              "    <path d=\"M0 0h24v24H0V0z\" fill=\"none\"/>\n",
              "    <path d=\"M18.56 5.44l.94 2.06.94-2.06 2.06-.94-2.06-.94-.94-2.06-.94 2.06-2.06.94zm-11 1L8.5 8.5l.94-2.06 2.06-.94-2.06-.94L8.5 2.5l-.94 2.06-2.06.94zm10 10l.94 2.06.94-2.06 2.06-.94-2.06-.94-.94-2.06-.94 2.06-2.06.94z\"/><path d=\"M17.41 7.96l-1.37-1.37c-.4-.4-.92-.59-1.43-.59-.52 0-1.04.2-1.43.59L10.3 9.45l-7.72 7.72c-.78.78-.78 2.05 0 2.83L4 21.41c.39.39.9.59 1.41.59.51 0 1.02-.2 1.41-.59l7.78-7.78 2.81-2.81c.8-.78.8-2.07 0-2.86zM5.41 20L4 18.59l7.72-7.72 1.47 1.35L5.41 20z\"/>\n",
              "  </svg>\n",
              "      </button>\n",
              "      \n",
              "  <style>\n",
              "    .colab-df-container {\n",
              "      display:flex;\n",
              "      flex-wrap:wrap;\n",
              "      gap: 12px;\n",
              "    }\n",
              "\n",
              "    .colab-df-convert {\n",
              "      background-color: #E8F0FE;\n",
              "      border: none;\n",
              "      border-radius: 50%;\n",
              "      cursor: pointer;\n",
              "      display: none;\n",
              "      fill: #1967D2;\n",
              "      height: 32px;\n",
              "      padding: 0 0 0 0;\n",
              "      width: 32px;\n",
              "    }\n",
              "\n",
              "    .colab-df-convert:hover {\n",
              "      background-color: #E2EBFA;\n",
              "      box-shadow: 0px 1px 2px rgba(60, 64, 67, 0.3), 0px 1px 3px 1px rgba(60, 64, 67, 0.15);\n",
              "      fill: #174EA6;\n",
              "    }\n",
              "\n",
              "    [theme=dark] .colab-df-convert {\n",
              "      background-color: #3B4455;\n",
              "      fill: #D2E3FC;\n",
              "    }\n",
              "\n",
              "    [theme=dark] .colab-df-convert:hover {\n",
              "      background-color: #434B5C;\n",
              "      box-shadow: 0px 1px 3px 1px rgba(0, 0, 0, 0.15);\n",
              "      filter: drop-shadow(0px 1px 2px rgba(0, 0, 0, 0.3));\n",
              "      fill: #FFFFFF;\n",
              "    }\n",
              "  </style>\n",
              "\n",
              "      <script>\n",
              "        const buttonEl =\n",
              "          document.querySelector('#df-1333e02a-0e24-46c9-bec4-b060c1c2878e button.colab-df-convert');\n",
              "        buttonEl.style.display =\n",
              "          google.colab.kernel.accessAllowed ? 'block' : 'none';\n",
              "\n",
              "        async function convertToInteractive(key) {\n",
              "          const element = document.querySelector('#df-1333e02a-0e24-46c9-bec4-b060c1c2878e');\n",
              "          const dataTable =\n",
              "            await google.colab.kernel.invokeFunction('convertToInteractive',\n",
              "                                                     [key], {});\n",
              "          if (!dataTable) return;\n",
              "\n",
              "          const docLinkHtml = 'Like what you see? Visit the ' +\n",
              "            '<a target=\"_blank\" href=https://colab.research.google.com/notebooks/data_table.ipynb>data table notebook</a>'\n",
              "            + ' to learn more about interactive tables.';\n",
              "          element.innerHTML = '';\n",
              "          dataTable['output_type'] = 'display_data';\n",
              "          await google.colab.output.renderOutput(dataTable, element);\n",
              "          const docLink = document.createElement('div');\n",
              "          docLink.innerHTML = docLinkHtml;\n",
              "          element.appendChild(docLink);\n",
              "        }\n",
              "      </script>\n",
              "    </div>\n",
              "  </div>\n",
              "  "
            ]
          },
          "metadata": {},
          "execution_count": 13
        }
      ],
      "source": [
        "tamil_hope_train.pop('unnamed')\n",
        "tamil_hope_test.pop('unnamed')\n",
        "tamil_hope_train.describe()"
      ]
    },
    {
      "cell_type": "code",
      "execution_count": 14,
      "metadata": {
        "colab": {
          "base_uri": "https://localhost:8080/",
          "height": 204
        },
        "id": "brPcuniD95uf",
        "outputId": "7d4ae431-74d4-4f4d-f235-f0bd6f933544"
      },
      "outputs": [
        {
          "output_type": "execute_result",
          "data": {
            "text/plain": [
              "                                               texts            label\n",
              "0                               Realme india product        not-Tamil\n",
              "1  I also don't have tiktok hello and allnBut I'm...      Hope_speech\n",
              "2  Thalaivare..neengale inum one plus mobile vach...  Non_hope_speech\n",
              "3  Annee varanda thondai.. corona virus affect pa...      Hope_speech\n",
              "4                                 5views but 18likes  Non_hope_speech"
            ],
            "text/html": [
              "\n",
              "  <div id=\"df-2808a21c-c273-4671-942f-db2b078b1ab6\">\n",
              "    <div class=\"colab-df-container\">\n",
              "      <div>\n",
              "<style scoped>\n",
              "    .dataframe tbody tr th:only-of-type {\n",
              "        vertical-align: middle;\n",
              "    }\n",
              "\n",
              "    .dataframe tbody tr th {\n",
              "        vertical-align: top;\n",
              "    }\n",
              "\n",
              "    .dataframe thead th {\n",
              "        text-align: right;\n",
              "    }\n",
              "</style>\n",
              "<table border=\"1\" class=\"dataframe\">\n",
              "  <thead>\n",
              "    <tr style=\"text-align: right;\">\n",
              "      <th></th>\n",
              "      <th>texts</th>\n",
              "      <th>label</th>\n",
              "    </tr>\n",
              "  </thead>\n",
              "  <tbody>\n",
              "    <tr>\n",
              "      <th>0</th>\n",
              "      <td>Realme india product</td>\n",
              "      <td>not-Tamil</td>\n",
              "    </tr>\n",
              "    <tr>\n",
              "      <th>1</th>\n",
              "      <td>I also don't have tiktok hello and allnBut I'm...</td>\n",
              "      <td>Hope_speech</td>\n",
              "    </tr>\n",
              "    <tr>\n",
              "      <th>2</th>\n",
              "      <td>Thalaivare..neengale inum one plus mobile vach...</td>\n",
              "      <td>Non_hope_speech</td>\n",
              "    </tr>\n",
              "    <tr>\n",
              "      <th>3</th>\n",
              "      <td>Annee varanda thondai.. corona virus affect pa...</td>\n",
              "      <td>Hope_speech</td>\n",
              "    </tr>\n",
              "    <tr>\n",
              "      <th>4</th>\n",
              "      <td>5views but 18likes</td>\n",
              "      <td>Non_hope_speech</td>\n",
              "    </tr>\n",
              "  </tbody>\n",
              "</table>\n",
              "</div>\n",
              "      <button class=\"colab-df-convert\" onclick=\"convertToInteractive('df-2808a21c-c273-4671-942f-db2b078b1ab6')\"\n",
              "              title=\"Convert this dataframe to an interactive table.\"\n",
              "              style=\"display:none;\">\n",
              "        \n",
              "  <svg xmlns=\"http://www.w3.org/2000/svg\" height=\"24px\"viewBox=\"0 0 24 24\"\n",
              "       width=\"24px\">\n",
              "    <path d=\"M0 0h24v24H0V0z\" fill=\"none\"/>\n",
              "    <path d=\"M18.56 5.44l.94 2.06.94-2.06 2.06-.94-2.06-.94-.94-2.06-.94 2.06-2.06.94zm-11 1L8.5 8.5l.94-2.06 2.06-.94-2.06-.94L8.5 2.5l-.94 2.06-2.06.94zm10 10l.94 2.06.94-2.06 2.06-.94-2.06-.94-.94-2.06-.94 2.06-2.06.94z\"/><path d=\"M17.41 7.96l-1.37-1.37c-.4-.4-.92-.59-1.43-.59-.52 0-1.04.2-1.43.59L10.3 9.45l-7.72 7.72c-.78.78-.78 2.05 0 2.83L4 21.41c.39.39.9.59 1.41.59.51 0 1.02-.2 1.41-.59l7.78-7.78 2.81-2.81c.8-.78.8-2.07 0-2.86zM5.41 20L4 18.59l7.72-7.72 1.47 1.35L5.41 20z\"/>\n",
              "  </svg>\n",
              "      </button>\n",
              "      \n",
              "  <style>\n",
              "    .colab-df-container {\n",
              "      display:flex;\n",
              "      flex-wrap:wrap;\n",
              "      gap: 12px;\n",
              "    }\n",
              "\n",
              "    .colab-df-convert {\n",
              "      background-color: #E8F0FE;\n",
              "      border: none;\n",
              "      border-radius: 50%;\n",
              "      cursor: pointer;\n",
              "      display: none;\n",
              "      fill: #1967D2;\n",
              "      height: 32px;\n",
              "      padding: 0 0 0 0;\n",
              "      width: 32px;\n",
              "    }\n",
              "\n",
              "    .colab-df-convert:hover {\n",
              "      background-color: #E2EBFA;\n",
              "      box-shadow: 0px 1px 2px rgba(60, 64, 67, 0.3), 0px 1px 3px 1px rgba(60, 64, 67, 0.15);\n",
              "      fill: #174EA6;\n",
              "    }\n",
              "\n",
              "    [theme=dark] .colab-df-convert {\n",
              "      background-color: #3B4455;\n",
              "      fill: #D2E3FC;\n",
              "    }\n",
              "\n",
              "    [theme=dark] .colab-df-convert:hover {\n",
              "      background-color: #434B5C;\n",
              "      box-shadow: 0px 1px 3px 1px rgba(0, 0, 0, 0.15);\n",
              "      filter: drop-shadow(0px 1px 2px rgba(0, 0, 0, 0.3));\n",
              "      fill: #FFFFFF;\n",
              "    }\n",
              "  </style>\n",
              "\n",
              "      <script>\n",
              "        const buttonEl =\n",
              "          document.querySelector('#df-2808a21c-c273-4671-942f-db2b078b1ab6 button.colab-df-convert');\n",
              "        buttonEl.style.display =\n",
              "          google.colab.kernel.accessAllowed ? 'block' : 'none';\n",
              "\n",
              "        async function convertToInteractive(key) {\n",
              "          const element = document.querySelector('#df-2808a21c-c273-4671-942f-db2b078b1ab6');\n",
              "          const dataTable =\n",
              "            await google.colab.kernel.invokeFunction('convertToInteractive',\n",
              "                                                     [key], {});\n",
              "          if (!dataTable) return;\n",
              "\n",
              "          const docLinkHtml = 'Like what you see? Visit the ' +\n",
              "            '<a target=\"_blank\" href=https://colab.research.google.com/notebooks/data_table.ipynb>data table notebook</a>'\n",
              "            + ' to learn more about interactive tables.';\n",
              "          element.innerHTML = '';\n",
              "          dataTable['output_type'] = 'display_data';\n",
              "          await google.colab.output.renderOutput(dataTable, element);\n",
              "          const docLink = document.createElement('div');\n",
              "          docLink.innerHTML = docLinkHtml;\n",
              "          element.appendChild(docLink);\n",
              "        }\n",
              "      </script>\n",
              "    </div>\n",
              "  </div>\n",
              "  "
            ]
          },
          "metadata": {},
          "execution_count": 14
        }
      ],
      "source": [
        "tamil_hope_train.head()"
      ]
    },
    {
      "cell_type": "code",
      "source": [
        "tamil_hope_train.isnull().sum()"
      ],
      "metadata": {
        "colab": {
          "base_uri": "https://localhost:8080/"
        },
        "id": "KLYb4vxRWQT0",
        "outputId": "9d2a01d8-8b11-44d8-dba2-e141b0a5f6c9"
      },
      "execution_count": 15,
      "outputs": [
        {
          "output_type": "execute_result",
          "data": {
            "text/plain": [
              "texts    0\n",
              "label    0\n",
              "dtype: int64"
            ]
          },
          "metadata": {},
          "execution_count": 15
        }
      ]
    },
    {
      "cell_type": "code",
      "execution_count": 16,
      "metadata": {
        "colab": {
          "base_uri": "https://localhost:8080/"
        },
        "id": "t8h67Uby-xk5",
        "outputId": "ba483059-cb34-4d66-adcb-4706022ab3cc"
      },
      "outputs": [
        {
          "output_type": "execute_result",
          "data": {
            "text/plain": [
              "array(['Non_hope_speech', 'Hope_speech', 'not-Tamil'], dtype=object)"
            ]
          },
          "metadata": {},
          "execution_count": 16
        }
      ],
      "source": [
        "tamil_labels = tamil_hope_train['label'].unique()[::-1]\n",
        "tamil_labels"
      ]
    },
    {
      "cell_type": "markdown",
      "metadata": {
        "id": "SIPE1v-MuNhl"
      },
      "source": [
        "# Data Preprocessing"
      ]
    },
    {
      "cell_type": "code",
      "execution_count": 17,
      "metadata": {
        "id": "WUoapnDv3jR6"
      },
      "outputs": [],
      "source": [
        "def preprocess(text):\n",
        "  text = emoji.get_emoji_regexp().sub(r'',  re.sub(r'[^\\w\\s]', '',text.lower()))\n",
        "  stops = stopwords.words()\n",
        "  tokens = word_tokenize(text)\n",
        "  words = [word for word in tokens if word not in stops]\n",
        "  ps = PorterStemmer()\n",
        "  return ' '.join([ps.stem(word) for word in words])"
      ]
    },
    {
      "cell_type": "code",
      "execution_count": 18,
      "metadata": {
        "id": "zWDhIcm9NwJH"
      },
      "outputs": [],
      "source": [
        "english_hope_train[\"texts\"] = english_hope_train[\"texts\"].apply(lambda text: preprocess(text))\n",
        "english_hope_test[\"texts\"] = english_hope_test[\"texts\"].apply(lambda text: preprocess(text))"
      ]
    },
    {
      "cell_type": "code",
      "execution_count": 19,
      "metadata": {
        "id": "60b6cw4nB5VH",
        "colab": {
          "base_uri": "https://localhost:8080/"
        },
        "outputId": "bfc5a964-947a-41d0-abde-c1643c331c11"
      },
      "outputs": [
        {
          "output_type": "execute_result",
          "data": {
            "text/plain": [
              "array(['Non_hope_speech', 'Hope_speech', 'not-English'], dtype=object)"
            ]
          },
          "metadata": {},
          "execution_count": 19
        }
      ],
      "source": [
        "english_labels"
      ]
    },
    {
      "cell_type": "code",
      "execution_count": 20,
      "metadata": {
        "id": "Wy1D2_CIB2py"
      },
      "outputs": [],
      "source": [
        "english_hope_train[\"enc_label\"] = english_hope_train[\"label\"].map({'Non_hope_speech': 0, 'Hope_speech': 1, 'not-English': 2})\n",
        "english_hope_test[\"enc_label\"] = english_hope_test[\"label\"].map({'Non_hope_speech': 0, 'Hope_speech': 1, 'not-English': 2})"
      ]
    },
    {
      "cell_type": "code",
      "execution_count": 21,
      "metadata": {
        "id": "YktqQRhq_DlK"
      },
      "outputs": [],
      "source": [
        "tamil_hope_train[\"texts\"] = tamil_hope_train[\"texts\"].apply(lambda text: preprocess(text))\n",
        "tamil_hope_test[\"texts\"] = tamil_hope_test[\"texts\"].apply(lambda text: preprocess(text))"
      ]
    },
    {
      "cell_type": "code",
      "execution_count": 22,
      "metadata": {
        "id": "VO2M9sh-ClyA",
        "colab": {
          "base_uri": "https://localhost:8080/"
        },
        "outputId": "71c23244-c73c-45ec-ed19-f43311b3c169"
      },
      "outputs": [
        {
          "output_type": "execute_result",
          "data": {
            "text/plain": [
              "array(['Non_hope_speech', 'Hope_speech', 'not-Tamil'], dtype=object)"
            ]
          },
          "metadata": {},
          "execution_count": 22
        }
      ],
      "source": [
        "tamil_labels"
      ]
    },
    {
      "cell_type": "code",
      "execution_count": 23,
      "metadata": {
        "id": "2Z8O5LdXCj9S"
      },
      "outputs": [],
      "source": [
        "tamil_hope_train[\"enc_label\"] = tamil_hope_train[\"label\"].map({'Non_hope_speech': 0, 'Hope_speech': 1, 'not-Tamil': 2})\n",
        "tamil_hope_test[\"enc_label\"] = tamil_hope_test[\"label\"].map({'Non_hope_speech': 0, 'Hope_speech': 1, 'not-Tamil': 2})"
      ]
    },
    {
      "cell_type": "code",
      "execution_count": 24,
      "metadata": {
        "id": "bMqENz77HARh",
        "colab": {
          "base_uri": "https://localhost:8080/"
        },
        "outputId": "01ba4193-492e-47e0-aaa6-cb7617e9be3a"
      },
      "outputs": [
        {
          "output_type": "execute_result",
          "data": {
            "text/plain": [
              "{'english_scores': {}, 'tamil_scores': {}}"
            ]
          },
          "metadata": {},
          "execution_count": 24
        }
      ],
      "source": [
        "scores = {'english_scores': {}, 'tamil_scores': {}}\n",
        "scores"
      ]
    },
    {
      "cell_type": "markdown",
      "metadata": {
        "id": "c71tyhaBuTgs"
      },
      "source": [
        "# ML models"
      ]
    },
    {
      "cell_type": "code",
      "source": [
        "def print_scores(ytest, ypred, labels=english_labels):\n",
        "  print('\\n----------Test Scores----------\\n')\n",
        "  # Scores\n",
        "  scores = {'F1-Score': f1_score(ytest, ypred, average = 'weighted'), 'Accuracy': accuracy_score(ytest, ypred),\n",
        "            'Precision': precision_score(ytest, ypred, average = 'weighted'), 'Recall': recall_score(ytest, ypred, average = 'weighted'), \n",
        "            'Classification Report': classification_report(ytest, ypred, labels=[0,1,2], target_names=labels),\n",
        "            'Confusion Matrix Display': ConfusionMatrixDisplay.from_predictions(ytest, ypred, display_labels=labels)}\n",
        "  print(\"Precision: {}\".format(scores['Precision']))\n",
        "  print(\"Recall: {}\".format(scores['Recall']))\n",
        "  print(\"F1-Score: {}\".format(scores['F1-Score']))\n",
        "  print(\"Accuracy: {}\\n\".format(scores['Accuracy']))\n",
        "  print(scores['Classification Report'],'\\n')\n",
        "  scores['Confusion Matrix Display']\n",
        "  return scores"
      ],
      "metadata": {
        "id": "qZch3fktgK2F"
      },
      "execution_count": 25,
      "outputs": []
    },
    {
      "cell_type": "markdown",
      "metadata": {
        "id": "Euerd2cDuS7F"
      },
      "source": [
        "## Tokenizer"
      ]
    },
    {
      "cell_type": "code",
      "execution_count": 26,
      "metadata": {
        "id": "im5wQCCYDBWQ"
      },
      "outputs": [],
      "source": [
        "english_tfidf_vec = TfidfVectorizer()\n",
        "\n",
        "english_Xtrain = english_tfidf_vec.fit_transform(english_hope_train[\"texts\"])\n",
        "english_ytrain = np.array(english_hope_train[\"enc_label\"])\n",
        "\n",
        "english_Xtest = english_tfidf_vec.transform(english_hope_test[\"texts\"])\n",
        "english_ytest = np.array(english_hope_test[\"enc_label\"])"
      ]
    },
    {
      "cell_type": "code",
      "execution_count": 27,
      "metadata": {
        "id": "L-Uj8mjt_Rnh"
      },
      "outputs": [],
      "source": [
        "tamil_tfidf_vec = TfidfVectorizer()\n",
        "\n",
        "tamil_Xtrain = tamil_tfidf_vec.fit_transform(tamil_hope_train[\"texts\"])\n",
        "tamil_ytrain = np.array(tamil_hope_train[\"enc_label\"])\n",
        "\n",
        "tamil_Xtest = tamil_tfidf_vec.transform(tamil_hope_test[\"texts\"])\n",
        "tamil_ytest = np.array(tamil_hope_test[\"enc_label\"])"
      ]
    },
    {
      "cell_type": "markdown",
      "metadata": {
        "id": "c0ha9syuDTWE"
      },
      "source": [
        "## LR"
      ]
    },
    {
      "cell_type": "code",
      "execution_count": null,
      "metadata": {
        "id": "RseUaYC7DSoH"
      },
      "outputs": [],
      "source": [
        "def LogReg(X_train = english_Xtrain, y_train = english_ytrain, X_test = english_Xtest, y_test = english_ytest, penalty='l2', C=1.0, solver='lbfgs', multi_class='auto', iters=100, l1_ratio=None):\n",
        "  if (penalty=='l1' or penalty=='elasticnet') and solver=='lbfgs':\n",
        "    return\n",
        "  if penalty=='elasticnet':\n",
        "    l1_ratio = 0.5\n",
        "  logreg = LogisticRegression(penalty=penalty, C=C, solver=solver, multi_class=multi_class, max_iter=iters, l1_ratio=l1_ratio)\n",
        "  logreg.fit(X_train, y_train)\n",
        "  y_pred = logreg.predict(X_test)\n",
        "  print('Logistic Regression - penalty: {} , C: {} , solver : {} , multi_class : {}'.format(penalty, C, solver, multi_class))\n",
        "  print('Testing accuracy %s' % accuracy_score(y_test, y_pred))\n",
        "  print('Testing F1 score: {}'.format(f1_score(y_test, y_pred, average='weighted')))\n",
        "  print('\\n------------------------------------------------\\n')"
      ]
    },
    {
      "cell_type": "code",
      "execution_count": null,
      "metadata": {
        "id": "VX2jx2wyErB_"
      },
      "outputs": [],
      "source": [
        "# Different parameters\n",
        "C_vals = [1, 1e3, 1e-3, 1e5, 1e-5]\n",
        "solvers = ['newton-cg', 'sag', 'saga', 'lbfgs']\n",
        "multi_classes = ['auto', 'ovr', 'multinomial']\n",
        "penalties = ['l1', 'l2', 'elasticnet']"
      ]
    },
    {
      "cell_type": "markdown",
      "metadata": {
        "id": "fL5_3IhdE7Cp"
      },
      "source": [
        "### English"
      ]
    },
    {
      "cell_type": "code",
      "execution_count": null,
      "metadata": {
        "colab": {
          "base_uri": "https://localhost:8080/"
        },
        "id": "CEvtn-6aO2vW",
        "outputId": "ea2a601d-19bf-4505-f9dc-4a29c0f2dd4c"
      },
      "outputs": [
        {
          "output_type": "stream",
          "name": "stdout",
          "text": [
            "Logistic Regression - penalty: l2 , C: 1 , solver : lbfgs , multi_class : auto\n",
            "Testing accuracy 0.9176925782623989\n",
            "Testing F1 score: 0.9027172599606145\n",
            "\n",
            "------------------------------------------------\n",
            "\n"
          ]
        },
        {
          "output_type": "stream",
          "name": "stderr",
          "text": [
            "/usr/local/lib/python3.7/dist-packages/sklearn/linear_model/_logistic.py:818: ConvergenceWarning: lbfgs failed to converge (status=1):\n",
            "STOP: TOTAL NO. of ITERATIONS REACHED LIMIT.\n",
            "\n",
            "Increase the number of iterations (max_iter) or scale the data as shown in:\n",
            "    https://scikit-learn.org/stable/modules/preprocessing.html\n",
            "Please also refer to the documentation for alternative solver options:\n",
            "    https://scikit-learn.org/stable/modules/linear_model.html#logistic-regression\n",
            "  extra_warning_msg=_LOGISTIC_SOLVER_CONVERGENCE_MSG,\n"
          ]
        },
        {
          "output_type": "stream",
          "name": "stdout",
          "text": [
            "Logistic Regression - penalty: l2 , C: 1000.0 , solver : lbfgs , multi_class : auto\n",
            "Testing accuracy 0.888498065423848\n",
            "Testing F1 score: 0.8851544012025283\n",
            "\n",
            "------------------------------------------------\n",
            "\n",
            "Logistic Regression - penalty: l2 , C: 0.001 , solver : lbfgs , multi_class : auto\n",
            "Testing accuracy 0.9036229335209286\n",
            "Testing F1 score: 0.85787410059692\n",
            "\n",
            "------------------------------------------------\n",
            "\n"
          ]
        },
        {
          "output_type": "stream",
          "name": "stderr",
          "text": [
            "/usr/local/lib/python3.7/dist-packages/sklearn/linear_model/_logistic.py:818: ConvergenceWarning: lbfgs failed to converge (status=1):\n",
            "STOP: TOTAL NO. of ITERATIONS REACHED LIMIT.\n",
            "\n",
            "Increase the number of iterations (max_iter) or scale the data as shown in:\n",
            "    https://scikit-learn.org/stable/modules/preprocessing.html\n",
            "Please also refer to the documentation for alternative solver options:\n",
            "    https://scikit-learn.org/stable/modules/linear_model.html#logistic-regression\n",
            "  extra_warning_msg=_LOGISTIC_SOLVER_CONVERGENCE_MSG,\n"
          ]
        },
        {
          "output_type": "stream",
          "name": "stdout",
          "text": [
            "Logistic Regression - penalty: l2 , C: 100000.0 , solver : lbfgs , multi_class : auto\n",
            "Testing accuracy 0.8920154766092157\n",
            "Testing F1 score: 0.8877395583403991\n",
            "\n",
            "------------------------------------------------\n",
            "\n",
            "Logistic Regression - penalty: l2 , C: 1e-05 , solver : lbfgs , multi_class : auto\n",
            "Testing accuracy 0.9036229335209286\n",
            "Testing F1 score: 0.85787410059692\n",
            "\n",
            "------------------------------------------------\n",
            "\n"
          ]
        }
      ],
      "source": [
        "for C in C_vals:\n",
        "  LogReg(C=C)"
      ]
    },
    {
      "cell_type": "code",
      "execution_count": null,
      "metadata": {
        "colab": {
          "base_uri": "https://localhost:8080/"
        },
        "id": "yhGyARlZJsli",
        "outputId": "1b154c94-cc49-479d-f089-cc5375ce9ae3"
      },
      "outputs": [
        {
          "output_type": "stream",
          "name": "stdout",
          "text": [
            "Logistic Regression - penalty: l2 , C: 1 , solver : newton-cg , multi_class : auto\n",
            "Testing accuracy 0.9176925782623989\n",
            "Testing F1 score: 0.9027172599606145\n",
            "\n",
            "------------------------------------------------\n",
            "\n",
            "Logistic Regression - penalty: l2 , C: 1 , solver : sag , multi_class : auto\n",
            "Testing accuracy 0.9176925782623989\n",
            "Testing F1 score: 0.9027172599606145\n",
            "\n",
            "------------------------------------------------\n",
            "\n"
          ]
        },
        {
          "output_type": "stream",
          "name": "stderr",
          "text": [
            "/usr/local/lib/python3.7/dist-packages/sklearn/linear_model/_sag.py:354: ConvergenceWarning: The max_iter was reached which means the coef_ did not converge\n",
            "  ConvergenceWarning,\n"
          ]
        },
        {
          "output_type": "stream",
          "name": "stdout",
          "text": [
            "Logistic Regression - penalty: l2 , C: 1 , solver : saga , multi_class : auto\n",
            "Testing accuracy 0.9176925782623989\n",
            "Testing F1 score: 0.9027172599606145\n",
            "\n",
            "------------------------------------------------\n",
            "\n",
            "Logistic Regression - penalty: l2 , C: 1 , solver : lbfgs , multi_class : auto\n",
            "Testing accuracy 0.9176925782623989\n",
            "Testing F1 score: 0.9027172599606145\n",
            "\n",
            "------------------------------------------------\n",
            "\n"
          ]
        }
      ],
      "source": [
        "for solver in solvers:\n",
        "  LogReg(solver=solver, C=1)"
      ]
    },
    {
      "cell_type": "code",
      "execution_count": null,
      "metadata": {
        "colab": {
          "base_uri": "https://localhost:8080/"
        },
        "id": "0rlRWovnbcNt",
        "outputId": "300bd1a0-4267-45a5-b2f1-fbf803d88d80"
      },
      "outputs": [
        {
          "output_type": "stream",
          "name": "stdout",
          "text": [
            "Logistic Regression - penalty: l2 , C: 1 , solver : lbfgs , multi_class : auto\n",
            "Testing accuracy 0.9176925782623989\n",
            "Testing F1 score: 0.9027172599606145\n",
            "\n",
            "------------------------------------------------\n",
            "\n",
            "Logistic Regression - penalty: l2 , C: 1 , solver : lbfgs , multi_class : ovr\n",
            "Testing accuracy 0.9152303904326415\n",
            "Testing F1 score: 0.8957074847782786\n",
            "\n",
            "------------------------------------------------\n",
            "\n",
            "Logistic Regression - penalty: l2 , C: 1 , solver : lbfgs , multi_class : multinomial\n",
            "Testing accuracy 0.9176925782623989\n",
            "Testing F1 score: 0.9027172599606145\n",
            "\n",
            "------------------------------------------------\n",
            "\n"
          ]
        }
      ],
      "source": [
        "for mc in multi_classes:\n",
        "  LogReg(multi_class=mc, C=1, solver='lbfgs')"
      ]
    },
    {
      "cell_type": "code",
      "execution_count": null,
      "metadata": {
        "colab": {
          "base_uri": "https://localhost:8080/"
        },
        "id": "ucuEW-UjLjkC",
        "outputId": "b294af1b-4003-452c-d07b-f80cbd8afc8b"
      },
      "outputs": [
        {
          "output_type": "stream",
          "name": "stderr",
          "text": [
            "/usr/local/lib/python3.7/dist-packages/sklearn/linear_model/_sag.py:354: ConvergenceWarning: The max_iter was reached which means the coef_ did not converge\n",
            "  ConvergenceWarning,\n"
          ]
        },
        {
          "output_type": "stream",
          "name": "stdout",
          "text": [
            "Logistic Regression - penalty: l1 , C: 1 , solver : saga , multi_class : multinomial\n",
            "Testing accuracy 0.9187478016180092\n",
            "Testing F1 score: 0.9027153168945248\n",
            "\n",
            "------------------------------------------------\n",
            "\n",
            "Logistic Regression - penalty: l2 , C: 1 , solver : lbfgs , multi_class : multinomial\n",
            "Testing accuracy 0.9176925782623989\n",
            "Testing F1 score: 0.9027172599606145\n",
            "\n",
            "------------------------------------------------\n",
            "\n"
          ]
        },
        {
          "output_type": "stream",
          "name": "stderr",
          "text": [
            "/usr/local/lib/python3.7/dist-packages/sklearn/linear_model/_sag.py:354: ConvergenceWarning: The max_iter was reached which means the coef_ did not converge\n",
            "  ConvergenceWarning,\n"
          ]
        },
        {
          "output_type": "stream",
          "name": "stdout",
          "text": [
            "Logistic Regression - penalty: l2 , C: 1 , solver : saga , multi_class : multinomial\n",
            "Testing accuracy 0.9176925782623989\n",
            "Testing F1 score: 0.9027172599606145\n",
            "\n",
            "------------------------------------------------\n",
            "\n",
            "Logistic Regression - penalty: elasticnet , C: 1 , solver : saga , multi_class : multinomial\n",
            "Testing accuracy 0.9169890960253254\n",
            "Testing F1 score: 0.9018876241628868\n",
            "\n",
            "------------------------------------------------\n",
            "\n"
          ]
        },
        {
          "output_type": "stream",
          "name": "stderr",
          "text": [
            "/usr/local/lib/python3.7/dist-packages/sklearn/linear_model/_sag.py:354: ConvergenceWarning: The max_iter was reached which means the coef_ did not converge\n",
            "  ConvergenceWarning,\n"
          ]
        }
      ],
      "source": [
        "for penalty in penalties:\n",
        "  LogReg(penalty=penalty, solver='lbfgs', C=1, multi_class='multinomial')\n",
        "  LogReg(penalty=penalty, solver='saga', C=1, multi_class='multinomial')"
      ]
    },
    {
      "cell_type": "markdown",
      "metadata": {
        "id": "9xn4a7FOo6mX"
      },
      "source": [
        "### Results\n",
        "Logistic Regression - penalty: l1 , C: 1 , solver : saga , multi_class : multinomial  \n",
        "----------Test Scores----------  \n",
        "\n",
        "Precision: 0.9048323408395332  \n",
        "Recall: 0.9187478016180092  \n",
        "F1-Score: 0.9027153168945248  \n",
        "Accuracy: 0.9187478016180092  "
      ]
    },
    {
      "cell_type": "code",
      "execution_count": null,
      "metadata": {
        "colab": {
          "base_uri": "https://localhost:8080/"
        },
        "id": "c0-cZUYkxTyJ",
        "outputId": "817eb59e-e7e6-4ad2-f9ed-6fc698be6b59"
      },
      "outputs": [
        {
          "output_type": "stream",
          "name": "stderr",
          "text": [
            "/usr/local/lib/python3.7/dist-packages/sklearn/linear_model/_sag.py:354: ConvergenceWarning: The max_iter was reached which means the coef_ did not converge\n",
            "  ConvergenceWarning,\n"
          ]
        }
      ],
      "source": [
        "lr = LogisticRegression(penalty='l1', C=1, solver='saga', multi_class='multinomial')\n",
        "lr_preds = lr.fit(english_Xtrain, english_ytrain).predict(english_Xtest)"
      ]
    },
    {
      "cell_type": "code",
      "source": [
        "lr_en_scores = print_scores(english_ytest, lr_preds)"
      ],
      "metadata": {
        "colab": {
          "base_uri": "https://localhost:8080/",
          "height": 604
        },
        "id": "F3OdiWIVi8lh",
        "outputId": "5940bd73-904e-4e8f-96e9-b25334579216"
      },
      "execution_count": null,
      "outputs": [
        {
          "output_type": "stream",
          "name": "stdout",
          "text": [
            "\n",
            "----------Test Scores----------\n",
            "\n",
            "Precision: 0.9048323408395332\n",
            "Recall: 0.9187478016180092\n",
            "F1-Score: 0.9027153168945248\n",
            "Accuracy: 0.9187478016180092\n",
            "\n",
            "                 precision    recall  f1-score   support\n",
            "\n",
            "Non_hope_speech       0.93      0.99      0.96      2569\n",
            "    Hope_speech       0.69      0.28      0.40       272\n",
            "    not-English       0.00      0.00      0.00         2\n",
            "\n",
            "       accuracy                           0.92      2843\n",
            "      macro avg       0.54      0.42      0.45      2843\n",
            "   weighted avg       0.90      0.92      0.90      2843\n",
            " \n",
            "\n"
          ]
        },
        {
          "output_type": "display_data",
          "data": {
            "text/plain": [
              "<Figure size 432x288 with 2 Axes>"
            ],
            "image/png": "[encoded data removed]"
          },
          "metadata": {
            "needs_background": "light"
          }
        }
      ]
    },
    {
      "cell_type": "code",
      "execution_count": null,
      "metadata": {
        "id": "1H-rHjAYJsTw"
      },
      "outputs": [],
      "source": [
        "scores['english_scores']['LR'] = 0.9027153168945248"
      ]
    },
    {
      "cell_type": "markdown",
      "metadata": {
        "id": "pADRQ1o6E_fQ"
      },
      "source": [
        "### Tamil"
      ]
    },
    {
      "cell_type": "code",
      "execution_count": null,
      "metadata": {
        "colab": {
          "base_uri": "https://localhost:8080/"
        },
        "id": "2UJBkjv_F0bP",
        "outputId": "cb7617f1-aa5a-4f8e-a7b3-2ec48c9bed85"
      },
      "outputs": [
        {
          "output_type": "stream",
          "name": "stdout",
          "text": [
            "Logistic Regression - penalty: l2 , C: 1 , solver : lbfgs , multi_class : auto\n",
            "Testing accuracy 0.5986124876114965\n",
            "Testing F1 score: 0.5894235190812763\n",
            "\n",
            "------------------------------------------------\n",
            "\n",
            "Logistic Regression - penalty: l2 , C: 1000.0 , solver : lbfgs , multi_class : auto\n",
            "Testing accuracy 0.5555004955401388\n",
            "Testing F1 score: 0.5544014685866676\n",
            "\n",
            "------------------------------------------------\n",
            "\n",
            "Logistic Regression - penalty: l2 , C: 0.001 , solver : lbfgs , multi_class : auto\n",
            "Testing accuracy 0.49454905847373637\n",
            "Testing F1 score: 0.32729440341962124\n",
            "\n",
            "------------------------------------------------\n",
            "\n",
            "Logistic Regression - penalty: l2 , C: 100000.0 , solver : lbfgs , multi_class : auto\n",
            "Testing accuracy 0.5535183349851338\n",
            "Testing F1 score: 0.5530587729542105\n",
            "\n",
            "------------------------------------------------\n",
            "\n",
            "Logistic Regression - penalty: l2 , C: 1e-05 , solver : lbfgs , multi_class : auto\n",
            "Testing accuracy 0.49454905847373637\n",
            "Testing F1 score: 0.32729440341962124\n",
            "\n",
            "------------------------------------------------\n",
            "\n"
          ]
        }
      ],
      "source": [
        "for C in C_vals:\n",
        "  LogReg(X_train = tamil_Xtrain, y_train = tamil_ytrain, X_test = tamil_Xtest, y_test = tamil_ytest, C=C)"
      ]
    },
    {
      "cell_type": "code",
      "execution_count": null,
      "metadata": {
        "colab": {
          "base_uri": "https://localhost:8080/"
        },
        "id": "GuTPWQUVF0Yb",
        "outputId": "1df6aafd-2391-40e0-b80d-18c568335a24"
      },
      "outputs": [
        {
          "output_type": "stream",
          "name": "stdout",
          "text": [
            "Logistic Regression - penalty: l2 , C: 1 , solver : newton-cg , multi_class : auto\n",
            "Testing accuracy 0.5966303270564915\n",
            "Testing F1 score: 0.587451155348147\n",
            "\n",
            "------------------------------------------------\n",
            "\n",
            "Logistic Regression - penalty: l2 , C: 1 , solver : sag , multi_class : auto\n",
            "Testing accuracy 0.5966303270564915\n",
            "Testing F1 score: 0.587451155348147\n",
            "\n",
            "------------------------------------------------\n",
            "\n",
            "Logistic Regression - penalty: l2 , C: 1 , solver : saga , multi_class : auto\n",
            "Testing accuracy 0.5966303270564915\n",
            "Testing F1 score: 0.587451155348147\n",
            "\n",
            "------------------------------------------------\n",
            "\n",
            "Logistic Regression - penalty: l2 , C: 1 , solver : lbfgs , multi_class : auto\n",
            "Testing accuracy 0.5986124876114965\n",
            "Testing F1 score: 0.5894235190812763\n",
            "\n",
            "------------------------------------------------\n",
            "\n"
          ]
        }
      ],
      "source": [
        "for solver in solvers:\n",
        "  LogReg(X_train = tamil_Xtrain, y_train = tamil_ytrain, X_test = tamil_Xtest, y_test = tamil_ytest, solver=solver, C=1)"
      ]
    },
    {
      "cell_type": "code",
      "execution_count": null,
      "metadata": {
        "colab": {
          "base_uri": "https://localhost:8080/"
        },
        "id": "8p6Ktw_1F0Ux",
        "outputId": "0577f2f3-98b9-4eff-d612-5dff892b13a5"
      },
      "outputs": [
        {
          "output_type": "stream",
          "name": "stdout",
          "text": [
            "Logistic Regression - penalty: l2 , C: 1 , solver : lbfgs , multi_class : auto\n",
            "Testing accuracy 0.5986124876114965\n",
            "Testing F1 score: 0.5894235190812763\n",
            "\n",
            "------------------------------------------------\n",
            "\n",
            "Logistic Regression - penalty: l2 , C: 1 , solver : lbfgs , multi_class : ovr\n",
            "Testing accuracy 0.6035678889990089\n",
            "Testing F1 score: 0.5901410720264393\n",
            "\n",
            "------------------------------------------------\n",
            "\n",
            "Logistic Regression - penalty: l2 , C: 1 , solver : lbfgs , multi_class : multinomial\n",
            "Testing accuracy 0.5986124876114965\n",
            "Testing F1 score: 0.5894235190812763\n",
            "\n",
            "------------------------------------------------\n",
            "\n"
          ]
        }
      ],
      "source": [
        "for mc in multi_classes:\n",
        "  LogReg(X_train = tamil_Xtrain, y_train = tamil_ytrain, X_test = tamil_Xtest, y_test = tamil_ytest, multi_class=mc, C=1, solver='lbfgs')"
      ]
    },
    {
      "cell_type": "code",
      "execution_count": null,
      "metadata": {
        "colab": {
          "base_uri": "https://localhost:8080/"
        },
        "id": "ovZSEXvbF0SB",
        "outputId": "e006b45e-1114-49c2-df93-4786298a5d4a"
      },
      "outputs": [
        {
          "output_type": "stream",
          "name": "stdout",
          "text": [
            "Logistic Regression - penalty: l1 , C: 1 , solver : saga , multi_class : ovr\n",
            "Testing accuracy 0.595639246778989\n",
            "Testing F1 score: 0.5770648757900969\n",
            "\n",
            "------------------------------------------------\n",
            "\n",
            "Logistic Regression - penalty: l2 , C: 1 , solver : lbfgs , multi_class : ovr\n",
            "Testing accuracy 0.6035678889990089\n",
            "Testing F1 score: 0.5901410720264393\n",
            "\n",
            "------------------------------------------------\n",
            "\n",
            "Logistic Regression - penalty: l2 , C: 1 , solver : saga , multi_class : ovr\n",
            "Testing accuracy 0.6035678889990089\n",
            "Testing F1 score: 0.5901410720264393\n",
            "\n",
            "------------------------------------------------\n",
            "\n",
            "Logistic Regression - penalty: elasticnet , C: 1 , solver : saga , multi_class : ovr\n",
            "Testing accuracy 0.6025768087215064\n",
            "Testing F1 score: 0.5872734416269555\n",
            "\n",
            "------------------------------------------------\n",
            "\n"
          ]
        }
      ],
      "source": [
        "for penalty in penalties:\n",
        "  LogReg(X_train = tamil_Xtrain, y_train = tamil_ytrain, X_test = tamil_Xtest, y_test = tamil_ytest, penalty=penalty, solver='lbfgs', C=1, multi_class='ovr')\n",
        "  LogReg(X_train = tamil_Xtrain, y_train = tamil_ytrain, X_test = tamil_Xtest, y_test = tamil_ytest, penalty=penalty, solver='saga', C=1, multi_class='ovr')"
      ]
    },
    {
      "cell_type": "markdown",
      "metadata": {
        "id": "iwJKN9QLGmr3"
      },
      "source": [
        "### Results\n",
        "Logistic Regression - penalty: l2 , C: 1 , solver : lbfgs , multi_class : ovr  \n",
        "----------Test Scores----------\n",
        "\n",
        "Precision: 0.5994784925831929  \n",
        "Recall: 0.6035678889990089  \n",
        "F1-Score: 0.5901410720264393  \n",
        "Accuracy: 0.6035678889990089   "
      ]
    },
    {
      "cell_type": "code",
      "execution_count": null,
      "metadata": {
        "id": "7YjKHQ28ycK6"
      },
      "outputs": [],
      "source": [
        "lr_tamil = LogisticRegression(penalty='l2', C=1, solver='lbfgs', multi_class='ovr')\n",
        "lr_tamil_preds = lr_tamil.fit(tamil_Xtrain, tamil_ytrain).predict(tamil_Xtest)"
      ]
    },
    {
      "cell_type": "code",
      "source": [
        "lr_ta_scores = print_scores(tamil_ytest, lr_tamil_preds)"
      ],
      "metadata": {
        "colab": {
          "base_uri": "https://localhost:8080/",
          "height": 603
        },
        "id": "ryDmobsYk6z9",
        "outputId": "0e3be916-99fa-40af-cf4e-76f1dd3bdc6d"
      },
      "execution_count": null,
      "outputs": [
        {
          "output_type": "stream",
          "name": "stdout",
          "text": [
            "\n",
            "----------Test Scores----------\n",
            "\n",
            "Precision: 0.5994784925831929\n",
            "Recall: 0.6035678889990089\n",
            "F1-Score: 0.5901410720264393\n",
            "Accuracy: 0.6035678889990089\n",
            "\n",
            "                 precision    recall  f1-score   support\n",
            "\n",
            "Non_hope_speech       0.62      0.78      0.69       998\n",
            "    Hope_speech       0.58      0.46      0.51       757\n",
            "    not-English       0.60      0.36      0.45       263\n",
            "\n",
            "       accuracy                           0.60      2018\n",
            "      macro avg       0.60      0.53      0.55      2018\n",
            "   weighted avg       0.60      0.60      0.59      2018\n",
            " \n",
            "\n"
          ]
        },
        {
          "output_type": "display_data",
          "data": {
            "text/plain": [
              "<Figure size 432x288 with 2 Axes>"
            ],
            "image/png": "[encoded data removed]"
          },
          "metadata": {
            "needs_background": "light"
          }
        }
      ]
    },
    {
      "cell_type": "code",
      "execution_count": null,
      "metadata": {
        "id": "_v90ff3YGnL1"
      },
      "outputs": [],
      "source": [
        "scores['tamil_scores']['LR'] = 0.5901410720264393"
      ]
    },
    {
      "cell_type": "markdown",
      "metadata": {
        "id": "Oxhob4KXEUDU"
      },
      "source": [
        "## NB"
      ]
    },
    {
      "cell_type": "code",
      "execution_count": null,
      "metadata": {
        "id": "anatxjziEVo3"
      },
      "outputs": [],
      "source": [
        "def multiNB(X_train = english_Xtrain, y_train = english_ytrain, X_test = english_Xtest, y_test = english_ytest, alpha=1.0, fit_prior=True):\n",
        "  mnb = MultinomialNB(alpha=alpha, fit_prior=fit_prior)\n",
        "  mnb.fit(X_train, y_train)\n",
        "  y_pred = mnb.predict(X_test)\n",
        "  print('Multinomial Naive Bayes - alpha : {} , fit_prior : {}'.format(alpha, fit_prior))\n",
        "  print('Testing accuracy %s' % accuracy_score(y_test, y_pred))\n",
        "  print('Testing F1 score: {}'.format(f1_score(y_test, y_pred, average='weighted')))\n",
        "  print('\\n------------------------------------------------\\n')"
      ]
    },
    {
      "cell_type": "code",
      "execution_count": null,
      "metadata": {
        "id": "bzS4WIY0IgW9"
      },
      "outputs": [],
      "source": [
        "alphas = [1e-10, 0.2, 0.5, 0.7, 0.9, 1.0]\n",
        "fit_prior_vals = [False, True]\n",
        "parameters = {\"alpha\": [1e-10, 0.2, 0.5, 0.7, 0.9, 1.0], \"fit_prior\": [False, True]}"
      ]
    },
    {
      "cell_type": "markdown",
      "metadata": {
        "id": "j7SAuQUVIdFf"
      },
      "source": [
        "### English"
      ]
    },
    {
      "cell_type": "code",
      "execution_count": null,
      "metadata": {
        "colab": {
          "base_uri": "https://localhost:8080/"
        },
        "id": "zQnBQSnjTepC",
        "outputId": "7e9ed64e-28e8-4b9e-8da0-5deb1b6db60b"
      },
      "outputs": [
        {
          "output_type": "stream",
          "name": "stdout",
          "text": [
            "Multinomial Naive Bayes - alpha : 1e-10 , fit_prior : True\n",
            "Testing accuracy 0.9036229335209286\n",
            "Testing F1 score: 0.882731570478754\n",
            "\n",
            "------------------------------------------------\n",
            "\n",
            "Multinomial Naive Bayes - alpha : 0.2 , fit_prior : True\n",
            "Testing accuracy 0.9053816391136124\n",
            "Testing F1 score: 0.8724267329042407\n",
            "\n",
            "------------------------------------------------\n",
            "\n",
            "Multinomial Naive Bayes - alpha : 0.5 , fit_prior : True\n",
            "Testing accuracy 0.9053816391136124\n",
            "Testing F1 score: 0.8634007736541087\n",
            "\n",
            "------------------------------------------------\n",
            "\n",
            "Multinomial Naive Bayes - alpha : 0.7 , fit_prior : True\n",
            "Testing accuracy 0.9046781568765389\n",
            "Testing F1 score: 0.860437327969469\n",
            "\n",
            "------------------------------------------------\n",
            "\n",
            "Multinomial Naive Bayes - alpha : 0.9 , fit_prior : True\n",
            "Testing accuracy 0.9043264157580021\n",
            "Testing F1 score: 0.8595879391023398\n",
            "\n",
            "------------------------------------------------\n",
            "\n",
            "Multinomial Naive Bayes - alpha : 1.0 , fit_prior : True\n",
            "Testing accuracy 0.9043264157580021\n",
            "Testing F1 score: 0.8595879391023398\n",
            "\n",
            "------------------------------------------------\n",
            "\n"
          ]
        }
      ],
      "source": [
        "for alpha in alphas:\n",
        "  multiNB(alpha=alpha)"
      ]
    },
    {
      "cell_type": "code",
      "execution_count": null,
      "metadata": {
        "colab": {
          "base_uri": "https://localhost:8080/"
        },
        "id": "30R87iAfMJJv",
        "outputId": "8b9cb037-a387-4428-d951-fc386aa77a93"
      },
      "outputs": [
        {
          "output_type": "stream",
          "name": "stdout",
          "text": [
            "Multinomial Naive Bayes - alpha : 1e-10 , fit_prior : False\n",
            "Testing accuracy 0.7657404150545198\n",
            "Testing F1 score: 0.8080203842848624\n",
            "\n",
            "------------------------------------------------\n",
            "\n",
            "Multinomial Naive Bayes - alpha : 0.2 , fit_prior : False\n",
            "Testing accuracy 0.8061906436862469\n",
            "Testing F1 score: 0.8393153877212848\n",
            "\n",
            "------------------------------------------------\n",
            "\n",
            "Multinomial Naive Bayes - alpha : 0.5 , fit_prior : False\n",
            "Testing accuracy 0.8434752022511431\n",
            "Testing F1 score: 0.8578698408470506\n",
            "\n",
            "------------------------------------------------\n",
            "\n",
            "Multinomial Naive Bayes - alpha : 0.7 , fit_prior : False\n",
            "Testing accuracy 0.858248329229687\n",
            "Testing F1 score: 0.8624284042208011\n",
            "\n",
            "------------------------------------------------\n",
            "\n",
            "Multinomial Naive Bayes - alpha : 0.9 , fit_prior : False\n",
            "Testing accuracy 0.8656348927189589\n",
            "Testing F1 score: 0.8641500202063295\n",
            "\n",
            "------------------------------------------------\n",
            "\n",
            "Multinomial Naive Bayes - alpha : 1.0 , fit_prior : False\n",
            "Testing accuracy 0.8691523039043264\n",
            "Testing F1 score: 0.8657514315807074\n",
            "\n",
            "------------------------------------------------\n",
            "\n"
          ]
        }
      ],
      "source": [
        "for alpha in alphas:\n",
        "  multiNB(fit_prior= False, alpha=alpha)"
      ]
    },
    {
      "cell_type": "markdown",
      "metadata": {
        "id": "A8pFf3ZzUDeM"
      },
      "source": [
        "### Results\n",
        "Multinomial Naive Bayes - alpha : 1e-10 , fit_prior : True    \n",
        "----------Test Scores----------\n",
        "\n",
        "Precision: 0.8776676960725917  \n",
        "Recall: 0.9036229335209286  \n",
        "F1-Score: 0.882731570478754  \n",
        "Accuracy: 0.9036229335209286  "
      ]
    },
    {
      "cell_type": "code",
      "execution_count": null,
      "metadata": {
        "id": "k0_wIL1QqjMu",
        "colab": {
          "base_uri": "https://localhost:8080/",
          "height": 606
        },
        "outputId": "47a347e2-2d83-4576-9a84-779b93cfa3bb"
      },
      "outputs": [
        {
          "output_type": "stream",
          "name": "stdout",
          "text": [
            "\n",
            "----------Test Scores----------\n",
            "\n",
            "Precision: 0.8776676960725917\n",
            "Recall: 0.9036229335209286\n",
            "F1-Score: 0.882731570478754\n",
            "Accuracy: 0.9036229335209286\n",
            "\n",
            "                 precision    recall  f1-score   support\n",
            "\n",
            "Non_hope_speech       0.92      0.98      0.95      2569\n",
            "    Hope_speech       0.50      0.18      0.27       272\n",
            "    not-English       0.00      0.00      0.00         2\n",
            "\n",
            "       accuracy                           0.90      2843\n",
            "      macro avg       0.47      0.39      0.41      2843\n",
            "   weighted avg       0.88      0.90      0.88      2843\n",
            " \n",
            "\n"
          ]
        },
        {
          "output_type": "display_data",
          "data": {
            "text/plain": [
              "<Figure size 432x288 with 2 Axes>"
            ],
            "image/png": "[encoded data removed]"
          },
          "metadata": {
            "needs_background": "light"
          }
        }
      ],
      "source": [
        "mnb = MultinomialNB(alpha=1e-10, fit_prior=True)\n",
        "mnb.fit(english_Xtrain, english_ytrain)\n",
        "mnb_pred = mnb.predict(english_Xtest)\n",
        "mnb_en_scores = print_scores(english_ytest, mnb_pred)"
      ]
    },
    {
      "cell_type": "code",
      "execution_count": null,
      "metadata": {
        "id": "4DAYbm8EUGrN"
      },
      "outputs": [],
      "source": [
        "scores['english_scores']['MNB'] = 0.882731570478754"
      ]
    },
    {
      "cell_type": "markdown",
      "metadata": {
        "id": "yW4O2F0-Ielg"
      },
      "source": [
        "### Tamil"
      ]
    },
    {
      "cell_type": "code",
      "execution_count": null,
      "metadata": {
        "colab": {
          "base_uri": "https://localhost:8080/"
        },
        "id": "a6fs54_uIfqh",
        "outputId": "46051850-84f9-4844-c07d-c2368a75a04c"
      },
      "outputs": [
        {
          "output_type": "stream",
          "name": "stdout",
          "text": [
            "Multinomial Naive Bayes - alpha : 1e-10 , fit_prior : True\n",
            "Testing accuracy 0.6005946481665014\n",
            "Testing F1 score: 0.5982228599554849\n",
            "\n",
            "------------------------------------------------\n",
            "\n",
            "Multinomial Naive Bayes - alpha : 0.2 , fit_prior : True\n",
            "Testing accuracy 0.6065411298315163\n",
            "Testing F1 score: 0.5974340286234954\n",
            "\n",
            "------------------------------------------------\n",
            "\n",
            "Multinomial Naive Bayes - alpha : 0.5 , fit_prior : True\n",
            "Testing accuracy 0.6105054509415263\n",
            "Testing F1 score: 0.5920146972801057\n",
            "\n",
            "------------------------------------------------\n",
            "\n",
            "Multinomial Naive Bayes - alpha : 0.7 , fit_prior : True\n",
            "Testing accuracy 0.6144697720515362\n",
            "Testing F1 score: 0.5905980556028777\n",
            "\n",
            "------------------------------------------------\n",
            "\n",
            "Multinomial Naive Bayes - alpha : 0.9 , fit_prior : True\n",
            "Testing accuracy 0.6060455896927651\n",
            "Testing F1 score: 0.5777800788793289\n",
            "\n",
            "------------------------------------------------\n",
            "\n",
            "Multinomial Naive Bayes - alpha : 1.0 , fit_prior : True\n",
            "Testing accuracy 0.6060455896927651\n",
            "Testing F1 score: 0.5758202536688956\n",
            "\n",
            "------------------------------------------------\n",
            "\n"
          ]
        }
      ],
      "source": [
        "for alpha in alphas:\n",
        "  multiNB(X_train = tamil_Xtrain, y_train = tamil_ytrain, X_test = tamil_Xtest, y_test = tamil_ytest, alpha=alpha)"
      ]
    },
    {
      "cell_type": "code",
      "execution_count": null,
      "metadata": {
        "colab": {
          "base_uri": "https://localhost:8080/"
        },
        "id": "IIqMja7tIfnI",
        "outputId": "f53ccc8b-5af3-4081-f848-3325f0d379aa"
      },
      "outputs": [
        {
          "output_type": "stream",
          "name": "stdout",
          "text": [
            "Multinomial Naive Bayes - alpha : 1e-10 , fit_prior : False\n",
            "Testing accuracy 0.5832507433102081\n",
            "Testing F1 score: 0.5836156949886772\n",
            "\n",
            "------------------------------------------------\n",
            "\n",
            "Multinomial Naive Bayes - alpha : 0.2 , fit_prior : False\n",
            "Testing accuracy 0.5887016848364718\n",
            "Testing F1 score: 0.5887961623445258\n",
            "\n",
            "------------------------------------------------\n",
            "\n",
            "Multinomial Naive Bayes - alpha : 0.5 , fit_prior : False\n",
            "Testing accuracy 0.5986124876114965\n",
            "Testing F1 score: 0.5967150115410065\n",
            "\n",
            "------------------------------------------------\n",
            "\n",
            "Multinomial Naive Bayes - alpha : 0.7 , fit_prior : False\n",
            "Testing accuracy 0.6065411298315163\n",
            "Testing F1 score: 0.6033737799696764\n",
            "\n",
            "------------------------------------------------\n",
            "\n",
            "Multinomial Naive Bayes - alpha : 0.9 , fit_prior : False\n",
            "Testing accuracy 0.6129831516352825\n",
            "Testing F1 score: 0.6086350551149339\n",
            "\n",
            "------------------------------------------------\n",
            "\n",
            "Multinomial Naive Bayes - alpha : 1.0 , fit_prior : False\n",
            "Testing accuracy 0.6124876114965312\n",
            "Testing F1 score: 0.6075833763722778\n",
            "\n",
            "------------------------------------------------\n",
            "\n"
          ]
        }
      ],
      "source": [
        "for alpha in alphas:\n",
        "  multiNB(X_train = tamil_Xtrain, y_train = tamil_ytrain, X_test = tamil_Xtest, y_test = tamil_ytest, fit_prior= False, alpha=alpha)"
      ]
    },
    {
      "cell_type": "markdown",
      "metadata": {
        "id": "bj62NJecUkd-"
      },
      "source": [
        "### Results\n",
        "Multinomial Naive Bayes - alpha : 0.9 , fit_prior : False  \n",
        "----------Test Scores----------\n",
        "\n",
        "Precision: 0.6079969472854241  \n",
        "Recall: 0.6129831516352825  \n",
        "F1-Score: 0.6086350551149339  \n",
        "Accuracy: 0.6129831516352825  "
      ]
    },
    {
      "cell_type": "code",
      "source": [
        "mnb_tamil = MultinomialNB(alpha=0.9, fit_prior=False)\n",
        "mnb_tamil.fit(tamil_Xtrain, tamil_ytrain)\n",
        "mnb_tamil_pred = mnb_tamil.predict(tamil_Xtest)\n",
        "mnb_ta_scores = print_scores(tamil_ytest, mnb_tamil_pred, labels=tamil_labels)"
      ],
      "metadata": {
        "colab": {
          "base_uri": "https://localhost:8080/",
          "height": 603
        },
        "id": "IlSX1crbe3um",
        "outputId": "a55aeffd-fff6-4e56-e375-207dcb50aaa7"
      },
      "execution_count": 28,
      "outputs": [
        {
          "output_type": "stream",
          "name": "stdout",
          "text": [
            "\n",
            "----------Test Scores----------\n",
            "\n",
            "Precision: 0.6079969472854241\n",
            "Recall: 0.6129831516352825\n",
            "F1-Score: 0.6086350551149339\n",
            "Accuracy: 0.6129831516352825\n",
            "\n",
            "                 precision    recall  f1-score   support\n",
            "\n",
            "Non_hope_speech       0.65      0.72      0.69       998\n",
            "    Hope_speech       0.57      0.52      0.55       757\n",
            "      not-Tamil       0.55      0.45      0.49       263\n",
            "\n",
            "       accuracy                           0.61      2018\n",
            "      macro avg       0.59      0.57      0.58      2018\n",
            "   weighted avg       0.61      0.61      0.61      2018\n",
            " \n",
            "\n"
          ]
        },
        {
          "output_type": "display_data",
          "data": {
            "text/plain": [
              "<Figure size 432x288 with 2 Axes>"
            ],
            "image/png": "[encoded data removed]"
          },
          "metadata": {
            "needs_background": "light"
          }
        }
      ]
    },
    {
      "cell_type": "code",
      "execution_count": null,
      "metadata": {
        "id": "-rDwX-HIMaMT"
      },
      "outputs": [],
      "source": [
        "scores['tamil_scores']['MNB'] = 0.6086350551149339"
      ]
    },
    {
      "cell_type": "markdown",
      "metadata": {
        "id": "sRkfGfweER8p"
      },
      "source": [
        "## SVM"
      ]
    },
    {
      "cell_type": "code",
      "execution_count": null,
      "metadata": {
        "id": "GAxi9HeSETkj"
      },
      "outputs": [],
      "source": [
        "def svm_clf(X_train = english_Xtrain, y_train = english_ytrain, X_test = english_Xtest, y_test = english_ytest, kernel='rbf', C=1, gamma='scale', decision_function_shape = 'ovr'):\n",
        "  clf = SVC(kernel=kernel, C=C, gamma=gamma, decision_function_shape=decision_function_shape)\n",
        "  clf.fit(X_train,y_train)\n",
        "  y_pred = clf.predict(X_test)\n",
        "  print('SVM - kernel : {} , C : {} , gamma : {} , decision function shape : {}'.format(kernel, C, gamma, decision_function_shape))\n",
        "  print('Testing accuracy %s' % accuracy_score(y_test, y_pred))\n",
        "  print('Testing F1 score: {}'.format(f1_score(y_test, y_pred, average='weighted')))\n",
        "  print('\\n------------------------------------------------\\n')"
      ]
    },
    {
      "cell_type": "code",
      "execution_count": null,
      "metadata": {
        "id": "SIBwD9oxGriL"
      },
      "outputs": [],
      "source": [
        "C_vals = [1, 1e3, 1e-3, 1e5, 1e-5]\n",
        "kernels = ['linear', 'poly', 'rbf', 'sigmoid']\n",
        "gamma = ['scale', 'auto']\n",
        "decision_function_shape = ['ovo', 'ovr']"
      ]
    },
    {
      "cell_type": "markdown",
      "metadata": {
        "id": "izcpkMPbHNxG"
      },
      "source": [
        "### English"
      ]
    },
    {
      "cell_type": "code",
      "execution_count": null,
      "metadata": {
        "colab": {
          "base_uri": "https://localhost:8080/"
        },
        "id": "T1lfxnFNg8Dc",
        "outputId": "644d4658-7a2e-4d71-f804-228e6d2725ea"
      },
      "outputs": [
        {
          "output_type": "stream",
          "name": "stdout",
          "text": [
            "SVM - kernel : rbf , C : 1 , gamma : scale , decision function shape : ovr\n",
            "Testing accuracy 0.9169890960253254\n",
            "Testing F1 score: 0.8927910434135883\n",
            "\n",
            "------------------------------------------------\n",
            "\n",
            "SVM - kernel : rbf , C : 1000.0 , gamma : scale , decision function shape : ovr\n",
            "Testing accuracy 0.9236721772775237\n",
            "Testing F1 score: 0.911830822935761\n",
            "\n",
            "------------------------------------------------\n",
            "\n",
            "SVM - kernel : rbf , C : 0.001 , gamma : scale , decision function shape : ovr\n",
            "Testing accuracy 0.9036229335209286\n",
            "Testing F1 score: 0.85787410059692\n",
            "\n",
            "------------------------------------------------\n",
            "\n",
            "SVM - kernel : rbf , C : 100000.0 , gamma : scale , decision function shape : ovr\n",
            "Testing accuracy 0.9236721772775237\n",
            "Testing F1 score: 0.911830822935761\n",
            "\n",
            "------------------------------------------------\n",
            "\n",
            "SVM - kernel : rbf , C : 1e-05 , gamma : scale , decision function shape : ovr\n",
            "Testing accuracy 0.9036229335209286\n",
            "Testing F1 score: 0.85787410059692\n",
            "\n",
            "------------------------------------------------\n",
            "\n"
          ]
        }
      ],
      "source": [
        "for C in C_vals:\n",
        "  svm_clf(C=C)"
      ]
    },
    {
      "cell_type": "code",
      "execution_count": null,
      "metadata": {
        "id": "dAyfpbOSghHa",
        "colab": {
          "base_uri": "https://localhost:8080/"
        },
        "outputId": "b60be586-40a8-441e-9b01-697c9c2ebfcb"
      },
      "outputs": [
        {
          "output_type": "stream",
          "name": "stdout",
          "text": [
            "SVM - kernel : linear , C : 1000.0 , gamma : scale , decision function shape : ovr\n",
            "Testing accuracy 0.8747801618009146\n",
            "Testing F1 score: 0.8778756490395483\n",
            "\n",
            "------------------------------------------------\n",
            "\n",
            "SVM - kernel : poly , C : 1000.0 , gamma : scale , decision function shape : ovr\n",
            "Testing accuracy 0.9138234259584945\n",
            "Testing F1 score: 0.8860232215578108\n",
            "\n",
            "------------------------------------------------\n",
            "\n",
            "SVM - kernel : rbf , C : 1000.0 , gamma : scale , decision function shape : ovr\n",
            "Testing accuracy 0.9236721772775237\n",
            "Testing F1 score: 0.911830822935761\n",
            "\n",
            "------------------------------------------------\n",
            "\n",
            "SVM - kernel : sigmoid , C : 1000.0 , gamma : scale , decision function shape : ovr\n",
            "Testing accuracy 0.8593035525852972\n",
            "Testing F1 score: 0.8648453348914917\n",
            "\n",
            "------------------------------------------------\n",
            "\n"
          ]
        }
      ],
      "source": [
        "for kernel in kernels:\n",
        "  svm_clf(C=1e3, kernel=kernel)"
      ]
    },
    {
      "cell_type": "code",
      "source": [
        "for g in gamma:\n",
        "  svm_clf(C=1e3, kernel='rbf' , gamma=g) "
      ],
      "metadata": {
        "colab": {
          "base_uri": "https://localhost:8080/"
        },
        "id": "sIDzwbNms75P",
        "outputId": "4a59dcd6-eb59-497b-8276-85f5119827a5"
      },
      "execution_count": null,
      "outputs": [
        {
          "output_type": "stream",
          "name": "stdout",
          "text": [
            "SVM - kernel : rbf , C : 1000.0 , gamma : scale , decision function shape : ovr\n",
            "Testing accuracy 0.9236721772775237\n",
            "Testing F1 score: 0.911830822935761\n",
            "\n",
            "------------------------------------------------\n",
            "\n",
            "SVM - kernel : rbf , C : 1000.0 , gamma : auto , decision function shape : ovr\n",
            "Testing accuracy 0.9064368624692226\n",
            "Testing F1 score: 0.8658487135210791\n",
            "\n",
            "------------------------------------------------\n",
            "\n"
          ]
        }
      ]
    },
    {
      "cell_type": "code",
      "execution_count": null,
      "metadata": {
        "colab": {
          "base_uri": "https://localhost:8080/"
        },
        "id": "WCwMGfKmgsgP",
        "outputId": "d1d3c76f-a5a0-45d2-fbbd-75fb20d28c5f"
      },
      "outputs": [
        {
          "output_type": "stream",
          "name": "stdout",
          "text": [
            "SVM - kernel : rbf , C : 1000.0 , gamma : scale , decision function shape : ovo\n",
            "Testing accuracy 0.9236721772775237\n",
            "Testing F1 score: 0.911830822935761\n",
            "\n",
            "------------------------------------------------\n",
            "\n",
            "SVM - kernel : rbf , C : 1000.0 , gamma : scale , decision function shape : ovr\n",
            "Testing accuracy 0.9236721772775237\n",
            "Testing F1 score: 0.911830822935761\n",
            "\n",
            "------------------------------------------------\n",
            "\n"
          ]
        }
      ],
      "source": [
        "for dfs in decision_function_shape:\n",
        "  svm_clf(C=1e3, kernel='rbf' , gamma='scale' , decision_function_shape=dfs)"
      ]
    },
    {
      "cell_type": "markdown",
      "metadata": {
        "id": "B8PL4mX0M0Gf"
      },
      "source": [
        "### Results\n",
        "SVM - kernel : rbf , C : 1000.0 , gamma : scale , decision function shape : ovr  \n",
        "----------Test Scores----------\n",
        "\n",
        "Precision: 0.9122564681481131  \n",
        "Recall: 0.9236721772775237  \n",
        "F1-Score: 0.911830822935761  \n",
        "Accuracy: 0.9236721772775237  "
      ]
    },
    {
      "cell_type": "code",
      "source": [
        "svm = SVC(kernel='rbf', C=1e3, gamma='scale', decision_function_shape='ovr')\n",
        "svm.fit(english_Xtrain, english_ytrain)\n",
        "svm_pred = svm.predict(english_Xtest)\n",
        "svm_en_scores = print_scores(english_ytest, svm_pred)"
      ],
      "metadata": {
        "colab": {
          "base_uri": "https://localhost:8080/",
          "height": 605
        },
        "id": "KNwbr8BKuk3p",
        "outputId": "a9dcd186-2881-4d34-c5c1-1a46b9a09a7e"
      },
      "execution_count": null,
      "outputs": [
        {
          "output_type": "stream",
          "name": "stdout",
          "text": [
            "\n",
            "----------Test Scores----------\n",
            "\n",
            "Precision: 0.9122564681481131\n",
            "Recall: 0.9236721772775237\n",
            "F1-Score: 0.911830822935761\n",
            "Accuracy: 0.9236721772775237\n",
            "\n",
            "                 precision    recall  f1-score   support\n",
            "\n",
            "Non_hope_speech       0.93      0.98      0.96      2569\n",
            "    Hope_speech       0.71      0.36      0.47       272\n",
            "    not-English       0.00      0.00      0.00         2\n",
            "\n",
            "       accuracy                           0.92      2843\n",
            "      macro avg       0.55      0.45      0.48      2843\n",
            "   weighted avg       0.91      0.92      0.91      2843\n",
            " \n",
            "\n"
          ]
        },
        {
          "output_type": "display_data",
          "data": {
            "text/plain": [
              "<Figure size 432x288 with 2 Axes>"
            ],
            "image/png": "[encoded data removed]"
          },
          "metadata": {
            "needs_background": "light"
          }
        }
      ]
    },
    {
      "cell_type": "code",
      "execution_count": null,
      "metadata": {
        "id": "iqfUpsIBgsc3"
      },
      "outputs": [],
      "source": [
        "scores['english_scores']['SVM'] = 0.911830822935761"
      ]
    },
    {
      "cell_type": "markdown",
      "metadata": {
        "id": "0Rq-A2AIHxjY"
      },
      "source": [
        "### Tamil"
      ]
    },
    {
      "cell_type": "code",
      "execution_count": null,
      "metadata": {
        "colab": {
          "base_uri": "https://localhost:8080/"
        },
        "id": "9tNGhcnjHzYG",
        "outputId": "2c4ef8e1-c0c4-4a9f-d565-0d3a962bcd5e"
      },
      "outputs": [
        {
          "output_type": "stream",
          "name": "stdout",
          "text": [
            "SVM - kernel : rbf , C : 1 , gamma : scale , decision function shape : ovr\n",
            "Testing accuracy 0.6110009910802775\n",
            "Testing F1 score: 0.5945001708881719\n",
            "\n",
            "------------------------------------------------\n",
            "\n",
            "SVM - kernel : rbf , C : 1000.0 , gamma : scale , decision function shape : ovr\n",
            "Testing accuracy 0.578790882061447\n",
            "Testing F1 score: 0.5734611754284697\n",
            "\n",
            "------------------------------------------------\n",
            "\n",
            "SVM - kernel : rbf , C : 0.001 , gamma : scale , decision function shape : ovr\n",
            "Testing accuracy 0.49454905847373637\n",
            "Testing F1 score: 0.32729440341962124\n",
            "\n",
            "------------------------------------------------\n",
            "\n",
            "SVM - kernel : rbf , C : 100000.0 , gamma : scale , decision function shape : ovr\n",
            "Testing accuracy 0.5782953419226957\n",
            "Testing F1 score: 0.5730156563452314\n",
            "\n",
            "------------------------------------------------\n",
            "\n",
            "SVM - kernel : rbf , C : 1e-05 , gamma : scale , decision function shape : ovr\n",
            "Testing accuracy 0.49454905847373637\n",
            "Testing F1 score: 0.32729440341962124\n",
            "\n",
            "------------------------------------------------\n",
            "\n"
          ]
        }
      ],
      "source": [
        "for C in C_vals:\n",
        "  svm_clf(X_train = tamil_Xtrain, y_train = tamil_ytrain, X_test = tamil_Xtest, y_test = tamil_ytest, C=C)"
      ]
    },
    {
      "cell_type": "code",
      "execution_count": null,
      "metadata": {
        "id": "p0Gc6h5FQQKB",
        "colab": {
          "base_uri": "https://localhost:8080/"
        },
        "outputId": "e40807c0-4f39-4914-8445-b861590bf6c9"
      },
      "outputs": [
        {
          "output_type": "stream",
          "name": "stdout",
          "text": [
            "SVM - kernel : linear , C : 1 , gamma : scale , decision function shape : ovr\n",
            "Testing accuracy 0.6055500495540139\n",
            "Testing F1 score: 0.5966087718788537\n",
            "\n",
            "------------------------------------------------\n",
            "\n",
            "SVM - kernel : poly , C : 1 , gamma : scale , decision function shape : ovr\n",
            "Testing accuracy 0.5986124876114965\n",
            "Testing F1 score: 0.5578855281625477\n",
            "\n",
            "------------------------------------------------\n",
            "\n",
            "SVM - kernel : rbf , C : 1 , gamma : scale , decision function shape : ovr\n",
            "Testing accuracy 0.6110009910802775\n",
            "Testing F1 score: 0.5945001708881719\n",
            "\n",
            "------------------------------------------------\n",
            "\n",
            "SVM - kernel : sigmoid , C : 1 , gamma : scale , decision function shape : ovr\n",
            "Testing accuracy 0.6045589692765114\n",
            "Testing F1 score: 0.5930569646079785\n",
            "\n",
            "------------------------------------------------\n",
            "\n"
          ]
        }
      ],
      "source": [
        "for kernel in kernels:\n",
        "  svm_clf(X_train = tamil_Xtrain, y_train = tamil_ytrain, X_test = tamil_Xtest, y_test = tamil_ytest, C=1, kernel=kernel)"
      ]
    },
    {
      "cell_type": "code",
      "execution_count": null,
      "metadata": {
        "id": "yk_udtk8Hy87",
        "colab": {
          "base_uri": "https://localhost:8080/"
        },
        "outputId": "03a49842-5ba9-4742-c4d2-dfe3d06718a6"
      },
      "outputs": [
        {
          "output_type": "stream",
          "name": "stdout",
          "text": [
            "SVM - kernel : rbf , C : 1 , gamma : scale , decision function shape : ovr\n",
            "Testing accuracy 0.6110009910802775\n",
            "Testing F1 score: 0.5945001708881719\n",
            "\n",
            "------------------------------------------------\n",
            "\n",
            "SVM - kernel : rbf , C : 1 , gamma : auto , decision function shape : ovr\n",
            "Testing accuracy 0.49454905847373637\n",
            "Testing F1 score: 0.32729440341962124\n",
            "\n",
            "------------------------------------------------\n",
            "\n"
          ]
        }
      ],
      "source": [
        "for g in gamma:\n",
        "  svm_clf(X_train = tamil_Xtrain, y_train = tamil_ytrain, X_test = tamil_Xtest, y_test = tamil_ytest, C=1, kernel= 'rbf', gamma=g)"
      ]
    },
    {
      "cell_type": "code",
      "execution_count": null,
      "metadata": {
        "id": "1yjLbiwmII4u",
        "colab": {
          "base_uri": "https://localhost:8080/"
        },
        "outputId": "404ad02a-73a7-4d1c-caa6-448ef0889d4e"
      },
      "outputs": [
        {
          "output_type": "stream",
          "name": "stdout",
          "text": [
            "SVM - kernel : rbf , C : 1 , gamma : scale , decision function shape : ovo\n",
            "Testing accuracy 0.6110009910802775\n",
            "Testing F1 score: 0.5945001708881719\n",
            "\n",
            "------------------------------------------------\n",
            "\n",
            "SVM - kernel : rbf , C : 1 , gamma : scale , decision function shape : ovr\n",
            "Testing accuracy 0.6110009910802775\n",
            "Testing F1 score: 0.5945001708881719\n",
            "\n",
            "------------------------------------------------\n",
            "\n"
          ]
        }
      ],
      "source": [
        "for dfs in decision_function_shape:\n",
        "  svm_clf(X_train = tamil_Xtrain, y_train = tamil_ytrain, X_test = tamil_Xtest, y_test = tamil_ytest, C=1, kernel= 'rbf', gamma= 'scale', decision_function_shape=dfs)"
      ]
    },
    {
      "cell_type": "markdown",
      "metadata": {
        "id": "Ax2lSo8cRH6O"
      },
      "source": [
        "### Results\n",
        "SVM - kernel : rbf , C : 1 , gamma : scale , decision function shape : ovr  \n",
        "----------Test Scores----------\n",
        "\n",
        "Precision: 0.6085154324581377  \n",
        "Recall: 0.6110009910802775  \n",
        "F1-Score: 0.5945001708881719  \n",
        "Accuracy: 0.6110009910802775  "
      ]
    },
    {
      "cell_type": "code",
      "source": [
        "svm_ta = SVC(kernel='rbf', C=1, gamma='scale', decision_function_shape='ovr')\n",
        "svm_ta.fit(tamil_Xtrain, tamil_ytrain)\n",
        "svm_ta_pred = svm_ta.predict(tamil_Xtest)\n",
        "svm_ta_scores = print_scores(tamil_ytest, svm_ta_pred)"
      ],
      "metadata": {
        "colab": {
          "base_uri": "https://localhost:8080/",
          "height": 605
        },
        "id": "bFlvdCryxa2V",
        "outputId": "96ee7096-ae5e-4870-a05e-6d5eac713702"
      },
      "execution_count": null,
      "outputs": [
        {
          "output_type": "stream",
          "name": "stdout",
          "text": [
            "\n",
            "----------Test Scores----------\n",
            "\n",
            "Precision: 0.6085154324581377\n",
            "Recall: 0.6110009910802775\n",
            "F1-Score: 0.5945001708881719\n",
            "Accuracy: 0.6110009910802775\n",
            "\n",
            "                 precision    recall  f1-score   support\n",
            "\n",
            "Non_hope_speech       0.62      0.81      0.70       998\n",
            "    Hope_speech       0.60      0.43      0.50       757\n",
            "    not-English       0.60      0.37      0.46       263\n",
            "\n",
            "       accuracy                           0.61      2018\n",
            "      macro avg       0.61      0.54      0.55      2018\n",
            "   weighted avg       0.61      0.61      0.59      2018\n",
            " \n",
            "\n"
          ]
        },
        {
          "output_type": "display_data",
          "data": {
            "text/plain": [
              "<Figure size 432x288 with 2 Axes>"
            ],
            "image/png": "[encoded data removed]"
          },
          "metadata": {
            "needs_background": "light"
          }
        }
      ]
    },
    {
      "cell_type": "code",
      "execution_count": null,
      "metadata": {
        "id": "CVsOidXCIIu6"
      },
      "outputs": [],
      "source": [
        "scores['tamil_scores']['SVM'] = 0.5945001708881719"
      ]
    },
    {
      "cell_type": "markdown",
      "metadata": {
        "id": "qerzqCY3EaOZ"
      },
      "source": [
        "## Ensemble"
      ]
    },
    {
      "cell_type": "code",
      "execution_count": null,
      "metadata": {
        "id": "DbhRpg-xNDPn"
      },
      "outputs": [],
      "source": [
        "def ensemble(X_train = english_Xtrain, y_train = english_ytrain, X_test = english_Xtest, y_test = english_ytest, clf1=LogisticRegression(), clf2=SVC(), clf3=MultinomialNB(), voting='hard', plot=False):\n",
        "  clf4 = RandomForestClassifier(n_estimators=100, random_state=1)\n",
        "  ensemble_clf = VotingClassifier(estimators=[('lr', clf1), ('svm', clf2), ('mnb', clf3), ('rfc', clf4)], voting=voting)\n",
        "  ensemble_clf.fit(X_train, y_train)\n",
        "  y_pred = ensemble_clf.predict(X_test)\n",
        "  print('Ensemble method - voting : {}'.format(voting))\n",
        "  if plot==False:\n",
        "    print('Testing accuracy %s' % accuracy_score(y_test, y_pred))\n",
        "    print('Testing F1 score: {}'.format(f1_score(y_test, y_pred, average='weighted')))\n",
        "  else:\n",
        "    print_scores(y_test, y_pred)\n",
        "  print('\\n------------------------------------------------\\n')"
      ]
    },
    {
      "cell_type": "code",
      "execution_count": null,
      "metadata": {
        "id": "hXHPd5JXEbVN"
      },
      "outputs": [],
      "source": [
        "votings = ['hard', 'soft']"
      ]
    },
    {
      "cell_type": "markdown",
      "metadata": {
        "id": "MHk7HCntQvwj"
      },
      "source": [
        "### English"
      ]
    },
    {
      "cell_type": "code",
      "execution_count": null,
      "metadata": {
        "id": "y9OETTP2VbHf"
      },
      "outputs": [],
      "source": [
        "# Logistic Regression - penalty: l1 , C: 1 , solver : saga , multi_class : multinomial\n",
        "english_LR = LogisticRegression(penalty='l1', C=1, solver='saga', multi_class='multinomial', max_iter=1000)\n",
        "# SVM - kernel : rbf , C : 1000.0 , gamma : scale , decision function shape : ovr\n",
        "english_SVM = SVC(kernel='rbf', C=1e3, gamma='scale', decision_function_shape='ovr', probability=True)\n",
        "# Multinomial Naive Bayes - alpha : 1e-10 , fit_prior : True\n",
        "english_NB = MultinomialNB(alpha=1e-10, fit_prior=True)"
      ]
    },
    {
      "cell_type": "code",
      "execution_count": null,
      "metadata": {
        "colab": {
          "base_uri": "https://localhost:8080/"
        },
        "id": "jyv7PCvbVVg9",
        "outputId": "a6ccb696-4eff-4afb-e409-c134b4a61108"
      },
      "outputs": [
        {
          "output_type": "stream",
          "name": "stdout",
          "text": [
            "Ensemble method - voting : hard\n",
            "Testing accuracy 0.9162856137882518\n",
            "Testing F1 score: 0.891104053336387\n",
            "\n",
            "------------------------------------------------\n",
            "\n",
            "Ensemble method - voting : soft\n",
            "Testing accuracy 0.9194512838550827\n",
            "Testing F1 score: 0.8989564196299314\n",
            "\n",
            "------------------------------------------------\n",
            "\n"
          ]
        }
      ],
      "source": [
        "for voting in votings:\n",
        "  ensemble(voting=voting, clf1=english_LR, clf2=english_SVM, clf3=english_NB)"
      ]
    },
    {
      "cell_type": "markdown",
      "metadata": {
        "id": "sWBU-1PmhGdK"
      },
      "source": [
        "### Results\n",
        "Ensemble method - voting : soft  \n",
        "----------Test Scores----------\n",
        "\n",
        "Precision: 0.909004425474366  \n",
        "Recall: 0.9194512838550827  \n",
        "F1-Score: 0.8989564196299314  \n",
        "Accuracy: 0.9194512838550827  "
      ]
    },
    {
      "cell_type": "code",
      "source": [
        "ensemble_en = ensemble(voting='soft', clf1=english_LR, clf2=english_SVM, clf3=english_NB, plot=True)"
      ],
      "metadata": {
        "colab": {
          "base_uri": "https://localhost:8080/",
          "height": 671
        },
        "id": "9UyKdbkqHNpM",
        "outputId": "d3a00ecb-a7ee-495a-9be5-60936b3ab996"
      },
      "execution_count": null,
      "outputs": [
        {
          "output_type": "stream",
          "name": "stdout",
          "text": [
            "Ensemble method - voting : soft\n",
            "\n",
            "----------Test Scores----------\n",
            "\n",
            "Precision: 0.909004425474366\n",
            "Recall: 0.9194512838550827\n",
            "F1-Score: 0.8989564196299314\n",
            "Accuracy: 0.9194512838550827\n",
            "\n",
            "                 precision    recall  f1-score   support\n",
            "\n",
            "Non_hope_speech       0.92      0.99      0.96      2569\n",
            "    Hope_speech       0.78      0.23      0.36       272\n",
            "    not-English       0.00      0.00      0.00         2\n",
            "\n",
            "       accuracy                           0.92      2843\n",
            "      macro avg       0.57      0.41      0.44      2843\n",
            "   weighted avg       0.91      0.92      0.90      2843\n",
            " \n",
            "\n",
            "\n",
            "------------------------------------------------\n",
            "\n"
          ]
        },
        {
          "output_type": "display_data",
          "data": {
            "text/plain": [
              "<Figure size 432x288 with 2 Axes>"
            ],
            "image/png": "[encoded data removed]"
          },
          "metadata": {
            "needs_background": "light"
          }
        }
      ]
    },
    {
      "cell_type": "code",
      "execution_count": null,
      "metadata": {
        "id": "wUlbXHv4VVdd"
      },
      "outputs": [],
      "source": [
        "scores['english_scores']['Ensemble'] = 0.8989564196299314"
      ]
    },
    {
      "cell_type": "markdown",
      "metadata": {
        "id": "wxRewg34VocU"
      },
      "source": [
        "### Tamil"
      ]
    },
    {
      "cell_type": "code",
      "execution_count": null,
      "metadata": {
        "id": "At-FZK-YVVbc"
      },
      "outputs": [],
      "source": [
        "# Logistic Regression - penalty: l2 , C: 1 , solver : lbfgs , multi_class : ovr\n",
        "tamil_LR = LogisticRegression(penalty='l2', C=1, solver='lbfgs', multi_class='ovr', max_iter=1000)\n",
        "# SVM - kernel : rbf , C : 1 , gamma : scale , decision function shape : ovr\n",
        "tamil_SVM = SVC(kernel='rbf', C=1, gamma='scale', decision_function_shape='ovr', probability=True)\n",
        "# Multinomial Naive Bayes - alpha : 0.9 , fit_prior : False\n",
        "tamil_NB = MultinomialNB(alpha=0.9, fit_prior=False)"
      ]
    },
    {
      "cell_type": "code",
      "execution_count": null,
      "metadata": {
        "colab": {
          "base_uri": "https://localhost:8080/"
        },
        "id": "YKiknLrgYs9D",
        "outputId": "4242c4f3-4813-4f57-8873-734f6bf0cb52"
      },
      "outputs": [
        {
          "output_type": "stream",
          "name": "stdout",
          "text": [
            "Ensemble method - voting : hard\n",
            "Testing accuracy 0.6075322101090188\n",
            "Testing F1 score: 0.5900089674939608\n",
            "\n",
            "------------------------------------------------\n",
            "\n",
            "Ensemble method - voting : soft\n",
            "Testing accuracy 0.6144697720515362\n",
            "Testing F1 score: 0.6035640056105799\n",
            "\n",
            "------------------------------------------------\n",
            "\n"
          ]
        }
      ],
      "source": [
        "for voting in votings:\n",
        "  ensemble(X_train = tamil_Xtrain, y_train = tamil_ytrain, X_test = tamil_Xtest, y_test = tamil_ytest, voting=voting, clf1=tamil_LR, clf2=tamil_SVM, clf3=tamil_NB)"
      ]
    },
    {
      "cell_type": "markdown",
      "metadata": {
        "id": "Sp8xzpFYkH5Y"
      },
      "source": [
        "### Results\n",
        "Ensemble method - voting : soft  \n",
        "----------Test Scores----------\n",
        "\n",
        "Precision: 0.6094846174804791  \n",
        "Recall: 0.6144697720515362  \n",
        "F1-Score: 0.6035640056105799  \n",
        "Accuracy: 0.6144697720515362  "
      ]
    },
    {
      "cell_type": "code",
      "source": [
        "ensemble_ta = ensemble(X_train = tamil_Xtrain, y_train = tamil_ytrain, X_test = tamil_Xtest, y_test = tamil_ytest, voting='soft', clf1=tamil_LR, clf2=tamil_SVM, clf3=tamil_NB, plot=True)"
      ],
      "metadata": {
        "colab": {
          "base_uri": "https://localhost:8080/",
          "height": 671
        },
        "id": "d23WqcHKEuNS",
        "outputId": "da97fb64-253b-4cc2-dd28-f1d62af36d0e"
      },
      "execution_count": null,
      "outputs": [
        {
          "output_type": "stream",
          "name": "stdout",
          "text": [
            "Ensemble method - voting : soft\n",
            "\n",
            "----------Test Scores----------\n",
            "\n",
            "Precision: 0.6094846174804791\n",
            "Recall: 0.6144697720515362\n",
            "F1-Score: 0.6035640056105799\n",
            "Accuracy: 0.6144697720515362\n",
            "\n",
            "                 precision    recall  f1-score   support\n",
            "\n",
            "Non_hope_speech       0.63      0.78      0.70       998\n",
            "    Hope_speech       0.59      0.47      0.52       757\n",
            "    not-English       0.58      0.41      0.48       263\n",
            "\n",
            "       accuracy                           0.61      2018\n",
            "      macro avg       0.60      0.55      0.57      2018\n",
            "   weighted avg       0.61      0.61      0.60      2018\n",
            " \n",
            "\n",
            "\n",
            "------------------------------------------------\n",
            "\n"
          ]
        },
        {
          "output_type": "display_data",
          "data": {
            "text/plain": [
              "<Figure size 432x288 with 2 Axes>"
            ],
            "image/png": "[encoded data removed]"
          },
          "metadata": {
            "needs_background": "light"
          }
        }
      ]
    },
    {
      "cell_type": "code",
      "execution_count": null,
      "metadata": {
        "id": "cAPWbt_xkLiK"
      },
      "outputs": [],
      "source": [
        "scores['tamil_scores']['Ensemble'] = 0.6035640056105799"
      ]
    },
    {
      "cell_type": "markdown",
      "metadata": {
        "id": "ko-VlOG4EcDo"
      },
      "source": [
        "## Plots"
      ]
    },
    {
      "cell_type": "markdown",
      "metadata": {
        "id": "AUeCDPcZkmrP"
      },
      "source": [
        "### English"
      ]
    },
    {
      "cell_type": "code",
      "execution_count": null,
      "metadata": {
        "colab": {
          "base_uri": "https://localhost:8080/",
          "height": 350
        },
        "id": "Ndna8cCaEdgY",
        "outputId": "0596a6e9-81c7-4725-937f-687f834fbbce"
      },
      "outputs": [
        {
          "output_type": "display_data",
          "data": {
            "text/plain": [
              "<Figure size 576x360 with 1 Axes>"
            ],
            "image/png": "[encoded data removed]"
          },
          "metadata": {
            "needs_background": "light"
          }
        }
      ],
      "source": [
        "plt.figure(figsize=(8,5))\n",
        "plt.plot(list(scores['english_scores'].keys()), list(scores['english_scores'].values()), 'o-')\n",
        "plt.xlabel('Models')\n",
        "plt.ylabel('F1 scores')\n",
        "plt.title('Accuracy for English data')\n",
        "plt.show()"
      ]
    },
    {
      "cell_type": "markdown",
      "metadata": {
        "id": "WGJhQKnqlPjC"
      },
      "source": [
        "### Tamil"
      ]
    },
    {
      "cell_type": "code",
      "execution_count": null,
      "metadata": {
        "colab": {
          "base_uri": "https://localhost:8080/",
          "height": 350
        },
        "id": "qd5TxjHqlBRf",
        "outputId": "7464e225-2cf5-4d99-abed-9f11142f208b"
      },
      "outputs": [
        {
          "output_type": "display_data",
          "data": {
            "text/plain": [
              "<Figure size 576x360 with 1 Axes>"
            ],
            "image/png": "[encoded data removed]"
          },
          "metadata": {
            "needs_background": "light"
          }
        }
      ],
      "source": [
        "plt.figure(figsize=(8,5))\n",
        "plt.plot(list(scores['tamil_scores'].keys()), list(scores['tamil_scores'].values()), 'o-')\n",
        "plt.xlabel('Models')\n",
        "plt.ylabel('F1 scores')\n",
        "plt.title('Accuracy for Tamil data')\n",
        "plt.show()"
      ]
    },
    {
      "cell_type": "markdown",
      "metadata": {
        "id": "gE5PvsPHgNH0"
      },
      "source": [
        "# DL models"
      ]
    },
    {
      "cell_type": "markdown",
      "metadata": {
        "id": "aC_CxqO1Kccd"
      },
      "source": [
        "## Libraries"
      ]
    },
    {
      "cell_type": "code",
      "source": [
        "pip install keras-tuner"
      ],
      "metadata": {
        "id": "luIqT2C_sRo_",
        "colab": {
          "base_uri": "https://localhost:8080/"
        },
        "outputId": "e6249b80-1b0d-4960-910e-875a071c6abe"
      },
      "execution_count": 31,
      "outputs": [
        {
          "output_type": "stream",
          "name": "stdout",
          "text": [
            "Requirement already satisfied: keras-tuner in /usr/local/lib/python3.7/dist-packages (1.1.2)\n",
            "Requirement already satisfied: kt-legacy in /usr/local/lib/python3.7/dist-packages (from keras-tuner) (1.0.4)\n",
            "Requirement already satisfied: packaging in /usr/local/lib/python3.7/dist-packages (from keras-tuner) (21.3)\n",
            "Requirement already satisfied: ipython in /usr/local/lib/python3.7/dist-packages (from keras-tuner) (5.5.0)\n",
            "Requirement already satisfied: tensorboard in /usr/local/lib/python3.7/dist-packages (from keras-tuner) (2.8.0)\n",
            "Requirement already satisfied: requests in /usr/local/lib/python3.7/dist-packages (from keras-tuner) (2.23.0)\n",
            "Requirement already satisfied: numpy in /usr/local/lib/python3.7/dist-packages (from keras-tuner) (1.21.6)\n",
            "Requirement already satisfied: pygments in /usr/local/lib/python3.7/dist-packages (from ipython->keras-tuner) (2.6.1)\n",
            "Requirement already satisfied: prompt-toolkit<2.0.0,>=1.0.4 in /usr/local/lib/python3.7/dist-packages (from ipython->keras-tuner) (1.0.18)\n",
            "Requirement already satisfied: decorator in /usr/local/lib/python3.7/dist-packages (from ipython->keras-tuner) (4.4.2)\n",
            "Requirement already satisfied: traitlets>=4.2 in /usr/local/lib/python3.7/dist-packages (from ipython->keras-tuner) (5.1.1)\n",
            "Requirement already satisfied: simplegeneric>0.8 in /usr/local/lib/python3.7/dist-packages (from ipython->keras-tuner) (0.8.1)\n",
            "Requirement already satisfied: pexpect in /usr/local/lib/python3.7/dist-packages (from ipython->keras-tuner) (4.8.0)\n",
            "Requirement already satisfied: setuptools>=18.5 in /usr/local/lib/python3.7/dist-packages (from ipython->keras-tuner) (57.4.0)\n",
            "Requirement already satisfied: pickleshare in /usr/local/lib/python3.7/dist-packages (from ipython->keras-tuner) (0.7.5)\n",
            "Requirement already satisfied: wcwidth in /usr/local/lib/python3.7/dist-packages (from prompt-toolkit<2.0.0,>=1.0.4->ipython->keras-tuner) (0.2.5)\n",
            "Requirement already satisfied: six>=1.9.0 in /usr/local/lib/python3.7/dist-packages (from prompt-toolkit<2.0.0,>=1.0.4->ipython->keras-tuner) (1.15.0)\n",
            "Requirement already satisfied: pyparsing!=3.0.5,>=2.0.2 in /usr/local/lib/python3.7/dist-packages (from packaging->keras-tuner) (3.0.8)\n",
            "Requirement already satisfied: ptyprocess>=0.5 in /usr/local/lib/python3.7/dist-packages (from pexpect->ipython->keras-tuner) (0.7.0)\n",
            "Requirement already satisfied: chardet<4,>=3.0.2 in /usr/local/lib/python3.7/dist-packages (from requests->keras-tuner) (3.0.4)\n",
            "Requirement already satisfied: idna<3,>=2.5 in /usr/local/lib/python3.7/dist-packages (from requests->keras-tuner) (2.10)\n",
            "Requirement already satisfied: urllib3!=1.25.0,!=1.25.1,<1.26,>=1.21.1 in /usr/local/lib/python3.7/dist-packages (from requests->keras-tuner) (1.24.3)\n",
            "Requirement already satisfied: certifi>=2017.4.17 in /usr/local/lib/python3.7/dist-packages (from requests->keras-tuner) (2021.10.8)\n",
            "Requirement already satisfied: tensorboard-data-server<0.7.0,>=0.6.0 in /usr/local/lib/python3.7/dist-packages (from tensorboard->keras-tuner) (0.6.1)\n",
            "Requirement already satisfied: werkzeug>=0.11.15 in /usr/local/lib/python3.7/dist-packages (from tensorboard->keras-tuner) (1.0.1)\n",
            "Requirement already satisfied: google-auth-oauthlib<0.5,>=0.4.1 in /usr/local/lib/python3.7/dist-packages (from tensorboard->keras-tuner) (0.4.6)\n",
            "Requirement already satisfied: protobuf>=3.6.0 in /usr/local/lib/python3.7/dist-packages (from tensorboard->keras-tuner) (3.17.3)\n",
            "Requirement already satisfied: grpcio>=1.24.3 in /usr/local/lib/python3.7/dist-packages (from tensorboard->keras-tuner) (1.44.0)\n",
            "Requirement already satisfied: tensorboard-plugin-wit>=1.6.0 in /usr/local/lib/python3.7/dist-packages (from tensorboard->keras-tuner) (1.8.1)\n",
            "Requirement already satisfied: markdown>=2.6.8 in /usr/local/lib/python3.7/dist-packages (from tensorboard->keras-tuner) (3.3.6)\n",
            "Requirement already satisfied: absl-py>=0.4 in /usr/local/lib/python3.7/dist-packages (from tensorboard->keras-tuner) (1.0.0)\n",
            "Requirement already satisfied: google-auth<3,>=1.6.3 in /usr/local/lib/python3.7/dist-packages (from tensorboard->keras-tuner) (1.35.0)\n",
            "Requirement already satisfied: wheel>=0.26 in /usr/local/lib/python3.7/dist-packages (from tensorboard->keras-tuner) (0.37.1)\n",
            "Requirement already satisfied: pyasn1-modules>=0.2.1 in /usr/local/lib/python3.7/dist-packages (from google-auth<3,>=1.6.3->tensorboard->keras-tuner) (0.2.8)\n",
            "Requirement already satisfied: rsa<5,>=3.1.4 in /usr/local/lib/python3.7/dist-packages (from google-auth<3,>=1.6.3->tensorboard->keras-tuner) (4.8)\n",
            "Requirement already satisfied: cachetools<5.0,>=2.0.0 in /usr/local/lib/python3.7/dist-packages (from google-auth<3,>=1.6.3->tensorboard->keras-tuner) (4.2.4)\n",
            "Requirement already satisfied: requests-oauthlib>=0.7.0 in /usr/local/lib/python3.7/dist-packages (from google-auth-oauthlib<0.5,>=0.4.1->tensorboard->keras-tuner) (1.3.1)\n",
            "Requirement already satisfied: importlib-metadata>=4.4 in /usr/local/lib/python3.7/dist-packages (from markdown>=2.6.8->tensorboard->keras-tuner) (4.11.3)\n",
            "Requirement already satisfied: typing-extensions>=3.6.4 in /usr/local/lib/python3.7/dist-packages (from importlib-metadata>=4.4->markdown>=2.6.8->tensorboard->keras-tuner) (4.2.0)\n",
            "Requirement already satisfied: zipp>=0.5 in /usr/local/lib/python3.7/dist-packages (from importlib-metadata>=4.4->markdown>=2.6.8->tensorboard->keras-tuner) (3.8.0)\n",
            "Requirement already satisfied: pyasn1<0.5.0,>=0.4.6 in /usr/local/lib/python3.7/dist-packages (from pyasn1-modules>=0.2.1->google-auth<3,>=1.6.3->tensorboard->keras-tuner) (0.4.8)\n",
            "Requirement already satisfied: oauthlib>=3.0.0 in /usr/local/lib/python3.7/dist-packages (from requests-oauthlib>=0.7.0->google-auth-oauthlib<0.5,>=0.4.1->tensorboard->keras-tuner) (3.2.0)\n"
          ]
        }
      ]
    },
    {
      "cell_type": "code",
      "execution_count": 32,
      "metadata": {
        "id": "IdAC7E5YntYz"
      },
      "outputs": [],
      "source": [
        "from tensorflow import keras\n",
        "import tensorflow_hub as hub\n",
        "from tensorflow.keras.preprocessing.text import Tokenizer\n",
        "from tensorflow.keras.preprocessing.sequence import pad_sequences\n",
        "from tensorflow.keras.layers import Conv1D, MaxPooling1D, Bidirectional, LSTM, Flatten, Dense, Embedding, Lambda, Input, Dropout\n",
        "from tensorflow.keras import Model\n",
        "from tensorflow.keras.layers import Layer\n",
        "from tensorflow.keras import backend as K\n",
        "from tensorflow.keras.callbacks import ModelCheckpoint, EarlyStopping\n",
        "from tensorflow.keras.models import load_model\n",
        "# from livelossplot import PlotLossesKeras\n",
        "import keras_tuner as kt\n",
        "from sklearn.metrics import ConfusionMatrixDisplay, precision_score, recall_score\n",
        "from urllib.request import urlopen\n",
        "import gzip\n",
        "import warnings\n",
        "warnings.filterwarnings('ignore')"
      ]
    },
    {
      "cell_type": "markdown",
      "metadata": {
        "id": "NQch7IA3nZsx"
      },
      "source": [
        "## Preprocessing"
      ]
    },
    {
      "cell_type": "markdown",
      "metadata": {
        "id": "8iHuuBtfPz4R"
      },
      "source": [
        "### English"
      ]
    },
    {
      "cell_type": "code",
      "source": [
        "english_Xtrain = np.array(english_hope_train[\"texts\"])\n",
        "english_ytrain = np.array(english_hope_train[\"enc_label\"])\n",
        "english_Xtest = np.array(english_hope_test[\"texts\"])\n",
        "english_ytest = np.array(english_hope_test[\"enc_label\"])"
      ],
      "metadata": {
        "id": "ZH9gY0V6xPwb"
      },
      "execution_count": 33,
      "outputs": []
    },
    {
      "cell_type": "code",
      "execution_count": 34,
      "metadata": {
        "id": "J0qzgdz0Trpp"
      },
      "outputs": [],
      "source": [
        "english_tokenizer = Tokenizer(\n",
        "                        num_words=1000,\n",
        "                        filters='!\"#$%&()*+,-./:;<=>?@[\\\\]^_`{|}~\\t\\n',\n",
        "                        lower=True, split=' ', oov_token='<oov>'\n",
        "                    )\n",
        "english_tokenizer.fit_on_texts(english_Xtrain)"
      ]
    },
    {
      "cell_type": "code",
      "execution_count": 35,
      "metadata": {
        "id": "fnjLBa-4WBms",
        "colab": {
          "base_uri": "https://localhost:8080/"
        },
        "outputId": "f23645ae-5f33-43a2-c2e7-52457cee85bc"
      },
      "outputs": [
        {
          "output_type": "stream",
          "name": "stdout",
          "text": [
            "No of words in English Tokenizer:  15960\n",
            "English vocabulary size:  15961\n"
          ]
        }
      ],
      "source": [
        "english_vocab = english_tokenizer.word_index\n",
        "print(\"No of words in English Tokenizer: \", len(english_vocab))\n",
        "english_vocab_len = len(english_vocab) + 1\n",
        "print(\"English vocabulary size: \", english_vocab_len)"
      ]
    },
    {
      "cell_type": "code",
      "execution_count": 36,
      "metadata": {
        "id": "ma8y3cfMXQxS",
        "colab": {
          "base_uri": "https://localhost:8080/",
          "height": 513
        },
        "outputId": "6dfa0143-5c41-433a-931c-4d3b6717d3d9"
      },
      "outputs": [
        {
          "output_type": "display_data",
          "data": {
            "text/plain": [
              "<Figure size 720x576 with 1 Axes>"
            ],
            "image/png": "[encoded data removed]"
          },
          "metadata": {
            "needs_background": "light"
          }
        }
      ],
      "source": [
        "plt.figure(figsize=(10,8))\n",
        "plt.hist([len(text.split()) for text in english_Xtrain], bins=300)\n",
        "plt.xlabel('Length of texts')\n",
        "plt.ylabel('No of texts')\n",
        "plt.title('English')\n",
        "plt.show()"
      ]
    },
    {
      "cell_type": "code",
      "execution_count": 37,
      "metadata": {
        "id": "B6iKfcjKYCiS",
        "colab": {
          "base_uri": "https://localhost:8080/"
        },
        "outputId": "0de6b5f8-b549-41f6-8edc-f86adcc46f9a"
      },
      "outputs": [
        {
          "output_type": "execute_result",
          "data": {
            "text/plain": [
              "98"
            ]
          },
          "metadata": {},
          "execution_count": 37
        }
      ],
      "source": [
        "max([len(text.split()) for text in english_Xtrain])"
      ]
    },
    {
      "cell_type": "code",
      "execution_count": 38,
      "metadata": {
        "id": "4aOrzXymbCRr"
      },
      "outputs": [],
      "source": [
        "english_maxlen = 100"
      ]
    },
    {
      "cell_type": "code",
      "execution_count": 39,
      "metadata": {
        "id": "btPHNSNObRXF",
        "colab": {
          "base_uri": "https://localhost:8080/"
        },
        "outputId": "a2cc3211-9f9b-4be0-be29-1ffa16ee6a12"
      },
      "outputs": [
        {
          "output_type": "stream",
          "name": "stdout",
          "text": [
            "No of train sequences: (22762, 100)\n",
            "No of test sequences: (2843, 100)\n"
          ]
        }
      ],
      "source": [
        "english_train_seq = english_tokenizer.texts_to_sequences(english_Xtrain)\n",
        "english_train_pad_seq = pad_sequences(english_train_seq, maxlen=english_maxlen, padding='post', value=0.0)\n",
        "print(\"No of train sequences:\", english_train_pad_seq.shape)\n",
        "\n",
        "english_test_seq = english_tokenizer.texts_to_sequences(english_Xtest)\n",
        "english_test_pad_seq = pad_sequences(english_test_seq, maxlen=english_maxlen, padding='post', value=0.0)\n",
        "print(\"No of test sequences:\", english_test_pad_seq.shape)"
      ]
    },
    {
      "cell_type": "markdown",
      "metadata": {
        "id": "oOdA6DRjP3NC"
      },
      "source": [
        "### Tamil"
      ]
    },
    {
      "cell_type": "code",
      "source": [
        "tamil_Xtrain = np.array(tamil_hope_train[\"texts\"])\n",
        "tamil_ytrain = np.array(tamil_hope_train[\"enc_label\"])\n",
        "tamil_Xtest = np.array(tamil_hope_test[\"texts\"])[:2016]\n",
        "tamil_ytest = np.array(tamil_hope_test[\"enc_label\"])[:2016]"
      ],
      "metadata": {
        "id": "vGUf4tyFyGJc"
      },
      "execution_count": 40,
      "outputs": []
    },
    {
      "cell_type": "code",
      "execution_count": 41,
      "metadata": {
        "id": "kTvE60jXAiTb"
      },
      "outputs": [],
      "source": [
        "tamil_tokenizer = Tokenizer(\n",
        "                        num_words=1000,\n",
        "                        filters='!\"#$%&()*+,-./:;<=>?@[\\\\]^_`{|}~\\t\\n',\n",
        "                        lower=True, split=' ', oov_token='<oov>'\n",
        "                    )\n",
        "tamil_tokenizer.fit_on_texts(tamil_Xtrain)"
      ]
    },
    {
      "cell_type": "code",
      "execution_count": 42,
      "metadata": {
        "id": "fPqDAmP2L_G1",
        "colab": {
          "base_uri": "https://localhost:8080/"
        },
        "outputId": "a5a205cf-1c98-4f38-a5c0-93483fa7d5eb"
      },
      "outputs": [
        {
          "output_type": "stream",
          "name": "stdout",
          "text": [
            "No of words in Tamil Tokenizer:  31414\n",
            "Tamil vocabulary size:  31415\n"
          ]
        }
      ],
      "source": [
        "tamil_vocab = tamil_tokenizer.word_index\n",
        "print(\"No of words in Tamil Tokenizer: \", len(tamil_vocab))\n",
        "tamil_vocab_len = len(tamil_vocab) + 1\n",
        "print(\"Tamil vocabulary size: \", tamil_vocab_len)"
      ]
    },
    {
      "cell_type": "code",
      "execution_count": 43,
      "metadata": {
        "id": "75vBwFc9MDj_",
        "colab": {
          "base_uri": "https://localhost:8080/",
          "height": 54
        },
        "outputId": "36579a91-ff7a-491a-8b62-a1ad9bdfc2b9"
      },
      "outputs": [
        {
          "output_type": "display_data",
          "data": {
            "text/plain": [
              "<Figure size 720x576 with 1 Axes>"
            ],
            "image/png": "[encoded data removed]"
          },
          "metadata": {
            "needs_background": "light"
          }
        }
      ],
      "source": [
        "plt.figure(figsize=(10,8))\n",
        "plt.hist([len(text.split()) for text in tamil_Xtrain], bins=100)\n",
        "plt.xlabel('Length of texts')\n",
        "plt.ylabel('No of texts')\n",
        "plt.title('Tamil')\n",
        "plt.show()"
      ]
    },
    {
      "cell_type": "code",
      "source": [
        "max([len(text.split()) for text in tamil_Xtrain])"
      ],
      "metadata": {
        "id": "tVREfovoYxd_",
        "colab": {
          "base_uri": "https://localhost:8080/"
        },
        "outputId": "5014ed8b-e731-44f2-bef2-7d75cc7912e0"
      },
      "execution_count": 44,
      "outputs": [
        {
          "output_type": "execute_result",
          "data": {
            "text/plain": [
              "193"
            ]
          },
          "metadata": {},
          "execution_count": 44
        }
      ]
    },
    {
      "cell_type": "code",
      "execution_count": 45,
      "metadata": {
        "id": "KT99ibw_MH9Y"
      },
      "outputs": [],
      "source": [
        "tamil_maxlen = 100"
      ]
    },
    {
      "cell_type": "code",
      "execution_count": 46,
      "metadata": {
        "id": "VDliyU0BMIaZ",
        "colab": {
          "base_uri": "https://localhost:8080/"
        },
        "outputId": "87a7d59d-8000-4ba9-e324-1ee63eaa8c54"
      },
      "outputs": [
        {
          "output_type": "stream",
          "name": "stdout",
          "text": [
            "No of train sequences: (16160, 100)\n",
            "No of test sequences: (2016, 100)\n"
          ]
        }
      ],
      "source": [
        "tamil_train_seq = tamil_tokenizer.texts_to_sequences(tamil_Xtrain)\n",
        "tamil_train_pad_seq = pad_sequences(tamil_train_seq, maxlen=tamil_maxlen, padding='post', value=0.0)\n",
        "print(\"No of train sequences:\", tamil_train_pad_seq.shape)\n",
        "\n",
        "tamil_test_seq = tamil_tokenizer.texts_to_sequences(tamil_Xtest)\n",
        "tamil_test_pad_seq = pad_sequences(tamil_test_seq, maxlen=tamil_maxlen, padding='post', value=0.0)\n",
        "print(\"No of test sequences:\", tamil_test_pad_seq.shape)"
      ]
    },
    {
      "cell_type": "markdown",
      "metadata": {
        "id": "eNaiBhF-Aj1m"
      },
      "source": [
        "## Embeddings"
      ]
    },
    {
      "cell_type": "code",
      "source": [
        "english_vocab_len"
      ],
      "metadata": {
        "colab": {
          "base_uri": "https://localhost:8080/"
        },
        "id": "x-zBiJtCBf3T",
        "outputId": "99311a26-503f-4b6f-e60c-dd401ca2ed7d"
      },
      "execution_count": null,
      "outputs": [
        {
          "output_type": "execute_result",
          "data": {
            "text/plain": [
              "15961"
            ]
          },
          "metadata": {},
          "execution_count": 46
        }
      ]
    },
    {
      "cell_type": "code",
      "execution_count": null,
      "metadata": {
        "id": "n-tXE3hTLttA"
      },
      "outputs": [],
      "source": [
        "def load_embed_matrix(f, vocab_size=english_vocab_len, embed_vec_len=300, word_index=english_vocab, saved_embeddings='English_FT_vec.npy'):\n",
        "  embedding_index = {}\n",
        "  count = 0\n",
        "  for line in f:\n",
        "    values = line.split()\n",
        "    word = values[0].decode('utf-8')\n",
        "    coefs = np.asarray(values[1:], dtype='float32')\n",
        "    embedding_index[word] = coefs\n",
        "  embedding_matrix = np.zeros((vocab_size, embed_vec_len))\n",
        "  for word, i in word_index.items():\n",
        "    embedding_vector = embedding_index.get(word)\n",
        "    if embedding_vector is not None:\n",
        "      embedding_matrix[i] = embedding_vector\n",
        "    else:\n",
        "      count += 1\n",
        "  print(count,'OOV words')\n",
        "  np.save(saved_embeddings, embedding_matrix)\n",
        "  return embedding_matrix, embedding_index"
      ]
    },
    {
      "cell_type": "code",
      "execution_count": null,
      "metadata": {
        "id": "rEf2XUfEEtqp",
        "colab": {
          "base_uri": "https://localhost:8080/"
        },
        "outputId": "6f65a99c-a8c5-4435-902b-10329cc010ce"
      },
      "outputs": [
        {
          "output_type": "stream",
          "name": "stdout",
          "text": [
            "6765 OOV words\n"
          ]
        }
      ],
      "source": [
        "english_ft_vec = gzip.open(urlopen('https://dl.fbaipublicfiles.com/fasttext/vectors-crawl/cc.en.300.vec.gz'))\n",
        "english_ft_matrix, english_ft_index = load_embed_matrix(english_ft_vec)"
      ]
    },
    {
      "cell_type": "code",
      "source": [
        "english_ft_matrix.shape"
      ],
      "metadata": {
        "colab": {
          "base_uri": "https://localhost:8080/"
        },
        "id": "geuJgXJi4SB6",
        "outputId": "b4e3e812-a0a9-4b3a-e15e-b31d13dda9c6"
      },
      "execution_count": null,
      "outputs": [
        {
          "output_type": "execute_result",
          "data": {
            "text/plain": [
              "(15961, 300)"
            ]
          },
          "metadata": {},
          "execution_count": 49
        }
      ]
    },
    {
      "cell_type": "code",
      "execution_count": null,
      "metadata": {
        "id": "NRPV0GlOEtPx"
      },
      "outputs": [],
      "source": [
        "english_ft_matrix = np.load('English_FT_vec.npy')"
      ]
    },
    {
      "cell_type": "code",
      "execution_count": null,
      "metadata": {
        "id": "8B-w4fg1P9cp",
        "colab": {
          "base_uri": "https://localhost:8080/"
        },
        "outputId": "ef46b58e-9243-4cd9-a956-156a79230f33"
      },
      "outputs": [
        {
          "output_type": "stream",
          "name": "stdout",
          "text": [
            "25365 OOV words\n"
          ]
        }
      ],
      "source": [
        "tamil_ft_vec = gzip.open(urlopen('https://dl.fbaipublicfiles.com/fasttext/vectors-crawl/cc.ta.300.vec.gz'))\n",
        "tamil_ft_matrix, tamil_ft_index = load_embed_matrix(f=tamil_ft_vec, vocab_size=tamil_vocab_len, word_index=tamil_vocab, saved_embeddings='Tamil_FT_vec.npy')"
      ]
    },
    {
      "cell_type": "code",
      "source": [
        "tamil_ft_matrix.shape"
      ],
      "metadata": {
        "colab": {
          "base_uri": "https://localhost:8080/"
        },
        "id": "Q0cVujZGN47H",
        "outputId": "ec220253-7eb2-4d64-8e1f-c0ebdc0c2b86"
      },
      "execution_count": null,
      "outputs": [
        {
          "output_type": "execute_result",
          "data": {
            "text/plain": [
              "(31415, 300)"
            ]
          },
          "metadata": {},
          "execution_count": 71
        }
      ]
    },
    {
      "cell_type": "code",
      "execution_count": null,
      "metadata": {
        "id": "2KIGnijLQqd3"
      },
      "outputs": [],
      "source": [
        "# tamil_ft_matrix = np.load('Tamil_FT_vec.npy')"
      ]
    },
    {
      "cell_type": "markdown",
      "metadata": {
        "id": "xxqSekBLLp4A"
      },
      "source": [
        "## Functions"
      ]
    },
    {
      "cell_type": "code",
      "execution_count": 47,
      "metadata": {
        "id": "DUN9HcNaVzgi"
      },
      "outputs": [],
      "source": [
        "# Returns (Trained Model, Predictions, History, Scores)\n",
        "\n",
        "def create_model(Xtrain=english_train_pad_seq, ytrain=english_ytrain, Xtest=english_test_pad_seq, ytest=english_ytest, \n",
        "                  lr=0.001, batch_size=32, epochs=30, val_split=0.2, model=None, saved_model=\"En_CNN_BiLSTMModel.h5\", fit=True, history_file=None, plot=False, labels=english_labels):\n",
        "\n",
        "  history = None\n",
        "  if fit==True:\n",
        "    if model==None:\n",
        "      model = load_model(saved_model)\n",
        "    else:\n",
        "      # Compiling model\n",
        "      model.compile(loss='sparse_categorical_crossentropy', optimizer=keras.optimizers.Adam(learning_rate=lr), metrics=['accuracy'])\n",
        "\n",
        "    print('\\n----------Fitting Model----------\\n')\n",
        "    chkpt = ModelCheckpoint(saved_model, monitor='val_acc',verbose=1, save_best_only=True, save_weights_only=False, mode='max')\n",
        "\n",
        "    early_stopping = EarlyStopping(monitor='acc', min_delta=0, patience=2, verbose=0, mode='max', baseline=None, restore_best_weights=True)\n",
        "\n",
        "    if plot==True:\n",
        "      callbacks = [PlotLossesKeras(), chkpt, early_stopping]\n",
        "    else:\n",
        "      callbacks = [chkpt, early_stopping]\n",
        "\n",
        "    # Fitting Model\n",
        "    history = model.fit(\n",
        "        x=Xtrain,\n",
        "        y=ytrain,\n",
        "        validation_split=val_split,\n",
        "        batch_size=batch_size,\n",
        "        epochs=epochs,\n",
        "        callbacks=callbacks,\n",
        "        verbose=True\n",
        "    )\n",
        "\n",
        "    np.save(saved_model[:-8]+'History.npy',history.history)\n",
        "  \n",
        "  if history_file!=None:\n",
        "    history = np.load(history_file,allow_picke=True)\n",
        "\n",
        "  # Loading Model\n",
        "  loadedModel = load_model(saved_model)\n",
        "\n",
        "  print('\\n----------Model Summary----------\\n')\n",
        "  print(loadedModel.summary())\n",
        "\n",
        "  # Predicting\n",
        "  ypred = np.argmax(loadedModel.predict(Xtest), axis=-1)\n",
        "\n",
        "  print('\\n----------Test Scores----------\\n')\n",
        "  # Scores\n",
        "  scores = {'F1-Score': f1_score(ytest, ypred, average = 'weighted'), 'Accuracy': accuracy_score(ytest, ypred),\n",
        "            'Precision': precision_score(ytest, ypred, average = 'weighted'), 'Recall': recall_score(ytest, ypred, average = 'weighted'), \n",
        "            'Classification Report': classification_report(ytest, ypred, labels=[0,1,2], target_names=labels),\n",
        "            'Confusion Matrix Display': ConfusionMatrixDisplay.from_predictions(ytest, ypred, display_labels=labels)}\n",
        "  print(\"Precision: {}\".format(scores['Precision']))\n",
        "  print(\"Recall: {}\".format(scores['Recall']))\n",
        "  print(\"F1-Score: {}\".format(scores['F1-Score']))\n",
        "  print(\"Accuracy: {}\\n\".format(scores['Accuracy']))\n",
        "  print(scores['Classification Report'],'\\n')\n",
        "  scores['Confusion Matrix Display']\n",
        "\n",
        "  return loadedModel, ypred, history, scores"
      ]
    },
    {
      "cell_type": "code",
      "execution_count": null,
      "metadata": {
        "id": "fAFWfBNPBdjX"
      },
      "outputs": [],
      "source": [
        "def embedding_layer(input_dim=english_vocab_len, output_dim=300, input_length=english_maxlen, embedding=False, embedding_matrix=english_ft_matrix):\n",
        "  if(embedding==False):\n",
        "    return Embedding(input_dim=input_dim, output_dim=output_dim, input_length=input_length)\n",
        "  output_dim = embedding_matrix.shape[1]\n",
        "  return Embedding(input_dim=input_dim, output_dim=output_dim, input_length=input_length, weights=[embedding_matrix], trainable=True)"
      ]
    },
    {
      "cell_type": "code",
      "source": [
        "english_elmo = hub.Module(\"https://tfhub.dev/google/elmo/3\", trainable=True)\n",
        "\n",
        "def En_ELMoEmbedding(x):\n",
        "  return english_elmo(tf.squeeze(tf.cast(x, tf.string)), signature=\"default\", as_dict=True)[\"elmo\"]"
      ],
      "metadata": {
        "id": "eq4mn3d4v5E4"
      },
      "execution_count": null,
      "outputs": []
    },
    {
      "cell_type": "code",
      "source": [
        "tamil_elmo = hub.Module(\"https://tfhub.dev/google/elmo/3\", trainable=True)\n",
        "\n",
        "def Ta_ELMoEmbedding(x):\n",
        "  return english_elmo(tf.squeeze(tf.cast(x, tf.string)), signature=\"default\", as_dict=True)[\"elmo\"]"
      ],
      "metadata": {
        "id": "U5v8o7luwAo5"
      },
      "execution_count": null,
      "outputs": []
    },
    {
      "cell_type": "code",
      "source": [
        "def plot_history(H, path):\n",
        "    # plot the training loss and accuracy\n",
        "    plt.style.use(\"ggplot\")\n",
        "    plt.figure(figsize=(10,7))\n",
        "    plt.plot(H[\"loss\"], label=\"train_loss\")\n",
        "    plt.plot(H[\"val_loss\"], label=\"val_loss\")\n",
        "    plt.plot(H[\"acc\"], label=\"train_acc\")\n",
        "    plt.plot(H[\"val_acc\"], label=\"val_acc\")\n",
        "    plt.title(\"Training Loss and Accuracy\")\n",
        "    plt.xlabel(\"Epoch #\")\n",
        "    plt.ylabel(\"Loss/Accuracy\")\n",
        "    plt.legend()\n",
        "    if os.path.exists('/content/plots')==False:\n",
        "      os.mkdir('/content/plots')\n",
        "    plt.savefig(path)"
      ],
      "metadata": {
        "id": "937WUw1qaEeL"
      },
      "execution_count": null,
      "outputs": []
    },
    {
      "cell_type": "code",
      "source": [
        "class build_model(kt.HyperModel):\n",
        "  def __init__(self, lang='EN', embeddings='KE', elmo_embed=None, trainable=True):\n",
        "    self.lang=lang\n",
        "    self.embeddings=embeddings\n",
        "    self.elmo_embed=elmo_embed\n",
        "    self.trainable=trainable\n",
        "  \n",
        "  def build(self, hp):\n",
        "    model = keras.Sequential()\n",
        "\n",
        "    output_dim=hp.Int(\"embed_output_dim\", min_value=100, max_value=300, step=50)\n",
        "    if self.embeddings=='KE':\n",
        "      if self.lang=='EN':\n",
        "        embed_layer = Embedding(input_dim=english_vocab_len, output_dim=output_dim, input_length=english_maxlen, trainable=self.trainable)\n",
        "      else:\n",
        "        embed_layer = Embedding(input_dim=tamil_vocab_len, output_dim=output_dim, input_length=tamil_maxlen, trainable=self.trainable)\n",
        "    elif self.embeddings=='FT':\n",
        "      if self.lang=='EN':\n",
        "        embed_layer = Embedding(input_dim=english_vocab_len, output_dim=300, input_length=english_maxlen, weights=[english_ft_matrix], trainable=self.trainable)\n",
        "      else:\n",
        "        embed_layer = Embedding(input_dim=tamil_vocab_len, output_dim=300, input_length=tamil_maxlen, weights=[tamil_ft_matrix], trainable=self.trainable)\n",
        "    elif self.embeddings=='ELMo':\n",
        "      embed_layer = self.elmo_embed\n",
        "\n",
        "    model.add(embed_layer)\n",
        "    model.add(Conv1D(filters = hp.Int(\"conv_filters\", min_value=64, max_value=256, step=64), kernel_size = hp.Choice('conv_kernel_size', [3, 5, 10]), activation='relu'))\n",
        "    model.add(MaxPooling1D(pool_size=hp.Choice('maxpool_size', [2, 5, 10]), strides=hp.Choice('maxpool_strides', [1, 2, 3])))\n",
        "    model.add(Bidirectional(LSTM(units = hp.Int(\"lstm_units\", min_value=32, max_value=128, step=32),return_sequences=False,dropout = hp.Choice('dropout_value', [0.1, 0.2, 0.3]))))\n",
        "    model.add(Dense(3 , activation='softmax'))\n",
        "\n",
        "    lr = hp.Choice('learning_rate', [0.001, 0.00146, 0.0001, 0.0005])\n",
        "    model.compile(loss='sparse_categorical_crossentropy', optimizer=keras.optimizers.Adam(learning_rate=lr), metrics=['accuracy'], run_eagerly=True)\n",
        "    return model"
      ],
      "metadata": {
        "id": "DZDoMIqtVV59"
      },
      "execution_count": null,
      "outputs": []
    },
    {
      "cell_type": "code",
      "source": [
        "def tune_model(myhypermodel=build_model(), max_trials=5, saved_model=\"En_CNN_BiLSTMModel.h5\", Xtrain=english_train_pad_seq, \n",
        "               ytrain=english_ytrain, Xtest=english_test_pad_seq, ytest=english_ytest, epochs=30, batch_size=64, val_split=0.2, labels=english_labels):\n",
        "  print(\"\\n------BayesianOptimization tuner------\\n\")\n",
        "  tuner = kt.BayesianOptimization(\n",
        "    myhypermodel,\n",
        "    objective='val_acc',\n",
        "    max_trials=max_trials,\n",
        "    directory='output',\n",
        "    project_name=saved_model[:-8])\n",
        "  \n",
        "  chkpt = ModelCheckpoint(saved_model, monitor='val_acc',verbose=1, save_best_only=True, save_weights_only=False, mode='max')\n",
        "  early_stopping = EarlyStopping(monitor='val_acc', min_delta=0, patience=2, verbose=0, mode='max', baseline=None, restore_best_weights=True)\n",
        "\n",
        "  tuner.search(Xtrain, ytrain, epochs=epochs, batch_size=batch_size, callbacks=[early_stopping], validation_split=val_split)\n",
        "\n",
        "  print(\"\\n------Best hyperparameters found------\\n\")\n",
        "  bestHP = tuner.get_best_hyperparameters()[0]\n",
        "  print(\"Optimal output dimension of Embeddings: {}\".format(bestHP.get(\"embed_output_dim\")))\n",
        "  print(\"Optimal number of filters in conv layer: {}\".format(bestHP.get(\"conv_filters\")))\n",
        "  print(\"Optimal kernel size in conv layer: {}\".format(bestHP.get(\"conv_kernel_size\")))\n",
        "  print(\"Optimal pool size in maxpooling layer: {}\".format(bestHP.get(\"maxpool_size\")))\n",
        "  print(\"Optimal strides in maxpooling layer: {}\".format(bestHP.get(\"maxpool_strides\")))\n",
        "  print(\"Optimal number of units in bilstm layer: {}\".format(bestHP.get(\"lstm_units\")))\n",
        "  print(\"Optimal dropout value: {}\".format(bestHP.get(\"dropout_value\")))\n",
        "  print(\"Optimal learning rate: {}\".format(bestHP.get(\"learning_rate\")))\n",
        "\n",
        "  # build the best model and train it\n",
        "  print(\"\\n------Training the best model------\\n\")\n",
        "  model = tuner.hypermodel.build(bestHP)\n",
        "  print(model.summary())\n",
        "\n",
        "  H = model.fit(Xtrain, ytrain, validation_split=val_split, batch_size=batch_size, epochs=epochs, callbacks=[chkpt, early_stopping], verbose=1)\n",
        "  np.save(saved_model[:-8]+'History.npy',H.history)\n",
        "  \n",
        "  # evaluate the network\n",
        "  print(\"\\n------Evaluating the best model------\\n\")\n",
        "  ypred = np.argmax(model.predict(Xtest, batch_size=batch_size), axis=-1)\n",
        "\n",
        "  scores = {'F1-Score': f1_score(ytest, ypred, average = 'weighted'), 'Accuracy': accuracy_score(ytest, ypred),\n",
        "          'Precision': precision_score(ytest, ypred, average = 'weighted'), 'Recall': recall_score(ytest, ypred, average = 'weighted'), \n",
        "          'Classification Report': classification_report(ytest, ypred, labels=[0,1,2], target_names=labels),\n",
        "          'Confusion Matrix Display': ConfusionMatrixDisplay.from_predictions(ytest, ypred, display_labels=labels)}\n",
        "\n",
        "  print(\"Precision: {}\".format(scores['Precision']))\n",
        "  print(\"Recall: {}\".format(scores['Recall']))\n",
        "  print(\"F1-Score: {}\".format(scores['F1-Score']))\n",
        "  print(\"Accuracy: {}\\n\".format(scores['Accuracy']))\n",
        "  print(scores['Classification Report'],'\\n')\n",
        "  print(scores['Confusion Matrix Display'])\n",
        "\n",
        "  # generate the training loss/accuracy plot\n",
        "  plot_history(H.history, '/content/plots/'+saved_model[:-8]+'History.png')\n",
        "\n",
        "  return tuner, model, H, ypred, scores"
      ],
      "metadata": {
        "id": "IrXzp9hSHnzf"
      },
      "execution_count": null,
      "outputs": []
    },
    {
      "cell_type": "markdown",
      "source": [
        "## Hyperparamter tuning\n",
        "**links**  \n",
        "https://www.tensorflow.org/tutorials/keras/keras_tuner  \n",
        "https://keras.io/api/keras_tuner/  "
      ],
      "metadata": {
        "id": "f_2v3495VQgB"
      }
    },
    {
      "cell_type": "markdown",
      "source": [
        "### English    \n",
        "  \n",
        "Trial 12 Complete [00h 20m 43s]  \n",
        "val_acc: 0.9171974658966064  \n",
        "\n",
        "Best val_acc So Far: 0.9185152649879456  \n",
        "\n",
        "------Best hyperparameters found------  \n",
        "  \n",
        "Optimal output dimension of Embeddings: 150  \n",
        "Optimal number of filters in conv layer: 256  \n",
        "Optimal kernel size in conv layer: 10  \n",
        "Optimal pool size in maxpooling layer: 2  \n",
        "Optimal strides in maxpooling layer: 3  \n",
        "Optimal number of units in bilstm layer: 32  \n",
        "Optimal dropout value: 0.3  \n",
        "Optimal learning rate: 0.001  \n",
        "    \n",
        "------Evaluating the best model------\n",
        "\n",
        "Precision: 0.9038597812579954  \n",
        "Recall: 0.9173408371438622  \n",
        "F1-Score: 0.9064662190411468  \n",
        "Accuracy: 0.9173408371438622"
      ],
      "metadata": {
        "id": "NJ5aJHKH0Qvv"
      }
    },
    {
      "cell_type": "code",
      "source": [
        "En_CNN_BiLSTMModel = build_model()"
      ],
      "metadata": {
        "id": "cWkQUteJ0I5l"
      },
      "execution_count": null,
      "outputs": []
    },
    {
      "cell_type": "code",
      "source": [
        "En_CNN_BiLSTM = tune_model(myhypermodel=En_CNN_BiLSTMModel, max_trials=12)"
      ],
      "metadata": {
        "colab": {
          "base_uri": "https://localhost:8080/",
          "height": 1000
        },
        "id": "DYtsvlZg4GMT",
        "outputId": "cf5a9afa-e168-4644-a3fd-7f8eda5f973b"
      },
      "execution_count": null,
      "outputs": [
        {
          "output_type": "stream",
          "name": "stdout",
          "text": [
            "Trial 12 Complete [00h 20m 43s]\n",
            "val_acc: 0.9171974658966064\n",
            "\n",
            "Best val_acc So Far: 0.9185152649879456\n",
            "Total elapsed time: 00h 41m 26s\n",
            "INFO:tensorflow:Oracle triggered exit\n",
            "\n",
            "------Best hyperparameters found------\n",
            "\n",
            "Optimal output dimension of Embeddings: 150\n",
            "Optimal number of filters in conv layer: 256\n",
            "Optimal kernel size in conv layer: 10\n",
            "Optimal pool size in maxpooling layer: 2\n",
            "Optimal strides in maxpooling layer: 3\n",
            "Optimal number of units in bilstm layer: 32\n",
            "Optimal dropout value: 0.3\n",
            "Optimal learning rate: 0.001\n",
            "\n",
            "------Training the best model------\n",
            "\n",
            "Model: \"sequential_1\"\n",
            "_________________________________________________________________\n",
            "Layer (type)                 Output Shape              Param #   \n",
            "=================================================================\n",
            "embedding_1 (Embedding)      (None, 100, 150)          2394150   \n",
            "_________________________________________________________________\n",
            "conv1d_1 (Conv1D)            (None, 91, 256)           384256    \n",
            "_________________________________________________________________\n",
            "max_pooling1d_1 (MaxPooling1 (None, 30, 256)           0         \n",
            "_________________________________________________________________\n",
            "bidirectional_1 (Bidirection (None, 64)                73984     \n",
            "_________________________________________________________________\n",
            "dense_1 (Dense)              (None, 3)                 195       \n",
            "=================================================================\n",
            "Total params: 2,852,585\n",
            "Trainable params: 2,852,585\n",
            "Non-trainable params: 0\n",
            "_________________________________________________________________\n",
            "None\n",
            "Train on 18209 samples, validate on 4553 samples\n",
            "Epoch 1/30\n",
            "18176/18209 [============================>.] - ETA: 0s - loss: 0.2557 - acc: 0.9173\n",
            "Epoch 00001: val_acc improved from -inf to 0.91412, saving model to En_CNN_BiLSTMModel.h5\n",
            "18209/18209 [==============================] - 318s 17ms/sample - loss: 0.2560 - acc: 0.9172 - val_loss: 0.2290 - val_acc: 0.9141\n",
            "Epoch 2/30\n",
            "18176/18209 [============================>.] - ETA: 0s - loss: 0.1909 - acc: 0.9312\n",
            "Epoch 00002: val_acc improved from 0.91412 to 0.91632, saving model to En_CNN_BiLSTMModel.h5\n",
            "18209/18209 [==============================] - 318s 17ms/sample - loss: 0.1907 - acc: 0.9312 - val_loss: 0.2251 - val_acc: 0.9163\n",
            "Epoch 3/30\n",
            "18176/18209 [============================>.] - ETA: 0s - loss: 0.1621 - acc: 0.9405\n",
            "Epoch 00003: val_acc did not improve from 0.91632\n",
            "18209/18209 [==============================] - 310s 17ms/sample - loss: 0.1620 - acc: 0.9406 - val_loss: 0.2518 - val_acc: 0.9137\n",
            "Epoch 4/30\n",
            "18176/18209 [============================>.] - ETA: 0s - loss: 0.1250 - acc: 0.9553\n",
            "Epoch 00004: val_acc did not improve from 0.91632\n",
            "18209/18209 [==============================] - 317s 17ms/sample - loss: 0.1250 - acc: 0.9553 - val_loss: 0.2803 - val_acc: 0.9086\n",
            "Epoch 5/30\n",
            "18176/18209 [============================>.] - ETA: 0s - loss: 0.0939 - acc: 0.9688\n",
            "Epoch 00005: val_acc did not improve from 0.91632\n",
            "18209/18209 [==============================] - 322s 18ms/sample - loss: 0.0938 - acc: 0.9688 - val_loss: 0.3312 - val_acc: 0.9020\n",
            "\n",
            "------Evaluating the best model------\n",
            "\n",
            "Precision: 0.9038597812579954\n",
            "Recall: 0.9173408371438622\n",
            "F1-Score: 0.9064662190411468\n",
            "Accuracy: 0.9173408371438622\n",
            "\n",
            "                 precision    recall  f1-score   support\n",
            "\n",
            "Non_hope_speech       0.93      0.98      0.96      2569\n",
            "    Hope_speech       0.63      0.35      0.45       272\n",
            "    not-English       0.00      0.00      0.00         2\n",
            "\n",
            "       accuracy                           0.92      2843\n",
            "      macro avg       0.52      0.44      0.47      2843\n",
            "   weighted avg       0.90      0.92      0.91      2843\n",
            " \n",
            "\n",
            "<sklearn.metrics._plot.confusion_matrix.ConfusionMatrixDisplay object at 0x7fdf90512ad0>\n"
          ]
        },
        {
          "output_type": "display_data",
          "data": {
            "text/plain": [
              "<Figure size 432x288 with 2 Axes>"
            ],
            "image/png": "[encoded data removed]"
          },
          "metadata": {}
        },
        {
          "output_type": "display_data",
          "data": {
            "text/plain": [
              "<Figure size 720x504 with 1 Axes>"
            ],
            "image/png": "[encoded data removed]"
          },
          "metadata": {}
        }
      ]
    },
    {
      "cell_type": "markdown",
      "source": [
        "### English with FastText    \n",
        "Trial 4 Complete [01h 27m 10s]  \n",
        "val_acc: 0.9143421649932861  \n",
        "  \n",
        "Best val_acc So Far: 0.9152207374572754  \n",
        "  \n",
        "------Best hyperparameters found------  \n",
        "  \n",
        "Optimal output dimension of Embeddings: 200  \n",
        "Optimal number of filters in conv layer: 64  \n",
        "Optimal kernel size in conv layer: 3  \n",
        "Optimal pool size in maxpooling layer: 10  \n",
        "Optimal strides in maxpooling layer: 2  \n",
        "Optimal number of units in bilstm layer: 96  \n",
        "Optimal dropout value: 0.2  \n",
        "Optimal learning rate: 0.0005  \n",
        "    \n",
        "------Evaluating the best model------  \n",
        "  \n",
        "Precision: 0.8979458485631328  \n",
        "Recall: 0.9138234259584945  \n",
        "F1-Score: 0.9007452486617177  \n",
        "Accuracy: 0.9138234259584945"
      ],
      "metadata": {
        "id": "Wrtvtza81txd"
      }
    },
    {
      "cell_type": "code",
      "source": [
        "En_FT_CNN_BiLSTMModel = build_model(embeddings='FT')"
      ],
      "metadata": {
        "id": "oKZRyDOM1tQN"
      },
      "execution_count": null,
      "outputs": []
    },
    {
      "cell_type": "code",
      "source": [
        "En_FT_CNN_BiLSTM = tune_model(myhypermodel=En_FT_CNN_BiLSTMModel, max_trials=4, saved_model=\"En_FT_CNN_BiLSTMModel.h5\")"
      ],
      "metadata": {
        "colab": {
          "base_uri": "https://localhost:8080/",
          "height": 1000
        },
        "id": "3tklHJm1ZN02",
        "outputId": "041b39b8-4252-4301-9298-60da64c6fb1d"
      },
      "execution_count": null,
      "outputs": [
        {
          "output_type": "stream",
          "name": "stdout",
          "text": [
            "Trial 4 Complete [01h 27m 10s]\n",
            "val_acc: 0.9143421649932861\n",
            "\n",
            "Best val_acc So Far: 0.9152207374572754\n",
            "Total elapsed time: 03h 12m 16s\n",
            "INFO:tensorflow:Oracle triggered exit\n",
            "\n",
            "------Best hyperparameters found------\n",
            "\n",
            "Optimal output dimension of Embeddings: 200\n",
            "Optimal number of filters in conv layer: 64\n",
            "Optimal kernel size in conv layer: 3\n",
            "Optimal pool size in maxpooling layer: 10\n",
            "Optimal strides in maxpooling layer: 2\n",
            "Optimal number of units in bilstm layer: 96\n",
            "Optimal dropout value: 0.2\n",
            "Optimal learning rate: 0.0005\n",
            "\n",
            "------Training the best model------\n",
            "\n",
            "Model: \"sequential_1\"\n",
            "_________________________________________________________________\n",
            "Layer (type)                 Output Shape              Param #   \n",
            "=================================================================\n",
            "embedding_1 (Embedding)      (None, 100, 300)          4788300   \n",
            "_________________________________________________________________\n",
            "conv1d_1 (Conv1D)            (None, 98, 64)            57664     \n",
            "_________________________________________________________________\n",
            "max_pooling1d_1 (MaxPooling1 (None, 45, 64)            0         \n",
            "_________________________________________________________________\n",
            "bidirectional_1 (Bidirection (None, 192)               123648    \n",
            "_________________________________________________________________\n",
            "dense_1 (Dense)              (None, 3)                 579       \n",
            "=================================================================\n",
            "Total params: 4,970,191\n",
            "Trainable params: 4,970,191\n",
            "Non-trainable params: 0\n",
            "_________________________________________________________________\n",
            "None\n",
            "Train on 18209 samples, validate on 4553 samples\n",
            "Epoch 1/30\n",
            "18176/18209 [============================>.] - ETA: 0s - loss: 0.3079 - acc: 0.9141\n",
            "Epoch 00001: val_acc improved from -inf to 0.90929, saving model to En_FT_CNN_BiLSTMModel.h5\n",
            "18209/18209 [==============================] - 327s 18ms/sample - loss: 0.3082 - acc: 0.9139 - val_loss: 0.2509 - val_acc: 0.9093\n",
            "Epoch 2/30\n",
            "18176/18209 [============================>.] - ETA: 0s - loss: 0.2091 - acc: 0.9261\n",
            "Epoch 00002: val_acc did not improve from 0.90929\n",
            "18209/18209 [==============================] - 330s 18ms/sample - loss: 0.2089 - acc: 0.9262 - val_loss: 0.2450 - val_acc: 0.9091\n",
            "Epoch 3/30\n",
            "18176/18209 [============================>.] - ETA: 0s - loss: 0.1822 - acc: 0.9341\n",
            "Epoch 00003: val_acc improved from 0.90929 to 0.91280, saving model to En_FT_CNN_BiLSTMModel.h5\n",
            "18209/18209 [==============================] - 326s 18ms/sample - loss: 0.1825 - acc: 0.9341 - val_loss: 0.2329 - val_acc: 0.9128\n",
            "Epoch 4/30\n",
            "18176/18209 [============================>.] - ETA: 0s - loss: 0.1613 - acc: 0.9399\n",
            "Epoch 00004: val_acc did not improve from 0.91280\n",
            "18209/18209 [==============================] - 326s 18ms/sample - loss: 0.1616 - acc: 0.9398 - val_loss: 0.2454 - val_acc: 0.9110\n",
            "Epoch 5/30\n",
            "18176/18209 [============================>.] - ETA: 0s - loss: 0.1383 - acc: 0.9486\n",
            "Epoch 00005: val_acc did not improve from 0.91280\n",
            "18209/18209 [==============================] - 324s 18ms/sample - loss: 0.1386 - acc: 0.9485 - val_loss: 0.2590 - val_acc: 0.9099\n",
            "Epoch 6/30\n",
            "18176/18209 [============================>.] - ETA: 0s - loss: 0.1147 - acc: 0.9586\n",
            "Epoch 00006: val_acc did not improve from 0.91280\n",
            "18209/18209 [==============================] - 322s 18ms/sample - loss: 0.1145 - acc: 0.9586 - val_loss: 0.2949 - val_acc: 0.9071\n",
            "Epoch 7/30\n",
            "18176/18209 [============================>.] - ETA: 0s - loss: 0.0890 - acc: 0.9688\n",
            "Epoch 00007: val_acc did not improve from 0.91280\n",
            "18209/18209 [==============================] - 322s 18ms/sample - loss: 0.0889 - acc: 0.9688 - val_loss: 0.3333 - val_acc: 0.9099\n",
            "Epoch 8/30\n",
            "18176/18209 [============================>.] - ETA: 0s - loss: 0.0716 - acc: 0.9761\n",
            "Epoch 00008: val_acc did not improve from 0.91280\n",
            "18209/18209 [==============================] - 324s 18ms/sample - loss: 0.0717 - acc: 0.9760 - val_loss: 0.3577 - val_acc: 0.9031\n",
            "\n",
            "------Evaluating the best model------\n",
            "\n",
            "Precision: 0.8979458485631328\n",
            "Recall: 0.9138234259584945\n",
            "F1-Score: 0.9007452486617177\n",
            "Accuracy: 0.9138234259584945\n",
            "\n",
            "                 precision    recall  f1-score   support\n",
            "\n",
            "Non_hope_speech       0.93      0.98      0.95      2569\n",
            "    Hope_speech       0.60      0.31      0.41       272\n",
            "    not-English       0.00      0.00      0.00         2\n",
            "\n",
            "       accuracy                           0.91      2843\n",
            "      macro avg       0.51      0.43      0.45      2843\n",
            "   weighted avg       0.90      0.91      0.90      2843\n",
            " \n",
            "\n",
            "<sklearn.metrics._plot.confusion_matrix.ConfusionMatrixDisplay object at 0x7f099efed710>\n"
          ]
        },
        {
          "output_type": "display_data",
          "data": {
            "text/plain": [
              "<Figure size 432x288 with 2 Axes>"
            ],
            "image/png": "[encoded data removed]"
          },
          "metadata": {}
        },
        {
          "output_type": "display_data",
          "data": {
            "text/plain": [
              "<Figure size 720x504 with 1 Axes>"
            ],
            "image/png": "[encoded data removed]"
          },
          "metadata": {}
        }
      ]
    },
    {
      "cell_type": "markdown",
      "source": [
        "### English with ELMo"
      ],
      "metadata": {
        "id": "eMyxIQ6T5NgF"
      }
    },
    {
      "cell_type": "code",
      "source": [
        "En_ELMo_CNN_BiLSTMModel = build_model(embeddings='ELMo', elmo_embed=Lambda(En_ELMoEmbedding, output_shape=(1024, )))"
      ],
      "metadata": {
        "id": "lKWiQSak5QwJ"
      },
      "execution_count": null,
      "outputs": []
    },
    {
      "cell_type": "code",
      "source": [
        "with tf.Session() as session:\n",
        "    tf.keras.backend.set_session(session)\n",
        "    session.run(tf.global_variables_initializer())  \n",
        "    session.run(tf.tables_initializer())\n",
        "    En_ELMo_CNN_BiLST = tune_model(myhypermodel=En_ELMo_CNN_BiLSTMModel, saved_model=\"En_ELMo_CNN_BiLSTMModel.h5\")\n",
        "    session.close()"
      ],
      "metadata": {
        "id": "rK3hMz946qot"
      },
      "execution_count": null,
      "outputs": []
    },
    {
      "cell_type": "markdown",
      "source": [
        "### Tamil    \n",
        "\n",
        "Trial 5 Complete [01h 03m 09s]\n",
        "val_acc: 0.5943688154220581\n",
        "\n",
        "Best val_acc So Far: 0.6011757254600525\n",
        "\n",
        "------Best hyperparameters found------\n",
        "\n",
        "Optimal output dimension of Embeddings: 100  \n",
        "Optimal number of filters in conv layer: 128  \n",
        "Optimal kernel size in conv layer: 10  \n",
        "Optimal pool size in maxpooling layer: 10  \n",
        "Optimal strides in maxpooling layer: 1  \n",
        "Optimal number of units in bilstm layer: 32  \n",
        "Optimal dropout value: 0.3  \n",
        "Optimal learning rate: 0.001  \n",
        "\n",
        "------Evaluating the best model------\n",
        "\n",
        "Precision: 0.6018376335451376  \n",
        "Recall: 0.6016865079365079  \n",
        "F1-Score: 0.5861303498902185  \n",
        "Accuracy: 0.6016865079365079"
      ],
      "metadata": {
        "id": "FMgGLkeP0USG"
      }
    },
    {
      "cell_type": "code",
      "source": [
        "Ta_CNN_BiLSTMModel = build_model(lang='TA')"
      ],
      "metadata": {
        "id": "bctqJ84k6oUm"
      },
      "execution_count": null,
      "outputs": []
    },
    {
      "cell_type": "code",
      "source": [
        "Ta_CNN_BiLSTM = tune_model(myhypermodel=Ta_CNN_BiLSTMModel, saved_model=\"Ta_CNN_BiLSTMModel.h5\", Xtrain=tamil_train_pad_seq, \n",
        "               ytrain=tamil_ytrain, Xtest=tamil_test_pad_seq, ytest=tamil_ytest)"
      ],
      "metadata": {
        "colab": {
          "base_uri": "https://localhost:8080/",
          "height": 1000
        },
        "id": "13SjE-hO6pF1",
        "outputId": "9ed63d57-351f-440a-bfad-0325d1f2d3f3"
      },
      "execution_count": null,
      "outputs": [
        {
          "output_type": "stream",
          "name": "stdout",
          "text": [
            "Trial 5 Complete [01h 03m 09s]\n",
            "val_acc: 0.5943688154220581\n",
            "\n",
            "Best val_acc So Far: 0.6011757254600525\n",
            "Total elapsed time: 04h 46m 06s\n",
            "INFO:tensorflow:Oracle triggered exit\n",
            "\n",
            "------Best hyperparameters found------\n",
            "\n",
            "Optimal output dimension of Embeddings: 100\n",
            "Optimal number of filters in conv layer: 128\n",
            "Optimal kernel size in conv layer: 10\n",
            "Optimal pool size in maxpooling layer: 10\n",
            "Optimal strides in maxpooling layer: 1\n",
            "Optimal number of units in bilstm layer: 32\n",
            "Optimal dropout value: 0.3\n",
            "Optimal learning rate: 0.001\n",
            "\n",
            "------Training the best model------\n",
            "\n",
            "Model: \"sequential_1\"\n",
            "_________________________________________________________________\n",
            "Layer (type)                 Output Shape              Param #   \n",
            "=================================================================\n",
            "embedding_1 (Embedding)      (None, 100, 100)          3141500   \n",
            "_________________________________________________________________\n",
            "conv1d_1 (Conv1D)            (None, 91, 128)           128128    \n",
            "_________________________________________________________________\n",
            "max_pooling1d_1 (MaxPooling1 (None, 82, 128)           0         \n",
            "_________________________________________________________________\n",
            "bidirectional_1 (Bidirection (None, 64)                41216     \n",
            "_________________________________________________________________\n",
            "dense_1 (Dense)              (None, 3)                 195       \n",
            "=================================================================\n",
            "Total params: 3,311,039\n",
            "Trainable params: 3,311,039\n",
            "Non-trainable params: 0\n",
            "_________________________________________________________________\n",
            "None\n",
            "Train on 12928 samples, validate on 3232 samples\n",
            "Epoch 1/30\n",
            "12864/12928 [============================>.] - ETA: 2s - loss: 0.8617 - acc: 0.5220\n",
            "Epoch 00001: val_acc improved from -inf to 0.57580, saving model to Ta_CNN_BiLSTMModel.h5\n",
            "12928/12928 [==============================] - 480s 37ms/sample - loss: 0.8618 - acc: 0.5222 - val_loss: 0.8009 - val_acc: 0.5758\n",
            "Epoch 2/30\n",
            "12864/12928 [============================>.] - ETA: 2s - loss: 0.7698 - acc: 0.6035\n",
            "Epoch 00002: val_acc improved from 0.57580 to 0.59468, saving model to Ta_CNN_BiLSTMModel.h5\n",
            "12928/12928 [==============================] - 489s 38ms/sample - loss: 0.7697 - acc: 0.6036 - val_loss: 0.7724 - val_acc: 0.5947\n",
            "Epoch 3/30\n",
            "12864/12928 [============================>.] - ETA: 2s - loss: 0.7309 - acc: 0.6395\n",
            "Epoch 00003: val_acc did not improve from 0.59468\n",
            "12928/12928 [==============================] - 488s 38ms/sample - loss: 0.7308 - acc: 0.6392 - val_loss: 0.7926 - val_acc: 0.5770\n",
            "Epoch 4/30\n",
            "12864/12928 [============================>.] - ETA: 2s - loss: 0.7049 - acc: 0.6590\n",
            "Epoch 00004: val_acc did not improve from 0.59468\n",
            "12928/12928 [==============================] - 487s 38ms/sample - loss: 0.7049 - acc: 0.6589 - val_loss: 0.7921 - val_acc: 0.5916\n",
            "Epoch 5/30\n",
            "12864/12928 [============================>.] - ETA: 2s - loss: 0.6704 - acc: 0.6769\n",
            "Epoch 00005: val_acc did not improve from 0.59468\n",
            "12928/12928 [==============================] - 483s 37ms/sample - loss: 0.6703 - acc: 0.6770 - val_loss: 0.8021 - val_acc: 0.5891\n",
            "Epoch 6/30\n",
            "12864/12928 [============================>.] - ETA: 2s - loss: 0.6246 - acc: 0.7070\n",
            "Epoch 00006: val_acc did not improve from 0.59468\n",
            "12928/12928 [==============================] - 485s 37ms/sample - loss: 0.6249 - acc: 0.7068 - val_loss: 0.8375 - val_acc: 0.5869\n",
            "Epoch 7/30\n",
            "12864/12928 [============================>.] - ETA: 2s - loss: 0.5599 - acc: 0.7491\n",
            "Epoch 00007: val_acc did not improve from 0.59468\n",
            "12928/12928 [==============================] - 490s 38ms/sample - loss: 0.5609 - acc: 0.7485 - val_loss: 0.9075 - val_acc: 0.5764\n",
            "\n",
            "------Evaluating the best model------\n",
            "\n",
            "Precision: 0.6018376335451376\n",
            "Recall: 0.6016865079365079\n",
            "F1-Score: 0.5861303498902185\n",
            "Accuracy: 0.6016865079365079\n",
            "\n",
            "                 precision    recall  f1-score   support\n",
            "\n",
            "Non_hope_speech       0.61      0.78      0.68       997\n",
            "    Hope_speech       0.61      0.37      0.46       757\n",
            "    not-English       0.56      0.59      0.57       262\n",
            "\n",
            "       accuracy                           0.60      2016\n",
            "      macro avg       0.59      0.58      0.57      2016\n",
            "   weighted avg       0.60      0.60      0.59      2016\n",
            " \n",
            "\n",
            "<sklearn.metrics._plot.confusion_matrix.ConfusionMatrixDisplay object at 0x7f5a234d4590>\n"
          ]
        },
        {
          "output_type": "display_data",
          "data": {
            "text/plain": [
              "<Figure size 432x288 with 2 Axes>"
            ],
            "image/png": "[encoded data removed]"
          },
          "metadata": {
            "needs_background": "light"
          }
        },
        {
          "output_type": "display_data",
          "data": {
            "text/plain": [
              "<Figure size 720x504 with 1 Axes>"
            ],
            "image/png": "[encoded data removed]"
          },
          "metadata": {}
        }
      ]
    },
    {
      "cell_type": "markdown",
      "metadata": {
        "id": "Q7PCJfL_ndS1"
      },
      "source": [
        "## CNN+BiLSTM Models"
      ]
    },
    {
      "cell_type": "code",
      "execution_count": null,
      "metadata": {
        "id": "2ILr5YLpDaBH"
      },
      "outputs": [],
      "source": [
        "En_CNN_BiLSTMModel = tf.keras.models.Sequential([\n",
        "          embedding_layer(),\n",
        "          Conv1D(128, 5, activation='relu'),\n",
        "          MaxPooling1D(5),\n",
        "          Bidirectional(LSTM(units = 32,return_sequences=True,dropout = 0.2)),\n",
        "          Flatten(),\n",
        "          Dense(3 , activation='softmax')\n",
        "        ])"
      ]
    },
    {
      "cell_type": "code",
      "execution_count": null,
      "metadata": {
        "id": "PoimjIa6Dz1K"
      },
      "outputs": [],
      "source": [
        "En_FT_CNN_BiLSTMModel = tf.keras.models.Sequential([\n",
        "            embedding_layer(embedding=True),\n",
        "            Conv1D(128, 5, activation='relu'),\n",
        "            MaxPooling1D(5),\n",
        "            Bidirectional(LSTM(units = 32,return_sequences=True,dropout = 0.2)),\n",
        "            Flatten(),\n",
        "            Dense(3 , activation='softmax')\n",
        "          ])"
      ]
    },
    {
      "cell_type": "code",
      "execution_count": null,
      "metadata": {
        "id": "VF7-mRRBSYNi"
      },
      "outputs": [],
      "source": [
        "Ta_CNN_BiLSTMModel = tf.keras.models.Sequential([\n",
        "          embedding_layer(),\n",
        "          Conv1D(128, 5, activation='relu'),\n",
        "          MaxPooling1D(5),\n",
        "          Bidirectional(LSTM(units = 32,return_sequences=True,dropout = 0.2)),\n",
        "          Flatten(),\n",
        "          Dense(3 , activation='softmax')\n",
        "        ])"
      ]
    },
    {
      "cell_type": "code",
      "source": [
        "Ta_FT_CNN_BiLSTMModel = tf.keras.models.Sequential([\n",
        "            embedding_layer(input_dim=tamil_vocab_len, input_length=tamil_maxlen, embedding=True, embedding_matrix=tamil_ft_matrix),\n",
        "            Conv1D(128, 5, activation='relu'),\n",
        "            MaxPooling1D(5),\n",
        "            Bidirectional(LSTM(units = 32,return_sequences=True,dropout = 0.2)),\n",
        "            Flatten(),\n",
        "            Dense(3 , activation='softmax')\n",
        "          ])"
      ],
      "metadata": {
        "id": "emr4lrsS1Bjp"
      },
      "execution_count": null,
      "outputs": []
    },
    {
      "cell_type": "markdown",
      "metadata": {
        "id": "0VzBod-sLMSE"
      },
      "source": [
        "### English\n",
        "---\n",
        "Train Accuracy: 0.9856  \n",
        "Validation Accuracy: 0.8891  \n",
        "----------Test Scores----------  \n",
        "Precision: 0.8975  \n",
        "Recall: 0.9124  \n",
        "F1-Score: 0.9013  \n",
        "Accuracy: 0.9124  "
      ]
    },
    {
      "cell_type": "code",
      "execution_count": null,
      "metadata": {
        "colab": {
          "base_uri": "https://localhost:8080/",
          "height": 1000
        },
        "id": "zQ4AyIpiayPq",
        "outputId": "71fdc237-48ca-48c2-a807-7579d72d7a45"
      },
      "outputs": [
        {
          "output_type": "stream",
          "name": "stdout",
          "text": [
            "\n",
            "----------Model Summary----------\n",
            "\n",
            "Model: \"sequential\"\n",
            "_________________________________________________________________\n",
            " Layer (type)                Output Shape              Param #   \n",
            "=================================================================\n",
            " embedding (Embedding)       (None, 100, 100)          1596100   \n",
            "                                                                 \n",
            " conv1d (Conv1D)             (None, 96, 128)           64128     \n",
            "                                                                 \n",
            " max_pooling1d (MaxPooling1D  (None, 19, 128)          0         \n",
            " )                                                               \n",
            "                                                                 \n",
            " bidirectional (Bidirectiona  (None, 19, 64)           41216     \n",
            " l)                                                              \n",
            "                                                                 \n",
            " flatten (Flatten)           (None, 1216)              0         \n",
            "                                                                 \n",
            " dense (Dense)               (None, 3)                 3651      \n",
            "                                                                 \n",
            "=================================================================\n",
            "Total params: 1,705,095\n",
            "Trainable params: 1,705,095\n",
            "Non-trainable params: 0\n",
            "_________________________________________________________________\n",
            "None\n",
            "\n",
            "----------Test Scores----------\n",
            "\n",
            "Precision: 0.8975122700641387\n",
            "Recall: 0.9124164614843475\n",
            "F1-Score: 0.9013949598620312\n",
            "Accuracy: 0.9124164614843475\n",
            "\n",
            "                 precision    recall  f1-score   support\n",
            "\n",
            "Non_hope_speech       0.93      0.97      0.95      2569\n",
            "    Hope_speech       0.58      0.33      0.42       272\n",
            "    not-English       0.00      0.00      0.00         2\n",
            "\n",
            "       accuracy                           0.91      2843\n",
            "      macro avg       0.50      0.44      0.46      2843\n",
            "   weighted avg       0.90      0.91      0.90      2843\n",
            " \n",
            "\n"
          ]
        },
        {
          "output_type": "display_data",
          "data": {
            "image/png": "[encoded data removed]",
            "text/plain": [
              "<Figure size 432x288 with 2 Axes>"
            ]
          },
          "metadata": {
            "needs_background": "light"
          }
        }
      ],
      "source": [
        "En_CNN_BiLSTM = create_model(model=En_CNN_BiLSTMModel, fit=False)"
      ]
    },
    {
      "cell_type": "code",
      "execution_count": null,
      "metadata": {
        "id": "heysCmiGuYEr"
      },
      "outputs": [],
      "source": [
        "scores['english_scores']['En_CNN_BiLSTM'] = 0.9013"
      ]
    },
    {
      "cell_type": "markdown",
      "metadata": {
        "id": "KIlnImWhLPqC"
      },
      "source": [
        "### English with FastText  \n",
        "---\n",
        "Train Accuracy: 0.915  \n",
        "Validation Accuracy: 0.903  \n",
        "----------Test Scores----------  \n",
        "Precision: 0.8905   \n",
        "Recall: 0.9103   \n",
        "F1-Score: 0.8926   \n",
        "Accuracy: 0.9103   "
      ]
    },
    {
      "cell_type": "code",
      "execution_count": null,
      "metadata": {
        "colab": {
          "base_uri": "https://localhost:8080/",
          "height": 1000
        },
        "id": "2RBH0J43G2kv",
        "outputId": "d8e63873-06e6-4ced-f9a8-691b8bcd1bd3"
      },
      "outputs": [
        {
          "output_type": "stream",
          "name": "stdout",
          "text": [
            "\n",
            "----------Model Summary----------\n",
            "\n",
            "Model: \"sequential_1\"\n",
            "_________________________________________________________________\n",
            " Layer (type)                Output Shape              Param #   \n",
            "=================================================================\n",
            " embedding_1 (Embedding)     (None, 100, 300)          4788300   \n",
            "                                                                 \n",
            " conv1d_1 (Conv1D)           (None, 96, 128)           192128    \n",
            "                                                                 \n",
            " max_pooling1d_1 (MaxPooling  (None, 19, 128)          0         \n",
            " 1D)                                                             \n",
            "                                                                 \n",
            " bidirectional_1 (Bidirectio  (None, 19, 64)           41216     \n",
            " nal)                                                            \n",
            "                                                                 \n",
            " flatten_1 (Flatten)         (None, 1216)              0         \n",
            "                                                                 \n",
            " dense_1 (Dense)             (None, 3)                 3651      \n",
            "                                                                 \n",
            "=================================================================\n",
            "Total params: 5,025,295\n",
            "Trainable params: 236,995\n",
            "Non-trainable params: 4,788,300\n",
            "_________________________________________________________________\n",
            "None\n",
            "\n",
            "----------Test Scores----------\n",
            "\n",
            "Precision: 0.8905201894497996\n",
            "Recall: 0.910306014773127\n",
            "F1-Score: 0.8926289998212259\n",
            "Accuracy: 0.910306014773127\n",
            "\n",
            "                 precision    recall  f1-score   support\n",
            "\n",
            "Non_hope_speech       0.92      0.98      0.95      2569\n",
            "    Hope_speech       0.59      0.24      0.34       272\n",
            "    not-English       0.00      0.00      0.00         2\n",
            "\n",
            "       accuracy                           0.91      2843\n",
            "      macro avg       0.50      0.41      0.43      2843\n",
            "   weighted avg       0.89      0.91      0.89      2843\n",
            " \n",
            "\n"
          ]
        },
        {
          "output_type": "display_data",
          "data": {
            "image/png": "[encoded data removed]",
            "text/plain": [
              "<Figure size 432x288 with 2 Axes>"
            ]
          },
          "metadata": {
            "needs_background": "light"
          }
        }
      ],
      "source": [
        "En_FT_CNN_BiLSTM = create_model(model=En_FT_CNN_BiLSTMModel, saved_model='En_FT_CNN_BiLSTMModel.h5', fit=False)"
      ]
    },
    {
      "cell_type": "code",
      "execution_count": null,
      "metadata": {
        "id": "hZ3uxS8NU-B2"
      },
      "outputs": [],
      "source": [
        "scores['english_scores']['En_FT_CNN_BiLSTM'] = 0.8926"
      ]
    },
    {
      "cell_type": "markdown",
      "metadata": {
        "id": "1AwWLPE3SqNn"
      },
      "source": [
        "### Tamil\n",
        "---\n",
        "Train Accuracy: 0.895  \n",
        "Validation Accuracy: 0.596   \n",
        "----------Test Scores----------  \n",
        "Precision: 0.6075  \n",
        "Recall: 0.6090  \n",
        "F1-Score: 0.5997  \n",
        "Accuracy: 0.6090  "
      ]
    },
    {
      "cell_type": "code",
      "source": [
        "Ta_CNN_BiLSTM = create_model(Xtrain=tamil_train_pad_seq, ytrain=tamil_ytrain, Xtest=tamil_test_pad_seq, \n",
        "                             ytest=tamil_ytest, saved_model='Ta_CNN_BiLSTMModel.h5', fit=False, labels=tamil_labels)"
      ],
      "metadata": {
        "colab": {
          "base_uri": "https://localhost:8080/",
          "height": 1000
        },
        "id": "jsj91b-hh6MS",
        "outputId": "06102314-74dc-4566-b7b3-49f40571c03a"
      },
      "execution_count": 48,
      "outputs": [
        {
          "output_type": "stream",
          "name": "stdout",
          "text": [
            "\n",
            "----------Model Summary----------\n",
            "\n",
            "Model: \"sequential_10\"\n",
            "_________________________________________________________________\n",
            " Layer (type)                Output Shape              Param #   \n",
            "=================================================================\n",
            " embedding_10 (Embedding)    (None, 100, 100)          1596100   \n",
            "                                                                 \n",
            " conv1d_10 (Conv1D)          (None, 96, 128)           64128     \n",
            "                                                                 \n",
            " max_pooling1d_10 (MaxPoolin  (None, 19, 128)          0         \n",
            " g1D)                                                            \n",
            "                                                                 \n",
            " bidirectional_10 (Bidirecti  (None, 19, 64)           41216     \n",
            " onal)                                                           \n",
            "                                                                 \n",
            " flatten_10 (Flatten)        (None, 1216)              0         \n",
            "                                                                 \n",
            " dense_10 (Dense)            (None, 3)                 3651      \n",
            "                                                                 \n",
            "=================================================================\n",
            "Total params: 1,705,095\n",
            "Trainable params: 1,705,095\n",
            "Non-trainable params: 0\n",
            "_________________________________________________________________\n",
            "None\n",
            "\n",
            "----------Test Scores----------\n",
            "\n",
            "Precision: 0.607864788914068\n",
            "Recall: 0.6091269841269841\n",
            "F1-Score: 0.5997989444172869\n",
            "Accuracy: 0.6091269841269841\n",
            "\n",
            "                 precision    recall  f1-score   support\n",
            "\n",
            "Non_hope_speech       0.64      0.73      0.68       997\n",
            "    Hope_speech       0.59      0.42      0.49       757\n",
            "      not-Tamil       0.54      0.70      0.61       262\n",
            "\n",
            "       accuracy                           0.61      2016\n",
            "      macro avg       0.59      0.62      0.59      2016\n",
            "   weighted avg       0.61      0.61      0.60      2016\n",
            " \n",
            "\n"
          ]
        },
        {
          "output_type": "display_data",
          "data": {
            "text/plain": [
              "<Figure size 432x288 with 2 Axes>"
            ],
            "image/png": "[encoded data removed]"
          },
          "metadata": {
            "needs_background": "light"
          }
        }
      ]
    },
    {
      "cell_type": "code",
      "execution_count": null,
      "metadata": {
        "colab": {
          "base_uri": "https://localhost:8080/",
          "height": 1000
        },
        "id": "U20StycESrtW",
        "outputId": "e6d70bd4-80e5-40a3-d9b0-6853b30c7b57"
      },
      "outputs": [
        {
          "output_type": "stream",
          "name": "stdout",
          "text": [
            "\n",
            "----------Model Summary----------\n",
            "\n",
            "Model: \"sequential_10\"\n",
            "_________________________________________________________________\n",
            " Layer (type)                Output Shape              Param #   \n",
            "=================================================================\n",
            " embedding_10 (Embedding)    (None, 100, 100)          1596100   \n",
            "                                                                 \n",
            " conv1d_10 (Conv1D)          (None, 96, 128)           64128     \n",
            "                                                                 \n",
            " max_pooling1d_10 (MaxPoolin  (None, 19, 128)          0         \n",
            " g1D)                                                            \n",
            "                                                                 \n",
            " bidirectional_10 (Bidirecti  (None, 19, 64)           41216     \n",
            " onal)                                                           \n",
            "                                                                 \n",
            " flatten_10 (Flatten)        (None, 1216)              0         \n",
            "                                                                 \n",
            " dense_10 (Dense)            (None, 3)                 3651      \n",
            "                                                                 \n",
            "=================================================================\n",
            "Total params: 1,705,095\n",
            "Trainable params: 1,705,095\n",
            "Non-trainable params: 0\n",
            "_________________________________________________________________\n",
            "None\n",
            "\n",
            "----------Test Scores----------\n",
            "\n",
            "Precision: 0.6075859648831323\n",
            "Recall: 0.6090188305252725\n",
            "F1-Score: 0.5997164226619283\n",
            "Accuracy: 0.6090188305252725\n",
            "\n",
            "                 precision    recall  f1-score   support\n",
            "\n",
            "Non_hope_speech       0.64      0.73      0.68       998\n",
            "    Hope_speech       0.59      0.42      0.49       757\n",
            "    not-English       0.54      0.70      0.61       263\n",
            "\n",
            "       accuracy                           0.61      2018\n",
            "      macro avg       0.59      0.61      0.59      2018\n",
            "   weighted avg       0.61      0.61      0.60      2018\n",
            " \n",
            "\n"
          ]
        },
        {
          "output_type": "display_data",
          "data": {
            "image/png": "[encoded data removed]",
            "text/plain": [
              "<Figure size 432x288 with 2 Axes>"
            ]
          },
          "metadata": {
            "needs_background": "light"
          }
        }
      ],
      "source": [
        "Ta_CNN_BiLSTM = create_model(Xtrain=tamil_train_pad_seq, ytrain=tamil_ytrain, Xtest=tamil_test_pad_seq, \n",
        "                             ytest=tamil_ytest, model=Ta_CNN_BiLSTMModel, saved_model='Ta_CNN_BiLSTMModel.h5', fit=False, labels=tamil_labels)"
      ]
    },
    {
      "cell_type": "code",
      "execution_count": null,
      "metadata": {
        "id": "Pd0T0El2VyhT"
      },
      "outputs": [],
      "source": [
        "scores['tamil_scores']['Ta_CNN_BiLSTM'] = 0.5997"
      ]
    },
    {
      "cell_type": "markdown",
      "metadata": {
        "id": "hKcwtzGxV99E"
      },
      "source": [
        "### Tamil with FastText  \n",
        "---\n",
        "Train Accuracy: 0.486  \n",
        "Validation Accuracy: 0.491  \n",
        "----------Test Scores----------  \n",
        "Precision: 0.5731  \n",
        "Recall: 0.5777  \n",
        "F1-Score: 0.5674  \n",
        "Accuracy: 0.5777  "
      ]
    },
    {
      "cell_type": "code",
      "execution_count": null,
      "metadata": {
        "colab": {
          "base_uri": "https://localhost:8080/",
          "height": 1000
        },
        "id": "H5Yt-niNRajf",
        "outputId": "16bfcba0-8295-4430-cec2-d9cd6e30699b"
      },
      "outputs": [
        {
          "output_type": "stream",
          "name": "stdout",
          "text": [
            "\n",
            "----------Model Summary----------\n",
            "\n",
            "Model: \"sequential_3\"\n",
            "_________________________________________________________________\n",
            " Layer (type)                Output Shape              Param #   \n",
            "=================================================================\n",
            " embedding_3 (Embedding)     (None, 100, 300)          9424500   \n",
            "                                                                 \n",
            " conv1d_3 (Conv1D)           (None, 96, 128)           192128    \n",
            "                                                                 \n",
            " max_pooling1d_3 (MaxPooling  (None, 19, 128)          0         \n",
            " 1D)                                                             \n",
            "                                                                 \n",
            " bidirectional_3 (Bidirectio  (None, 19, 64)           41216     \n",
            " nal)                                                            \n",
            "                                                                 \n",
            " flatten_3 (Flatten)         (None, 1216)              0         \n",
            "                                                                 \n",
            " dense_3 (Dense)             (None, 3)                 3651      \n",
            "                                                                 \n",
            "=================================================================\n",
            "Total params: 9,661,495\n",
            "Trainable params: 236,995\n",
            "Non-trainable params: 9,424,500\n",
            "_________________________________________________________________\n",
            "None\n",
            "\n",
            "----------Test Scores----------\n",
            "\n",
            "Precision: 0.573179816951464\n",
            "Recall: 0.5777998017839445\n",
            "F1-Score: 0.5674374921230962\n",
            "Accuracy: 0.5777998017839445\n",
            "\n",
            "                 precision    recall  f1-score   support\n",
            "\n",
            "Non_hope_speech       0.59      0.73      0.66       998\n",
            "    Hope_speech       0.56      0.41      0.47       757\n",
            "    not-English       0.54      0.49      0.52       263\n",
            "\n",
            "       accuracy                           0.58      2018\n",
            "      macro avg       0.56      0.54      0.55      2018\n",
            "   weighted avg       0.57      0.58      0.57      2018\n",
            " \n",
            "\n"
          ]
        },
        {
          "output_type": "display_data",
          "data": {
            "image/png": "[encoded data removed]",
            "text/plain": [
              "<Figure size 432x288 with 2 Axes>"
            ]
          },
          "metadata": {
            "needs_background": "light"
          }
        }
      ],
      "source": [
        "Ta_FT_CNN_BiLSTM = create_model(Xtrain=tamil_train_pad_seq, ytrain=tamil_hope_train['enc_label'], Xtest=tamil_test_pad_seq, \n",
        "                                ytest=tamil_hope_test['enc_label'], model=Ta_FT_CNN_BiLSTMModel, saved_model='Ta_FT_CNN_BiLSTMModel.h5', \n",
        "                                fit=False)"
      ]
    },
    {
      "cell_type": "code",
      "execution_count": null,
      "metadata": {
        "id": "Y2l2eu7hWQoA"
      },
      "outputs": [],
      "source": [
        "scores['tamil_scores']['Ta_FT_CNN_BiLSTM'] = 0.5674"
      ]
    },
    {
      "cell_type": "markdown",
      "source": [
        "## Elmo\n",
        "**Links**  \n",
        "https://towardsdatascience.com/transfer-learning-using-elmo-embedding-c4a7e415103c  \n",
        "https://towardsdatascience.com/elmo-embeddings-in-keras-with-tensorflow-hub-7eb6f0145440  \n",
        "https://www.youtube.com/watch?v=DXdJlY35eVE  \n",
        "https://github.com/strongio/keras-elmo/issues/12  "
      ],
      "metadata": {
        "id": "Zkulrd4WwdF8"
      }
    },
    {
      "cell_type": "markdown",
      "source": [
        "### English with Elmo\n",
        "Train Accuracy: 0.9231  \n",
        "Validation Accuracy: 0.913   \n",
        "----------Test Scores----------\n",
        "\n",
        "Precision: 0.8966  \n",
        "Recall: 0.9067  \n",
        "F1-Score: 0.9007  \n",
        "Accuracy: 0.9067  "
      ],
      "metadata": {
        "id": "kvgb3sj5W3o7"
      }
    },
    {
      "cell_type": "code",
      "source": [
        "elmo = hub.Module(\"https://tfhub.dev/google/elmo/3\", trainable=True)\n",
        "embeddings = elmo(\n",
        "    [\"the cat is on the mat\", \"dogs are in the fog\"],\n",
        "    signature=\"default\",\n",
        "    as_dict=True)\n",
        "embeddings"
      ],
      "metadata": {
        "colab": {
          "base_uri": "https://localhost:8080/"
        },
        "id": "XQ2GRIMcCUCQ",
        "outputId": "95340f36-be17-4071-de86-3bb45e68faa0"
      },
      "execution_count": null,
      "outputs": [
        {
          "output_type": "stream",
          "name": "stdout",
          "text": [
            "INFO:tensorflow:Saver not created because there are no variables in the graph to restore\n"
          ]
        },
        {
          "output_type": "stream",
          "name": "stderr",
          "text": [
            "INFO:tensorflow:Saver not created because there are no variables in the graph to restore\n"
          ]
        },
        {
          "output_type": "execute_result",
          "data": {
            "text/plain": [
              "{'default': <tf.Tensor 'module_apply_default/truediv:0' shape=(2, 1024) dtype=float32>,\n",
              " 'lstm_outputs1': <tf.Tensor 'module_apply_default/concat:0' shape=(2, 6, 1024) dtype=float32>,\n",
              " 'sequence_len': <tf.Tensor 'module_apply_default/Sum:0' shape=(2,) dtype=int32>,\n",
              " 'lstm_outputs2': <tf.Tensor 'module_apply_default/concat_1:0' shape=(2, ?, 1024) dtype=float32>,\n",
              " 'elmo': <tf.Tensor 'module_apply_default/aggregation/mul_3:0' shape=(2, 6, 1024) dtype=float32>,\n",
              " 'word_emb': <tf.Tensor 'module_apply_default/bilm/Reshape_1:0' shape=(2, 6, 512) dtype=float32>}"
            ]
          },
          "metadata": {},
          "execution_count": 41
        }
      ]
    },
    {
      "cell_type": "code",
      "source": [
        "def ELMoEmbedding(x):\n",
        "    return elmo(tf.squeeze(tf.cast(x, tf.string), axis=1), signature=\"default\", as_dict=True)[\"elmo\"]"
      ],
      "metadata": {
        "id": "t0LSleCThLXY"
      },
      "execution_count": null,
      "outputs": []
    },
    {
      "cell_type": "code",
      "source": [
        "En_ELMo_CNN_BiLSTMModel = tf.keras.models.Sequential([\n",
        "            Input(shape=(1,), dtype=\"string\"),\n",
        "            Lambda(ELMoEmbedding, output_shape=(1024, )),\n",
        "            Conv1D(256, 10, activation='relu'),\n",
        "            MaxPooling1D(2, 3),\n",
        "            Bidirectional(LSTM(units = 32,return_sequences=False,dropout = 0.3)),\n",
        "            Dense(3 , activation='softmax')\n",
        "          ])"
      ],
      "metadata": {
        "colab": {
          "base_uri": "https://localhost:8080/"
        },
        "id": "7eCqWh74rxIs",
        "outputId": "dad20945-8261-4a22-972c-38f996c1d547"
      },
      "execution_count": null,
      "outputs": [
        {
          "output_type": "stream",
          "name": "stdout",
          "text": [
            "WARNING:tensorflow:From /usr/local/lib/python3.7/dist-packages/tensorflow_core/python/ops/init_ops.py:97: calling GlorotUniform.__init__ (from tensorflow.python.ops.init_ops) with dtype is deprecated and will be removed in a future version.\n",
            "Instructions for updating:\n",
            "Call initializer instance with the dtype argument instead of passing it to the constructor\n"
          ]
        },
        {
          "output_type": "stream",
          "name": "stderr",
          "text": [
            "WARNING:tensorflow:From /usr/local/lib/python3.7/dist-packages/tensorflow_core/python/ops/init_ops.py:97: calling GlorotUniform.__init__ (from tensorflow.python.ops.init_ops) with dtype is deprecated and will be removed in a future version.\n",
            "Instructions for updating:\n",
            "Call initializer instance with the dtype argument instead of passing it to the constructor\n"
          ]
        },
        {
          "output_type": "stream",
          "name": "stdout",
          "text": [
            "WARNING:tensorflow:From /usr/local/lib/python3.7/dist-packages/tensorflow_core/python/ops/init_ops.py:97: calling Orthogonal.__init__ (from tensorflow.python.ops.init_ops) with dtype is deprecated and will be removed in a future version.\n",
            "Instructions for updating:\n",
            "Call initializer instance with the dtype argument instead of passing it to the constructor\n"
          ]
        },
        {
          "output_type": "stream",
          "name": "stderr",
          "text": [
            "WARNING:tensorflow:From /usr/local/lib/python3.7/dist-packages/tensorflow_core/python/ops/init_ops.py:97: calling Orthogonal.__init__ (from tensorflow.python.ops.init_ops) with dtype is deprecated and will be removed in a future version.\n",
            "Instructions for updating:\n",
            "Call initializer instance with the dtype argument instead of passing it to the constructor\n"
          ]
        },
        {
          "output_type": "stream",
          "name": "stdout",
          "text": [
            "WARNING:tensorflow:From /usr/local/lib/python3.7/dist-packages/tensorflow_core/python/ops/init_ops.py:97: calling Zeros.__init__ (from tensorflow.python.ops.init_ops) with dtype is deprecated and will be removed in a future version.\n",
            "Instructions for updating:\n",
            "Call initializer instance with the dtype argument instead of passing it to the constructor\n"
          ]
        },
        {
          "output_type": "stream",
          "name": "stderr",
          "text": [
            "WARNING:tensorflow:From /usr/local/lib/python3.7/dist-packages/tensorflow_core/python/ops/init_ops.py:97: calling Zeros.__init__ (from tensorflow.python.ops.init_ops) with dtype is deprecated and will be removed in a future version.\n",
            "Instructions for updating:\n",
            "Call initializer instance with the dtype argument instead of passing it to the constructor\n"
          ]
        },
        {
          "output_type": "stream",
          "name": "stdout",
          "text": [
            "INFO:tensorflow:Saver not created because there are no variables in the graph to restore\n"
          ]
        },
        {
          "output_type": "stream",
          "name": "stderr",
          "text": [
            "INFO:tensorflow:Saver not created because there are no variables in the graph to restore\n"
          ]
        },
        {
          "output_type": "stream",
          "name": "stdout",
          "text": [
            "WARNING:tensorflow:From /usr/local/lib/python3.7/dist-packages/tensorflow_core/python/ops/resource_variable_ops.py:1630: calling BaseResourceVariable.__init__ (from tensorflow.python.ops.resource_variable_ops) with constraint is deprecated and will be removed in a future version.\n",
            "Instructions for updating:\n",
            "If using Keras pass *_constraint arguments to layers.\n"
          ]
        },
        {
          "output_type": "stream",
          "name": "stderr",
          "text": [
            "WARNING:tensorflow:From /usr/local/lib/python3.7/dist-packages/tensorflow_core/python/ops/resource_variable_ops.py:1630: calling BaseResourceVariable.__init__ (from tensorflow.python.ops.resource_variable_ops) with constraint is deprecated and will be removed in a future version.\n",
            "Instructions for updating:\n",
            "If using Keras pass *_constraint arguments to layers.\n"
          ]
        }
      ]
    },
    {
      "cell_type": "code",
      "source": [
        "with tf.Session() as session:\n",
        "    tf.keras.backend.set_session(session)\n",
        "    session.run(tf.global_variables_initializer())\n",
        "    session.run(tf.tables_initializer())\n",
        "    En_ELMo_CNN_BiLSTM = create_model(Xtrain=english_Xtrain, ytrain=english_ytrain, Xtest=english_Xtest, ytest=english_ytest, val_split=0,\n",
        "                                      model=En_ELMo_CNN_BiLSTMModel, saved_model=\"En_ELMo_CNN_BiLSTMModel.h5\", fit=True)"
      ],
      "metadata": {
        "colab": {
          "base_uri": "https://localhost:8080/"
        },
        "id": "EJLoLqeYLen-",
        "outputId": "a4db4b1a-acac-43d4-906b-43e9c9a04fc4"
      },
      "execution_count": null,
      "outputs": [
        {
          "output_type": "stream",
          "name": "stdout",
          "text": [
            "\n",
            "----------Fitting Model----------\n",
            "\n",
            "WARNING:tensorflow:From /usr/local/lib/python3.7/dist-packages/tensorflow_core/python/ops/math_grad.py:1424: where (from tensorflow.python.ops.array_ops) is deprecated and will be removed in a future version.\n",
            "Instructions for updating:\n",
            "Use tf.where in 2.0, which has the same broadcast rule as np.where\n"
          ]
        },
        {
          "output_type": "stream",
          "name": "stderr",
          "text": [
            "WARNING:tensorflow:From /usr/local/lib/python3.7/dist-packages/tensorflow_core/python/ops/math_grad.py:1424: where (from tensorflow.python.ops.array_ops) is deprecated and will be removed in a future version.\n",
            "Instructions for updating:\n",
            "Use tf.where in 2.0, which has the same broadcast rule as np.where\n"
          ]
        },
        {
          "output_type": "stream",
          "name": "stdout",
          "text": [
            "Train on 22762 samples\n",
            "Epoch 1/30\n",
            "22752/22762 [============================>.] - ETA: 0s - loss: 0.2641 - acc: 0.9130WARNING:tensorflow:Can save best model only with val_acc available, skipping.\n"
          ]
        },
        {
          "output_type": "stream",
          "name": "stderr",
          "text": [
            "WARNING:tensorflow:Can save best model only with val_acc available, skipping.\n"
          ]
        },
        {
          "output_type": "stream",
          "name": "stdout",
          "text": [
            "\b\b\b\b\b\b\b\b\b\b\b\b\b\b\b\b\b\b\b\b\b\b\b\b\b\b\b\b\b\b\b\b\b\b\b\b\b\b\b\b\b\b\b\b\b\b\b\b\b\b\b\b\b\b\b\b\b\b\b\b\b\b\b\b\b\b\b\b\b\b\b\b\b\b\b\b\b\b\b\b\b\b\b\r22762/22762 [==============================] - 341s 15ms/sample - loss: 0.2640 - acc: 0.9130\n",
            "Epoch 2/30\n",
            "22752/22762 [============================>.] - ETA: 0s - loss: 0.2267 - acc: 0.9185WARNING:tensorflow:Can save best model only with val_acc available, skipping.\n"
          ]
        },
        {
          "output_type": "stream",
          "name": "stderr",
          "text": [
            "WARNING:tensorflow:Can save best model only with val_acc available, skipping.\n"
          ]
        },
        {
          "output_type": "stream",
          "name": "stdout",
          "text": [
            "\b\b\b\b\b\b\b\b\b\b\b\b\b\b\b\b\b\b\b\b\b\b\b\b\b\b\b\b\b\b\b\b\b\b\b\b\b\b\b\b\b\b\b\b\b\b\b\b\b\b\b\b\b\b\b\b\b\b\b\b\b\b\b\b\b\b\b\b\b\b\b\b\b\b\b\b\b\b\b\b\b\b\b\r22762/22762 [==============================] - 303s 13ms/sample - loss: 0.2267 - acc: 0.9185\n",
            "Epoch 3/30\n",
            "22752/22762 [============================>.] - ETA: 0s - loss: 0.2097 - acc: 0.9233WARNING:tensorflow:Can save best model only with val_acc available, skipping.\n"
          ]
        },
        {
          "output_type": "stream",
          "name": "stderr",
          "text": [
            "WARNING:tensorflow:Can save best model only with val_acc available, skipping.\n"
          ]
        },
        {
          "output_type": "stream",
          "name": "stdout",
          "text": [
            "\b\b\b\b\b\b\b\b\b\b\b\b\b\b\b\b\b\b\b\b\b\b\b\b\b\b\b\b\b\b\b\b\b\b\b\b\b\b\b\b\b\b\b\b\b\b\b\b\b\b\b\b\b\b\b\b\b\b\b\b\b\b\b\b\b\b\b\b\b\b\b\b\b\b\b\b\b\b\b\b\b\b\b\r22762/22762 [==============================] - 304s 13ms/sample - loss: 0.2096 - acc: 0.9234\n",
            "Epoch 4/30\n",
            "22752/22762 [============================>.] - ETA: 0s - loss: 0.1903 - acc: 0.9295WARNING:tensorflow:Can save best model only with val_acc available, skipping.\n"
          ]
        },
        {
          "output_type": "stream",
          "name": "stderr",
          "text": [
            "WARNING:tensorflow:Can save best model only with val_acc available, skipping.\n"
          ]
        },
        {
          "output_type": "stream",
          "name": "stdout",
          "text": [
            "\b\b\b\b\b\b\b\b\b\b\b\b\b\b\b\b\b\b\b\b\b\b\b\b\b\b\b\b\b\b\b\b\b\b\b\b\b\b\b\b\b\b\b\b\b\b\b\b\b\b\b\b\b\b\b\b\b\b\b\b\b\b\b\b\b\b\b\b\b\b\b\b\b\b\b\b\b\b\b\b\b\b\b\r22762/22762 [==============================] - 303s 13ms/sample - loss: 0.1903 - acc: 0.9295\n",
            "Epoch 5/30\n",
            "22752/22762 [============================>.] - ETA: 0s - loss: 0.1722 - acc: 0.9352WARNING:tensorflow:Can save best model only with val_acc available, skipping.\n"
          ]
        },
        {
          "output_type": "stream",
          "name": "stderr",
          "text": [
            "WARNING:tensorflow:Can save best model only with val_acc available, skipping.\n"
          ]
        },
        {
          "output_type": "stream",
          "name": "stdout",
          "text": [
            "\b\b\b\b\b\b\b\b\b\b\b\b\b\b\b\b\b\b\b\b\b\b\b\b\b\b\b\b\b\b\b\b\b\b\b\b\b\b\b\b\b\b\b\b\b\b\b\b\b\b\b\b\b\b\b\b\b\b\b\b\b\b\b\b\b\b\b\b\b\b\b\b\b\b\b\b\b\b\b\b\b\b\b\r22762/22762 [==============================] - 302s 13ms/sample - loss: 0.1722 - acc: 0.9352\n",
            "Epoch 6/30\n",
            "10912/22762 [=============>................] - ETA: 2:40 - loss: 0.1405 - acc: 0.9479"
          ]
        }
      ]
    },
    {
      "cell_type": "code",
      "source": [
        "En_ELMo_CNN_BiLSTM"
      ],
      "metadata": {
        "colab": {
          "base_uri": "https://localhost:8080/"
        },
        "id": "j2DS_AvV3xI9",
        "outputId": "46c0ef5e-521c-461c-e73a-f585027ee516"
      },
      "execution_count": null,
      "outputs": [
        {
          "output_type": "execute_result",
          "data": {
            "text/plain": [
              "(<tensorflow.python.keras.engine.sequential.Sequential at 0x7f6d1a6a0ed0>,\n",
              " array([0, 0, 0, 0, 0]),\n",
              " <tensorflow.python.keras.callbacks.History at 0x7f6d1aa1a910>,\n",
              " {'F1-Score': 0.7111111111111111,\n",
              "  'Accuracy': 0.8,\n",
              "  'Precision': 0.64,\n",
              "  'Recall': 0.8,\n",
              "  'Classification Report': '                 precision    recall  f1-score   support\\n\\nNon_hope_speech       0.80      1.00      0.89         4\\n    Hope_speech       0.00      0.00      0.00         1\\n    not-English       0.00      0.00      0.00         0\\n\\n      micro avg       0.80      0.80      0.80         5\\n      macro avg       0.27      0.33      0.30         5\\n   weighted avg       0.64      0.80      0.71         5\\n',\n",
              "  'Confusion Matrix Display': <sklearn.metrics._plot.confusion_matrix.ConfusionMatrixDisplay at 0x7f6d1a702e10>})"
            ]
          },
          "metadata": {},
          "execution_count": 45
        }
      ]
    },
    {
      "cell_type": "code",
      "source": [
        "plot_history(En_ELMo_CNN_BiLSTM[2], '/content/plots/En_ELMo_CNN_BiLSTMHistory.png')"
      ],
      "metadata": {
        "colab": {
          "base_uri": "https://localhost:8080/",
          "height": 462
        },
        "id": "fbzCCeji3rwM",
        "outputId": "9753b08c-dcb7-4d4e-aa5b-c2fc15f5ec02"
      },
      "execution_count": null,
      "outputs": [
        {
          "output_type": "display_data",
          "data": {
            "text/plain": [
              "<Figure size 720x504 with 1 Axes>"
            ],
            "image/png": "[encoded data removed]"
          },
          "metadata": {}
        }
      ]
    },
    {
      "cell_type": "code",
      "source": [
        "with tf.Session() as session:\n",
        "    tf.keras.backend.set_session(session)\n",
        "    session.run(tf.global_variables_initializer())  \n",
        "    session.run(tf.tables_initializer())\n",
        "    En_ELMo_CNN_BiLSTM = create_model(Xtrain=english_Xtrain, ytrain=english_ytrain, Xtest=english_Xtest, ytest=english_ytest,\n",
        "                                      lr=0.001, batch_size=32, epochs=5, val_split=0.3, saved_model=\"En_ELMo_CNN_BiLSTMModel.h5\", fit=True)"
      ],
      "metadata": {
        "colab": {
          "base_uri": "https://localhost:8080/",
          "height": 1000
        },
        "id": "cU067J6B_LWl",
        "outputId": "445f4ff0-2b89-4d5d-8112-27af5752d4af"
      },
      "execution_count": null,
      "outputs": [
        {
          "output_type": "stream",
          "name": "stdout",
          "text": [
            "INFO:tensorflow:Saver not created because there are no variables in the graph to restore\n"
          ]
        },
        {
          "output_type": "stream",
          "name": "stderr",
          "text": [
            "INFO:tensorflow:Saver not created because there are no variables in the graph to restore\n"
          ]
        },
        {
          "output_type": "stream",
          "name": "stdout",
          "text": [
            "WARNING:tensorflow:From /usr/local/lib/python3.7/dist-packages/tensorflow_core/python/ops/math_grad.py:1424: where (from tensorflow.python.ops.array_ops) is deprecated and will be removed in a future version.\n",
            "Instructions for updating:\n",
            "Use tf.where in 2.0, which has the same broadcast rule as np.where\n"
          ]
        },
        {
          "output_type": "stream",
          "name": "stderr",
          "text": [
            "WARNING:tensorflow:From /usr/local/lib/python3.7/dist-packages/tensorflow_core/python/ops/math_grad.py:1424: where (from tensorflow.python.ops.array_ops) is deprecated and will be removed in a future version.\n",
            "Instructions for updating:\n",
            "Use tf.where in 2.0, which has the same broadcast rule as np.where\n"
          ]
        },
        {
          "output_type": "stream",
          "name": "stdout",
          "text": [
            "\n",
            "----------Fitting Model----------\n",
            "\n",
            "Train on 15933 samples, validate on 6829 samples\n",
            "Epoch 1/5\n",
            "15904/15933 [============================>.] - ETA: 0s - loss: 0.1839 - acc: 0.9319\n",
            "Epoch 00001: val_acc improved from -inf to 0.91419, saving model to En_ELMo_CNN_BiLSTMModel.h5\n",
            "15933/15933 [==============================] - 330s 21ms/sample - loss: 0.1841 - acc: 0.9318 - val_loss: 0.2353 - val_acc: 0.9142\n",
            "Epoch 2/5\n",
            "15904/15933 [============================>.] - ETA: 0s - loss: 0.1482 - acc: 0.9453\n",
            "Epoch 00002: val_acc improved from 0.91419 to 0.91712, saving model to En_ELMo_CNN_BiLSTMModel.h5\n",
            "15933/15933 [==============================] - 294s 18ms/sample - loss: 0.1481 - acc: 0.9453 - val_loss: 0.2465 - val_acc: 0.9171\n",
            "Epoch 3/5\n",
            "15904/15933 [============================>.] - ETA: 0s - loss: 0.1113 - acc: 0.9589\n",
            "Epoch 00003: val_acc did not improve from 0.91712\n",
            "15933/15933 [==============================] - 292s 18ms/sample - loss: 0.1112 - acc: 0.9590 - val_loss: 0.2817 - val_acc: 0.9077\n",
            "Epoch 4/5\n",
            "15904/15933 [============================>.] - ETA: 0s - loss: 0.0782 - acc: 0.9732\n",
            "Epoch 00004: val_acc did not improve from 0.91712\n",
            "15933/15933 [==============================] - 289s 18ms/sample - loss: 0.0782 - acc: 0.9731 - val_loss: 0.3269 - val_acc: 0.9114\n",
            "Epoch 5/5\n",
            "15904/15933 [============================>.] - ETA: 0s - loss: 0.0626 - acc: 0.9790\n",
            "Epoch 00005: val_acc did not improve from 0.91712\n",
            "15933/15933 [==============================] - 292s 18ms/sample - loss: 0.0625 - acc: 0.9790 - val_loss: 0.3614 - val_acc: 0.9104\n",
            "INFO:tensorflow:Saver not created because there are no variables in the graph to restore\n"
          ]
        },
        {
          "output_type": "stream",
          "name": "stderr",
          "text": [
            "INFO:tensorflow:Saver not created because there are no variables in the graph to restore\n"
          ]
        },
        {
          "output_type": "stream",
          "name": "stdout",
          "text": [
            "\n",
            "----------Model Summary----------\n",
            "\n",
            "Model: \"sequential\"\n",
            "_________________________________________________________________\n",
            "Layer (type)                 Output Shape              Param #   \n",
            "=================================================================\n",
            "lambda (Lambda)              (None, None, 1024)        0         \n",
            "_________________________________________________________________\n",
            "conv1d (Conv1D)              (None, None, 128)         655488    \n",
            "_________________________________________________________________\n",
            "max_pooling1d (MaxPooling1D) (None, None, 128)         0         \n",
            "_________________________________________________________________\n",
            "bidirectional (Bidirectional (None, 64)                41216     \n",
            "_________________________________________________________________\n",
            "dense (Dense)                (None, 3)                 195       \n",
            "=================================================================\n",
            "Total params: 696,899\n",
            "Trainable params: 696,899\n",
            "Non-trainable params: 0\n",
            "_________________________________________________________________\n",
            "None\n",
            "\n",
            "----------Test Scores----------\n",
            "\n",
            "Precision: 0.8923180401809435\n",
            "Recall: 0.9081955680619065\n",
            "F1-Score: 0.8971547177770111\n",
            "Accuracy: 0.9081955680619065\n",
            "\n",
            "                 precision    recall  f1-score   support\n",
            "\n",
            "Non_hope_speech       0.93      0.97      0.95      2569\n",
            "    Hope_speech       0.54      0.32      0.40       272\n",
            "    not-English       0.00      0.00      0.00         2\n",
            "\n",
            "       accuracy                           0.91      2843\n",
            "      macro avg       0.49      0.43      0.45      2843\n",
            "   weighted avg       0.89      0.91      0.90      2843\n",
            " \n",
            "\n"
          ]
        },
        {
          "output_type": "display_data",
          "data": {
            "text/plain": [
              "<Figure size 432x288 with 2 Axes>"
            ],
            "image/png": "[encoded data removed]"
          },
          "metadata": {
            "needs_background": "light"
          }
        }
      ]
    },
    {
      "cell_type": "markdown",
      "source": [
        "### Tamil with Elmo\n",
        "Train Accuracy: 0.6247  \n",
        "Validation Accuracy: 0.5856   \n",
        "----------Test Scores----------\n",
        "\n",
        "Precision: 0.5758  \n",
        "Recall: 0.5823  \n",
        "F1-Score: 0.5725  \n",
        "Accuracy: 0.5823  "
      ],
      "metadata": {
        "id": "REbyQimrYt5B"
      }
    },
    {
      "cell_type": "code",
      "source": [
        "tamil_elmo = hub.Module(\"https://tfhub.dev/google/elmo/3\", trainable=True)"
      ],
      "metadata": {
        "id": "Px9Y7xY1Ho3h"
      },
      "execution_count": null,
      "outputs": []
    },
    {
      "cell_type": "code",
      "source": [
        "def Ta_ELMoEmbedding(x):\n",
        "    return tamil_elmo(tf.squeeze(tf.cast(x, tf.string)), signature=\"default\", as_dict=True)[\"elmo\"]"
      ],
      "metadata": {
        "id": "poNIypjHVXyB"
      },
      "execution_count": null,
      "outputs": []
    },
    {
      "cell_type": "code",
      "source": [
        "Ta_ELMo_CNN_BiLSTMModel = tf.keras.models.Sequential([\n",
        "            Input(shape=(1,), dtype=\"string\"),\n",
        "            Lambda(Ta_ELMoEmbedding, output_shape=(1024, )),\n",
        "            Conv1D(128, 5, activation='relu'),\n",
        "            MaxPooling1D(5),\n",
        "            Bidirectional(LSTM(units = 32,return_sequences=False,dropout = 0.2)),\n",
        "            Dense(3 , activation='softmax')\n",
        "          ])"
      ],
      "metadata": {
        "colab": {
          "base_uri": "https://localhost:8080/"
        },
        "id": "kujSeJAgHtkf",
        "outputId": "9489c0e0-a431-4002-afc3-745fe6c11157"
      },
      "execution_count": null,
      "outputs": [
        {
          "output_type": "stream",
          "name": "stdout",
          "text": [
            "INFO:tensorflow:Saver not created because there are no variables in the graph to restore\n"
          ]
        },
        {
          "output_type": "stream",
          "name": "stderr",
          "text": [
            "INFO:tensorflow:Saver not created because there are no variables in the graph to restore\n"
          ]
        }
      ]
    },
    {
      "cell_type": "code",
      "source": [
        "with tf.Session() as session:\n",
        "    tf.keras.backend.set_session(session)\n",
        "    session.run(tf.global_variables_initializer())  \n",
        "    session.run(tf.tables_initializer())\n",
        "    Ta_ELMo_CNN_BiLSTM = create_model(Xtrain=tamil_Xtrain, ytrain=tamil_ytrain, Xtest=tamil_Xtest, ytest=tamil_ytest,\n",
        "                                      lr=0.001, batch_size=32, epochs=5, val_split=0.3, model=Ta_ELMo_CNN_BiLSTMModel,\n",
        "                                      saved_model=\"Ta_ELMo_CNN_BiLSTMModel.h5\", fit=True, plot=False)"
      ],
      "metadata": {
        "colab": {
          "base_uri": "https://localhost:8080/"
        },
        "id": "yo1AIKUqVdAG",
        "outputId": "13401f66-8329-4b85-f5bb-6c038b44191b"
      },
      "execution_count": null,
      "outputs": [
        {
          "output_type": "stream",
          "name": "stdout",
          "text": [
            "\n",
            "----------Fitting Model----------\n",
            "\n",
            "Train on 11312 samples, validate on 4848 samples\n",
            "Epoch 1/5\n",
            "11296/11312 [============================>.] - ETA: 3s - loss: 0.8257 - acc: 0.5398 \n",
            "Epoch 00001: val_acc improved from -inf to 0.56724, saving model to Ta_ELMo_CNN_BiLSTMModel.h5\n",
            "11312/11312 [==============================] - 3996s 353ms/sample - loss: 0.8256 - acc: 0.5398 - val_loss: 0.7945 - val_acc: 0.5672\n",
            "Epoch 2/5\n",
            "11296/11312 [============================>.] - ETA: 4s - loss: 0.7791 - acc: 0.5786 \n",
            "Epoch 00002: val_acc improved from 0.56724 to 0.57302, saving model to Ta_ELMo_CNN_BiLSTMModel.h5\n",
            "11312/11312 [==============================] - 4125s 365ms/sample - loss: 0.7791 - acc: 0.5787 - val_loss: 0.7809 - val_acc: 0.5730\n",
            "Epoch 3/5\n",
            "11296/11312 [============================>.] - ETA: 4s - loss: 0.7474 - acc: 0.6052 \n",
            "Epoch 00003: val_acc improved from 0.57302 to 0.57673, saving model to Ta_ELMo_CNN_BiLSTMModel.h5\n",
            "11312/11312 [==============================] - 4208s 372ms/sample - loss: 0.7473 - acc: 0.6052 - val_loss: 0.7763 - val_acc: 0.5767\n",
            "Epoch 4/5\n",
            "  608/11312 [>.............................] - ETA: 46:21 - loss: 0.7104 - acc: 0.6234"
          ]
        }
      ]
    },
    {
      "cell_type": "code",
      "source": [
        "with tf.Session() as session:\n",
        "    tf.keras.backend.set_session(session)\n",
        "    session.run(tf.global_variables_initializer())  \n",
        "    session.run(tf.tables_initializer())\n",
        "    Ta_ELMo_CNN_BiLSTM = create_model(Xtrain=tamil_Xtrain, ytrain=tamil_ytrain, Xtest=tamil_Xtest, ytest=tamil_ytest,\n",
        "                                      lr=0.001, batch_size=32, epochs=2, val_split=0.3, saved_model=\"Ta_ELMo_CNN_BiLSTMModel-3.h5\", fit=False)"
      ],
      "metadata": {
        "colab": {
          "base_uri": "https://localhost:8080/",
          "height": 1000
        },
        "id": "RT5w5P-pZ7jH",
        "outputId": "5ee7d6f5-7175-4322-e473-de3ee7935d98"
      },
      "execution_count": null,
      "outputs": [
        {
          "output_type": "stream",
          "name": "stdout",
          "text": [
            "INFO:tensorflow:Saver not created because there are no variables in the graph to restore\n"
          ]
        },
        {
          "output_type": "stream",
          "name": "stderr",
          "text": [
            "INFO:tensorflow:Saver not created because there are no variables in the graph to restore\n"
          ]
        },
        {
          "output_type": "stream",
          "name": "stdout",
          "text": [
            "\n",
            "----------Model Summary----------\n",
            "\n",
            "Model: \"sequential_1\"\n",
            "_________________________________________________________________\n",
            "Layer (type)                 Output Shape              Param #   \n",
            "=================================================================\n",
            "lambda_1 (Lambda)            (None, None, 1024)        0         \n",
            "_________________________________________________________________\n",
            "conv1d_1 (Conv1D)            (None, None, 128)         655488    \n",
            "_________________________________________________________________\n",
            "max_pooling1d_1 (MaxPooling1 (None, None, 128)         0         \n",
            "_________________________________________________________________\n",
            "bidirectional_1 (Bidirection (None, 64)                41216     \n",
            "_________________________________________________________________\n",
            "dense_1 (Dense)              (None, 3)                 195       \n",
            "=================================================================\n",
            "Total params: 696,899\n",
            "Trainable params: 696,899\n",
            "Non-trainable params: 0\n",
            "_________________________________________________________________\n",
            "None\n",
            "\n",
            "----------Test Scores----------\n",
            "\n",
            "Precision: 0.5758934463988165\n",
            "Recall: 0.5823412698412699\n",
            "F1-Score: 0.5725895667631292\n",
            "Accuracy: 0.5823412698412699\n",
            "\n",
            "                 precision    recall  f1-score   support\n",
            "\n",
            "Non_hope_speech       0.62      0.70      0.66       997\n",
            "    Hope_speech       0.53      0.39      0.45       757\n",
            "    not-English       0.55      0.70      0.62       262\n",
            "\n",
            "       accuracy                           0.58      2016\n",
            "      macro avg       0.57      0.60      0.57      2016\n",
            "   weighted avg       0.58      0.58      0.57      2016\n",
            " \n",
            "\n"
          ]
        },
        {
          "output_type": "display_data",
          "data": {
            "text/plain": [
              "<Figure size 432x288 with 2 Axes>"
            ],
            "image/png": "[encoded data removed]"
          },
          "metadata": {
            "needs_background": "light"
          }
        }
      ]
    },
    {
      "cell_type": "markdown",
      "metadata": {
        "id": "Z-CrXv5UZ6tL"
      },
      "source": [
        "## Plots"
      ]
    },
    {
      "cell_type": "code",
      "execution_count": null,
      "metadata": {
        "colab": {
          "base_uri": "https://localhost:8080/",
          "height": 351
        },
        "id": "VWnmBXBSaCUG",
        "outputId": "7d2a73bc-dae1-4580-8b84-b186db836ce7"
      },
      "outputs": [
        {
          "output_type": "display_data",
          "data": {
            "image/png": "[encoded data removed]",
            "text/plain": [
              "<Figure size 720x360 with 1 Axes>"
            ]
          },
          "metadata": {
            "needs_background": "light"
          }
        }
      ],
      "source": [
        "plt.figure(figsize=(10,5))\n",
        "plt.plot(list(scores['english_scores'].keys())+list(scores['tamil_scores'].keys()), list(scores['english_scores'].values())+list(scores['tamil_scores'].values()), 'o-')\n",
        "plt.xlabel('Models')\n",
        "plt.ylabel('F1 scores')\n",
        "plt.title('Scores')\n",
        "plt.show()"
      ]
    }
  ],
  "metadata": {
    "colab": {
      "collapsed_sections": [
        "tN3hU3CapVvS",
        "MM-kTZHZuDes",
        "c71tyhaBuTgs",
        "Euerd2cDuS7F",
        "c0ha9syuDTWE",
        "fL5_3IhdE7Cp",
        "9xn4a7FOo6mX",
        "pADRQ1o6E_fQ",
        "iwJKN9QLGmr3",
        "Oxhob4KXEUDU",
        "j7SAuQUVIdFf",
        "A8pFf3ZzUDeM",
        "yW4O2F0-Ielg",
        "bj62NJecUkd-",
        "sRkfGfweER8p",
        "izcpkMPbHNxG",
        "B8PL4mX0M0Gf",
        "0Rq-A2AIHxjY",
        "Ax2lSo8cRH6O",
        "qerzqCY3EaOZ",
        "MHk7HCntQvwj",
        "sWBU-1PmhGdK",
        "wxRewg34VocU",
        "Sp8xzpFYkH5Y",
        "ko-VlOG4EcDo",
        "AUeCDPcZkmrP",
        "WGJhQKnqlPjC",
        "aC_CxqO1Kccd",
        "NQch7IA3nZsx",
        "8iHuuBtfPz4R",
        "oOdA6DRjP3NC",
        "eNaiBhF-Aj1m",
        "NJ5aJHKH0Qvv",
        "Wrtvtza81txd",
        "eMyxIQ6T5NgF",
        "FMgGLkeP0USG",
        "f_2v3495VQgB",
        "Q7PCJfL_ndS1",
        "1AwWLPE3SqNn",
        "hKcwtzGxV99E",
        "Zkulrd4WwdF8",
        "gR5u1RTkY0wY",
        "Z-CrXv5UZ6tL",
        "a3KsllbZ3hsX"
      ],
      "name": "Hope Speech Detection.ipynb",
      "provenance": [],
      "toc_visible": true,
      "include_colab_link": true
    },
    "kernelspec": {
      "display_name": "Python 3",
      "name": "python3"
    },
    "language_info": {
      "name": "python"
    },
    "accelerator": "GPU"
  },
  "nbformat": 4,
  "nbformat_minor": 0
}